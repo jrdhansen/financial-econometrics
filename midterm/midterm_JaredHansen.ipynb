{
 "cells": [
  {
   "cell_type": "markdown",
   "metadata": {},
   "source": [
    "# Finance 5330 - Midterm Replication Project\n",
    "## Jared Hansen, A01439768"
   ]
  },
  {
   "cell_type": "code",
   "execution_count": null,
   "metadata": {},
   "outputs": [],
   "source": [
    "\n",
    "\n",
    "\n",
    "\n",
    "\n"
   ]
  },
  {
   "cell_type": "markdown",
   "metadata": {},
   "source": [
    "## Import statements, set seed"
   ]
  },
  {
   "cell_type": "code",
   "execution_count": 1,
   "metadata": {},
   "outputs": [
    {
     "name": "stderr",
     "output_type": "stream",
     "text": [
      "C:\\Users\\jrdha\\Anaconda3\\lib\\site-packages\\statsmodels\\compat\\pandas.py:56: FutureWarning: The pandas.core.datetools module is deprecated and will be removed in a future version. Please use the pandas.tseries module instead.\n",
      "  from pandas.core import datetools\n"
     ]
    }
   ],
   "source": [
    "import numpy as np\n",
    "import pandas as pd\n",
    "import matplotlib.pyplot as plt \n",
    "import matplotlib.mlab as mlab\n",
    "import scipy.stats as stats\n",
    "import math\n",
    "import random\n",
    "import statsmodels\n",
    "from statsmodels.tsa.stattools import adfuller\n",
    "from sklearn import linear_model\n",
    "\n",
    "USA=1776\n",
    "random.seed(USA)\n",
    "np.random.seed(USA)"
   ]
  },
  {
   "cell_type": "code",
   "execution_count": null,
   "metadata": {},
   "outputs": [],
   "source": [
    "\n",
    "\n",
    "\n",
    "\n",
    "\n",
    "\n",
    "\n",
    "\n",
    "\n",
    "\n",
    "\n"
   ]
  },
  {
   "cell_type": "markdown",
   "metadata": {},
   "source": [
    "# Data Pre-Processing"
   ]
  },
  {
   "cell_type": "code",
   "execution_count": 2,
   "metadata": {},
   "outputs": [
    {
     "data": {
      "text/html": [
       "<div>\n",
       "<style scoped>\n",
       "    .dataframe tbody tr th:only-of-type {\n",
       "        vertical-align: middle;\n",
       "    }\n",
       "\n",
       "    .dataframe tbody tr th {\n",
       "        vertical-align: top;\n",
       "    }\n",
       "\n",
       "    .dataframe thead th {\n",
       "        text-align: right;\n",
       "    }\n",
       "</style>\n",
       "<table border=\"1\" class=\"dataframe\">\n",
       "  <thead>\n",
       "    <tr style=\"text-align: right;\">\n",
       "      <th></th>\n",
       "      <th>Date</th>\n",
       "      <th>AWR</th>\n",
       "    </tr>\n",
       "  </thead>\n",
       "  <tbody>\n",
       "    <tr>\n",
       "      <th>0</th>\n",
       "      <td>1997-01-02</td>\n",
       "      <td>7.291667</td>\n",
       "    </tr>\n",
       "    <tr>\n",
       "      <th>1</th>\n",
       "      <td>1997-01-03</td>\n",
       "      <td>7.291667</td>\n",
       "    </tr>\n",
       "    <tr>\n",
       "      <th>2</th>\n",
       "      <td>1997-01-06</td>\n",
       "      <td>7.333333</td>\n",
       "    </tr>\n",
       "    <tr>\n",
       "      <th>3</th>\n",
       "      <td>1997-01-07</td>\n",
       "      <td>7.333333</td>\n",
       "    </tr>\n",
       "    <tr>\n",
       "      <th>4</th>\n",
       "      <td>1997-01-08</td>\n",
       "      <td>7.416667</td>\n",
       "    </tr>\n",
       "  </tbody>\n",
       "</table>\n",
       "</div>"
      ],
      "text/plain": [
       "         Date       AWR\n",
       "0  1997-01-02  7.291667\n",
       "1  1997-01-03  7.291667\n",
       "2  1997-01-06  7.333333\n",
       "3  1997-01-07  7.333333\n",
       "4  1997-01-08  7.416667"
      ]
     },
     "execution_count": 2,
     "metadata": {},
     "output_type": "execute_result"
    }
   ],
   "source": [
    "# NOTE: will want to just zip the data with ipynb file for final product.\n",
    "# Read in the data\n",
    "data = pd.read_csv('WaterStocksAdj.csv', parse_dates=True)\n",
    "\n",
    "#Let's rename the columns for easier access to the data\n",
    "data.columns = ['Date', 'CTWS', 'WTR', 'AWR']\n",
    "\n",
    "# Subset to just the CTWS, WTR, and AWR series, keeping the Data column with each series\n",
    "ctws = data[['Date','CTWS']]\n",
    "wtr = data[['Date','WTR']]\n",
    "awr = data[['Date','AWR']]"
   ]
  },
  {
   "cell_type": "code",
   "execution_count": null,
   "metadata": {},
   "outputs": [],
   "source": [
    "\n",
    "\n",
    "\n",
    "\n",
    "\n",
    "\n"
   ]
  },
  {
   "cell_type": "markdown",
   "metadata": {},
   "source": [
    "Let's make sure that the code ran correctly, and take a look at the first few observations in each series."
   ]
  },
  {
   "cell_type": "code",
   "execution_count": 3,
   "metadata": {},
   "outputs": [
    {
     "data": {
      "text/html": [
       "<div>\n",
       "<style scoped>\n",
       "    .dataframe tbody tr th:only-of-type {\n",
       "        vertical-align: middle;\n",
       "    }\n",
       "\n",
       "    .dataframe tbody tr th {\n",
       "        vertical-align: top;\n",
       "    }\n",
       "\n",
       "    .dataframe thead th {\n",
       "        text-align: right;\n",
       "    }\n",
       "</style>\n",
       "<table border=\"1\" class=\"dataframe\">\n",
       "  <thead>\n",
       "    <tr style=\"text-align: right;\">\n",
       "      <th></th>\n",
       "      <th>Date</th>\n",
       "      <th>CTWS</th>\n",
       "    </tr>\n",
       "  </thead>\n",
       "  <tbody>\n",
       "    <tr>\n",
       "      <th>0</th>\n",
       "      <td>1997-01-02</td>\n",
       "      <td>13.000000</td>\n",
       "    </tr>\n",
       "    <tr>\n",
       "      <th>1</th>\n",
       "      <td>1997-01-03</td>\n",
       "      <td>13.000000</td>\n",
       "    </tr>\n",
       "    <tr>\n",
       "      <th>2</th>\n",
       "      <td>1997-01-06</td>\n",
       "      <td>13.000000</td>\n",
       "    </tr>\n",
       "    <tr>\n",
       "      <th>3</th>\n",
       "      <td>1997-01-07</td>\n",
       "      <td>13.222222</td>\n",
       "    </tr>\n",
       "    <tr>\n",
       "      <th>4</th>\n",
       "      <td>1997-01-08</td>\n",
       "      <td>13.333333</td>\n",
       "    </tr>\n",
       "  </tbody>\n",
       "</table>\n",
       "</div>"
      ],
      "text/plain": [
       "         Date       CTWS\n",
       "0  1997-01-02  13.000000\n",
       "1  1997-01-03  13.000000\n",
       "2  1997-01-06  13.000000\n",
       "3  1997-01-07  13.222222\n",
       "4  1997-01-08  13.333333"
      ]
     },
     "execution_count": 3,
     "metadata": {},
     "output_type": "execute_result"
    }
   ],
   "source": [
    "ctws.head()"
   ]
  },
  {
   "cell_type": "code",
   "execution_count": 4,
   "metadata": {},
   "outputs": [
    {
     "data": {
      "text/html": [
       "<div>\n",
       "<style scoped>\n",
       "    .dataframe tbody tr th:only-of-type {\n",
       "        vertical-align: middle;\n",
       "    }\n",
       "\n",
       "    .dataframe tbody tr th {\n",
       "        vertical-align: top;\n",
       "    }\n",
       "\n",
       "    .dataframe thead th {\n",
       "        text-align: right;\n",
       "    }\n",
       "</style>\n",
       "<table border=\"1\" class=\"dataframe\">\n",
       "  <thead>\n",
       "    <tr style=\"text-align: right;\">\n",
       "      <th></th>\n",
       "      <th>Date</th>\n",
       "      <th>WTR</th>\n",
       "    </tr>\n",
       "  </thead>\n",
       "  <tbody>\n",
       "    <tr>\n",
       "      <th>0</th>\n",
       "      <td>1997-01-02</td>\n",
       "      <td>4.492811</td>\n",
       "    </tr>\n",
       "    <tr>\n",
       "      <th>1</th>\n",
       "      <td>1997-01-03</td>\n",
       "      <td>4.665612</td>\n",
       "    </tr>\n",
       "    <tr>\n",
       "      <th>2</th>\n",
       "      <td>1997-01-06</td>\n",
       "      <td>4.636812</td>\n",
       "    </tr>\n",
       "    <tr>\n",
       "      <th>3</th>\n",
       "      <td>1997-01-07</td>\n",
       "      <td>4.608011</td>\n",
       "    </tr>\n",
       "    <tr>\n",
       "      <th>4</th>\n",
       "      <td>1997-01-08</td>\n",
       "      <td>4.636812</td>\n",
       "    </tr>\n",
       "  </tbody>\n",
       "</table>\n",
       "</div>"
      ],
      "text/plain": [
       "         Date       WTR\n",
       "0  1997-01-02  4.492811\n",
       "1  1997-01-03  4.665612\n",
       "2  1997-01-06  4.636812\n",
       "3  1997-01-07  4.608011\n",
       "4  1997-01-08  4.636812"
      ]
     },
     "execution_count": 4,
     "metadata": {},
     "output_type": "execute_result"
    }
   ],
   "source": [
    "wtr.head()"
   ]
  },
  {
   "cell_type": "code",
   "execution_count": 5,
   "metadata": {},
   "outputs": [
    {
     "data": {
      "text/html": [
       "<div>\n",
       "<style scoped>\n",
       "    .dataframe tbody tr th:only-of-type {\n",
       "        vertical-align: middle;\n",
       "    }\n",
       "\n",
       "    .dataframe tbody tr th {\n",
       "        vertical-align: top;\n",
       "    }\n",
       "\n",
       "    .dataframe thead th {\n",
       "        text-align: right;\n",
       "    }\n",
       "</style>\n",
       "<table border=\"1\" class=\"dataframe\">\n",
       "  <thead>\n",
       "    <tr style=\"text-align: right;\">\n",
       "      <th></th>\n",
       "      <th>Date</th>\n",
       "      <th>AWR</th>\n",
       "    </tr>\n",
       "  </thead>\n",
       "  <tbody>\n",
       "    <tr>\n",
       "      <th>0</th>\n",
       "      <td>1997-01-02</td>\n",
       "      <td>7.291667</td>\n",
       "    </tr>\n",
       "    <tr>\n",
       "      <th>1</th>\n",
       "      <td>1997-01-03</td>\n",
       "      <td>7.291667</td>\n",
       "    </tr>\n",
       "    <tr>\n",
       "      <th>2</th>\n",
       "      <td>1997-01-06</td>\n",
       "      <td>7.333333</td>\n",
       "    </tr>\n",
       "    <tr>\n",
       "      <th>3</th>\n",
       "      <td>1997-01-07</td>\n",
       "      <td>7.333333</td>\n",
       "    </tr>\n",
       "    <tr>\n",
       "      <th>4</th>\n",
       "      <td>1997-01-08</td>\n",
       "      <td>7.416667</td>\n",
       "    </tr>\n",
       "  </tbody>\n",
       "</table>\n",
       "</div>"
      ],
      "text/plain": [
       "         Date       AWR\n",
       "0  1997-01-02  7.291667\n",
       "1  1997-01-03  7.291667\n",
       "2  1997-01-06  7.333333\n",
       "3  1997-01-07  7.333333\n",
       "4  1997-01-08  7.416667"
      ]
     },
     "execution_count": 5,
     "metadata": {},
     "output_type": "execute_result"
    }
   ],
   "source": [
    "awr.head()"
   ]
  },
  {
   "cell_type": "code",
   "execution_count": null,
   "metadata": {},
   "outputs": [],
   "source": [
    "\n",
    "\n",
    "\n",
    "\n",
    "\n",
    "\n",
    "\n",
    "\n",
    "\n",
    "\n",
    "\n",
    "\n",
    "\n",
    "\n",
    "\n",
    "\n",
    "\n",
    "\n",
    "\n",
    "\n",
    "\n",
    "\n",
    "\n",
    "\n"
   ]
  },
  {
   "cell_type": "markdown",
   "metadata": {},
   "source": [
    "# Exhibit 1: Descriptive Statistics"
   ]
  },
  {
   "cell_type": "code",
   "execution_count": 6,
   "metadata": {},
   "outputs": [],
   "source": [
    "def describe_series(data_frame, ticker_name):\n",
    "    \"\"\"\n",
    "    This function takes a series and computes and returns descriptive stats\n",
    "    about daily log returns (pctg).\n",
    "    \n",
    "    Parameters\n",
    "    ----------\n",
    "    data_frame : pandas dataframe\n",
    "        This contains the original data for each stock (has all columns)\n",
    "    ticker_name : string\n",
    "        The name of the ticker ('CTWS,'WTR', 'AWR')\n",
    "        \n",
    "    Returns\n",
    "    -------\n",
    "    Nothing. (Just prints descriptive statistics.)\n",
    "    \"\"\"\n",
    "    \n",
    "    # Calculating daily log returns (in terms of percentages)\n",
    "    numer_returns = (np.log(np.absolute(data_frame[ticker_name])).diff(1)[1:])\n",
    "    denom_returns = (np.log(np.absolute(data_frame[ticker_name]))[0:-1])\n",
    "    daily_returns = 100 * (np.array(numer_returns)/np.array(denom_returns))\n",
    "    \n",
    "    # These are the statistical descriptions for daily returns (pctg)\n",
    "    daily_returns_descr = stats.describe(daily_returns)\n",
    "    \n",
    "    # Display these quantities\n",
    "    print(\"Daily returns description for \", ticker_name, \" :\\n\",\n",
    "          daily_returns_descr, \"\\n\", sep = \"\")"
   ]
  },
  {
   "cell_type": "code",
   "execution_count": null,
   "metadata": {},
   "outputs": [],
   "source": [
    "\n",
    "\n",
    "\n",
    "\n",
    "\n"
   ]
  },
  {
   "cell_type": "markdown",
   "metadata": {},
   "source": [
    "$\\textbf{Descriptive statistics for the CTWS (Connecticut Water Service Inc.) stock from 01-02-1997 to 12-31-2008}$"
   ]
  },
  {
   "cell_type": "code",
   "execution_count": 7,
   "metadata": {},
   "outputs": [
    {
     "name": "stdout",
     "output_type": "stream",
     "text": [
      "Daily returns description for CTWS :\n",
      "DescribeResult(nobs=3019, minmax=(-4.369510557505775, 4.4378963750635325), mean=0.009307318689215681, variance=0.47638782810324853, skewness=0.22130118705427318, kurtosis=4.4761956410521035)\n",
      "\n"
     ]
    }
   ],
   "source": [
    "describe_series(ctws, 'CTWS')"
   ]
  },
  {
   "cell_type": "markdown",
   "metadata": {},
   "source": [
    "$\\textbf{Descriptive statistics for the WTR (Aqua America Inc.) stock from 01-02-1997 to 12-31-2008}$"
   ]
  },
  {
   "cell_type": "code",
   "execution_count": 8,
   "metadata": {},
   "outputs": [
    {
     "name": "stdout",
     "output_type": "stream",
     "text": [
      "Daily returns description for WTR :\n",
      "DescribeResult(nobs=3019, minmax=(-5.705145174294001, 6.815026397407055), mean=0.02468546292693864, variance=0.8111687025728709, skewness=0.43506663382355143, kurtosis=5.164252586996859)\n",
      "\n"
     ]
    }
   ],
   "source": [
    "describe_series(wtr, 'WTR')"
   ]
  },
  {
   "cell_type": "markdown",
   "metadata": {},
   "source": [
    "$\\textbf{Descriptive statistics for the AWR (American States Water Company) stock from 01-02-1997 to 12-31-2008}$"
   ]
  },
  {
   "cell_type": "code",
   "execution_count": 9,
   "metadata": {},
   "outputs": [
    {
     "name": "stdout",
     "output_type": "stream",
     "text": [
      "Daily returns description for AWR :\n",
      "DescribeResult(nobs=3019, minmax=(-3.64103548630856, 3.8923615388563753), mean=0.01465007656892945, variance=0.6505759517743028, skewness=0.03506757637442587, kurtosis=2.4359303944752115)\n",
      "\n"
     ]
    }
   ],
   "source": [
    "describe_series(awr, 'AWR')"
   ]
  },
  {
   "cell_type": "code",
   "execution_count": null,
   "metadata": {},
   "outputs": [],
   "source": [
    "\n",
    "\n",
    "\n",
    "\n",
    "\n",
    "\n",
    "\n",
    "\n",
    "\n",
    "\n",
    "\n",
    "\n",
    "\n",
    "\n",
    "\n",
    "\n",
    "\n",
    "\n",
    "\n",
    "\n",
    "\n",
    "\n",
    "\n",
    "\n"
   ]
  },
  {
   "cell_type": "markdown",
   "metadata": {},
   "source": [
    "# Exhibit 1.5: Visualizing the Series and Returns"
   ]
  },
  {
   "cell_type": "markdown",
   "metadata": {},
   "source": [
    "### The paper doesn't do this, but I thought it would be a nice complementary piece in our data analysis. Doing some basic visualization is a great place to start in many cases, and we can make sure that the quality of our data is reasonable."
   ]
  },
  {
   "cell_type": "code",
   "execution_count": null,
   "metadata": {},
   "outputs": [],
   "source": [
    "\n",
    "\n"
   ]
  },
  {
   "cell_type": "markdown",
   "metadata": {},
   "source": [
    "First we'll need to create the log returns for the three series using the function defined below."
   ]
  },
  {
   "cell_type": "code",
   "execution_count": 11,
   "metadata": {},
   "outputs": [],
   "source": [
    "def log_returns(orig_data, ticker_name):\n",
    "    \"\"\"\n",
    "    This function takes the orig_data (pandas dataframe with all the data for\n",
    "    each stock) and creates a first-differenced series of log daily returns.\n",
    "    \n",
    "    Parameters\n",
    "    ----------\n",
    "    orig_data : pandas dataframe\n",
    "        This contains the original data for each stock (has all columns)    \n",
    "    ticker_name : string\n",
    "        The name of the ticker ('CTWS,'WTR', 'AWR')\n",
    "        \n",
    "    Returns\n",
    "    -------\n",
    "    log_rtns : pandas time series\n",
    "        This is a pandas series (contains only daily log returns for the\n",
    "        closing price, PRC, column)\n",
    "    \"\"\"\n",
    "    # Calculating daily log returns (in terms of percentages)\n",
    "    numer_returns = (np.log(np.absolute(orig_data[ticker_name])).diff(1)[1:])\n",
    "    denom_returns = (np.log(np.absolute(orig_data[ticker_name]))[0:-1])\n",
    "    log_rtns = 100 * (np.array(numer_returns)/np.array(denom_returns))\n",
    "    \n",
    "    return pd.Series(log_rtns)\n",
    "\n",
    "# Create the daily log returns for all 3 series\n",
    "ctws_log_rtns = log_returns(ctws, 'CTWS')\n",
    "wtr_log_rtns = log_returns(wtr, 'WTR')\n",
    "awr_log_rtns = log_returns(awr, 'AWR')"
   ]
  },
  {
   "cell_type": "code",
   "execution_count": null,
   "metadata": {},
   "outputs": [],
   "source": [
    "\n",
    "\n",
    "\n",
    "\n"
   ]
  },
  {
   "cell_type": "markdown",
   "metadata": {},
   "source": [
    "Now let's plot a histogram for each of the three series.\n",
    "In doing so, we'll observe that the distributions are centered about 0 and look to be somewhat normal. However we also see the thick tails (i.e. extreme returns) characteristic of financial return data, especially for the CTWS ticker."
   ]
  },
  {
   "cell_type": "code",
   "execution_count": 12,
   "metadata": {},
   "outputs": [
    {
     "data": {
      "text/plain": [
       "Text(0.5, 1.0, 'CTWS log returns distribution')"
      ]
     },
     "execution_count": 12,
     "metadata": {},
     "output_type": "execute_result"
    },
    {
     "data": {
      "image/png": "[encoded data removed]",
      "text/plain": [
       "<Figure size 432x288 with 1 Axes>"
      ]
     },
     "metadata": {
      "needs_background": "light"
     },
     "output_type": "display_data"
    }
   ],
   "source": [
    "ctws_log_rtns.hist(bins=100, color=\"orange\", label='CTWS log returns');\n",
    "plt.title(\"CTWS log returns distribution\")"
   ]
  },
  {
   "cell_type": "code",
   "execution_count": 13,
   "metadata": {},
   "outputs": [
    {
     "data": {
      "text/plain": [
       "Text(0.5, 1.0, 'WTR log returns distribution')"
      ]
     },
     "execution_count": 13,
     "metadata": {},
     "output_type": "execute_result"
    },
    {
     "data": {
      "image/png": "[encoded data removed]",
      "text/plain": [
       "<Figure size 432x288 with 1 Axes>"
      ]
     },
     "metadata": {
      "needs_background": "light"
     },
     "output_type": "display_data"
    }
   ],
   "source": [
    "wtr_log_rtns.hist(bins=100, color=\"green\");\n",
    "plt.title(\"WTR log returns distribution\")"
   ]
  },
  {
   "cell_type": "code",
   "execution_count": 14,
   "metadata": {},
   "outputs": [
    {
     "data": {
      "text/plain": [
       "Text(0.5, 1.0, 'AWR log returns distribution')"
      ]
     },
     "execution_count": 14,
     "metadata": {},
     "output_type": "execute_result"
    },
    {
     "data": {
      "image/png": "[encoded data removed]",
      "text/plain": [
       "<Figure size 432x288 with 1 Axes>"
      ]
     },
     "metadata": {
      "needs_background": "light"
     },
     "output_type": "display_data"
    }
   ],
   "source": [
    "awr_log_rtns.hist(bins=100, color=\"purple\");\n",
    "plt.title(\"AWR log returns distribution\")"
   ]
  },
  {
   "cell_type": "code",
   "execution_count": null,
   "metadata": {},
   "outputs": [],
   "source": [
    "\n",
    "\n",
    "\n",
    "\n"
   ]
  },
  {
   "cell_type": "markdown",
   "metadata": {},
   "source": [
    "Now let's plot the prices of the three series over time together for a cursory visual inspection. We would expect that they appear to move with each other, exhibiting co-integrated behavior between the pairs."
   ]
  },
  {
   "cell_type": "code",
   "execution_count": 32,
   "metadata": {},
   "outputs": [
    {
     "data": {
      "image/png": "[encoded data removed]",
      "text/plain": [
       "<Figure size 432x288 with 1 Axes>"
      ]
     },
     "metadata": {
      "needs_background": "light"
     },
     "output_type": "display_data"
    }
   ],
   "source": [
    "plt.plot(ctws['CTWS'], label='CTWS', linewidth=1.5, color='orange');\n",
    "plt.plot(wtr['WTR'], label='WTR', linewidth=1.5, color='green');\n",
    "plt.plot(awr['AWR'], label=\"AWR\", linewidth=1.5, color='purple');\n",
    "plt.title(\"All three series together\")\n",
    "plt.legend()\n",
    "plt.show()"
   ]
  },
  {
   "cell_type": "code",
   "execution_count": null,
   "metadata": {},
   "outputs": [],
   "source": [
    "\n",
    "\n",
    "\n",
    "\n",
    "\n",
    "\n",
    "\n",
    "\n",
    "\n",
    "\n",
    "\n",
    "\n",
    "\n",
    "\n",
    "\n",
    "\n",
    "\n",
    "\n",
    "\n",
    "\n",
    "\n",
    "\n",
    "\n",
    "\n"
   ]
  },
  {
   "cell_type": "markdown",
   "metadata": {},
   "source": [
    "# Exhibit 2: Integration and Co-integration"
   ]
  },
  {
   "cell_type": "code",
   "execution_count": null,
   "metadata": {},
   "outputs": [],
   "source": [
    "\n",
    "\n",
    "\n"
   ]
  },
  {
   "cell_type": "markdown",
   "metadata": {},
   "source": [
    "$\\textbf{Panel A: Augmented Dickey-Fuller Test for integration}$  "
   ]
  },
  {
   "cell_type": "markdown",
   "metadata": {},
   "source": [
    "First let's write code to generate the data we need:\n",
    "- the daily closing log price series for each stock\n",
    "- the first-differenced daily closing log price series for each stock (we have to exclude the first element due to the differencing)"
   ]
  },
  {
   "cell_type": "code",
   "execution_count": 16,
   "metadata": {},
   "outputs": [],
   "source": [
    "# Create the daily closing log price series for each stock.\n",
    "ctws_log_prcs = (np.log(np.absolute(ctws[\"CTWS\"])))\n",
    "wtr_log_prcs = (np.log(np.absolute(wtr[\"WTR\"])))\n",
    "awr_log_prcs = (np.log(np.absolute(awr[\"AWR\"])))\n",
    "\n",
    "# Create the first-differenced daily closing log price series for each stock.\n",
    "# (Since we're doing first-differencing, we have to exclude the first element\n",
    "#  because it's just a missing value.)\n",
    "ctws_log_prcs_diff1 = (np.log(np.absolute(ctws[\"CTWS\"]))).diff(1)[1:]\n",
    "wtr_log_prcs_diff1 = (np.log(np.absolute(wtr[\"WTR\"]))).diff(1)[1:]\n",
    "awr_log_prcs_diff1 = (np.log(np.absolute(awr[\"AWR\"]))).diff(1)[1:]"
   ]
  },
  {
   "cell_type": "markdown",
   "metadata": {},
   "source": [
    "Next let's carry out the ADF test for each of these series to generate the 'Levels' and 'Differences' values to populate $\\textbf{Panel A}$"
   ]
  },
  {
   "cell_type": "code",
   "execution_count": 17,
   "metadata": {},
   "outputs": [
    {
     "data": {
      "text/plain": [
       "(-58.82274200999155,\n",
       " 0.0,\n",
       " 0,\n",
       " 3018,\n",
       " {'1%': -2.5664812199434275,\n",
       "  '5%': -1.9410893676437517,\n",
       "  '10%': -1.6167322917449751},\n",
       " -14941.774246824032)"
      ]
     },
     "execution_count": 17,
     "metadata": {},
     "output_type": "execute_result"
    }
   ],
   "source": [
    "# ADF test for daily closing log price for the orginal 3 series (NOT differenced).\n",
    "# This is creating the 'Levels' line of the chart in Panel A\n",
    "adf_ctws_log_prcs = adfuller(x=ctws_log_prcs, maxlag = 10, regression = \"nc\", autolag=\"BIC\")\n",
    "adf_ctws_log_prcs\n",
    "adf_wtr_log_prcs = adfuller(x=wtr_log_prcs, maxlag = 10, regression = \"nc\", autolag=\"BIC\")\n",
    "adf_wtr_log_prcs\n",
    "adf_awr_log_prcs = adfuller(x=awr_log_prcs, maxlag = 10, regression = \"nc\", autolag=\"BIC\")\n",
    "adf_awr_log_prcs\n",
    "\n",
    "# ADF test for daily closing log price first differences for the 3 series.\n",
    "# This is creating the 'First difference' line of the chart in Panel A\n",
    "adf_ctws_log_prcs_diff1 = adfuller(x=ctws_log_prcs_diff1, maxlag = 10, regression = \"nc\", autolag=\"BIC\")\n",
    "adf_ctws_log_prcs_diff1\n",
    "adf_wtr_log_prcs_diff1 = adfuller(x=wtr_log_prcs_diff1, maxlag = 10, regression = \"nc\", autolag=\"BIC\")\n",
    "adf_wtr_log_prcs_diff1\n",
    "adf_awr_log_prcs_diff1 = adfuller(x=awr_log_prcs_diff1, maxlag = 10, regression = \"nc\", autolag=\"BIC\")\n",
    "adf_awr_log_prcs_diff1"
   ]
  },
  {
   "cell_type": "markdown",
   "metadata": {},
   "source": [
    "$\\textbf{NOTE:}$ See markdown cell above for code used to generate ADF test results.\n",
    "\n",
    "$\\textbf{PANEL A: Augmented Dickey-Fuller Test for integration}$\n",
    "\n",
    "|              .| CTWS                           | WTR                            | AWR                             | \n",
    "|---------------|--------------------------------|--------------------------------|---------------------------------|\n",
    "| Levels        | test_stat=0.508, p=0.827       | test_stat=0.872, p=0.897       | test_stat=0.539, p=0.834        |\n",
    "| First-diffed  | test_stat= -47.06, p$\\approx$0 | test_stat= -54.93, p$\\approx$0 | test_stat= -58.82, p$\\approx$0  |\n",
    "\n",
    "Based on the 'Levels' results we can see that the three series are all non-stationary (we don't come even close to rejecting $H_0$: presence of unit-root). After first-differencing we then have stationary series (hence the miniscule p-values, rejecting the unit-root $H_0$), implying that the original log-value price series are all $I(1)$. "
   ]
  },
  {
   "cell_type": "code",
   "execution_count": null,
   "metadata": {},
   "outputs": [],
   "source": [
    "\n",
    "\n",
    "\n",
    "\n",
    "\n",
    "\n"
   ]
  },
  {
   "cell_type": "markdown",
   "metadata": {},
   "source": [
    "$\\textbf{Panel B: Augmented Dickey-Fuller Test for co-integration}$  "
   ]
  },
  {
   "cell_type": "markdown",
   "metadata": {},
   "source": [
    "First let's plan out how we'll implement the Engle-Granger (two-step) method:\n",
    "- First, test for co-integration by submitting $\\hat{\\epsilon_t}$ to the ADF test. What do you find?\n",
    "- Obtain $\\hat{\\beta}$ via OLS regression.\n",
    "- Estimate the error-correction model with p=1 and include contemporaneou $x_t$."
   ]
  },
  {
   "cell_type": "code",
   "execution_count": 20,
   "metadata": {},
   "outputs": [],
   "source": [
    "def adf_twoSeries(regressor, regressand):\n",
    "    \"\"\"\n",
    "    This function performs the ADF test for two time series, determining if\n",
    "    they are co-integrated.\n",
    "    We test for co-integration by submitting the epsilon-hat terms (of the \n",
    "    regression of the two series) to the ADF test.\n",
    "    \n",
    "    Parameters\n",
    "    ----------\n",
    "    regressor : pandas series\n",
    "        This is the \"predictor\" variable series.\n",
    "    regressand : pandas series\n",
    "        This is the \"dependent/response\" variable series.\n",
    "        \n",
    "    Returns\n",
    "    -------\n",
    "    adf_results : tuple\n",
    "        The ADF test results for the two given series.\n",
    "    \"\"\"\n",
    "    # Regress the regressand (response:y) on the regressor (predictor:x)\n",
    "    reg = stats.linregress(regressor, regressand)\n",
    "    # Residuals eps (typically epsilon) --> y_hat = m(x) + b\n",
    "    # --> eps = y_1 - y_1_hat = y_1 - m(x_1) + b\n",
    "    eps = regressand - reg.slope*regressor - reg.intercept \n",
    "    \n",
    "    # Submit eps to the ADF test\n",
    "    adf_eps = adfuller(x=eps, maxlag = 10, regression = \"nc\", autolag=\"BIC\")\n",
    "    \n",
    "    # A small p-value ==> no presence of unit-root in epsilon series    \n",
    "    return adf_eps\n",
    "\n",
    "\n",
    "# Create the series, removing the indexing (and date since their dates are\n",
    "# identical)\n",
    "awr_log_prcs = awr_log_prcs.reset_index(drop=True)\n",
    "ctws_log_prcs = ctws_log_prcs.reset_index(drop=True)\n",
    "wtr_log_prcs = wtr_log_prcs.reset_index(drop=True)"
   ]
  },
  {
   "cell_type": "markdown",
   "metadata": {},
   "source": [
    "Now let's perform the ADF test for co-integration for the desired pairs"
   ]
  },
  {
   "cell_type": "code",
   "execution_count": 21,
   "metadata": {},
   "outputs": [
    {
     "data": {
      "text/plain": [
       "(-2.1551555045505872,\n",
       " 0.029896462172730197,\n",
       " 2,\n",
       " 3017,\n",
       " {'1%': -2.5664814657565804,\n",
       "  '5%': -1.9410893973868528,\n",
       "  '10%': -1.616732262771812},\n",
       " -12332.977583644872)"
      ]
     },
     "execution_count": 21,
     "metadata": {},
     "output_type": "execute_result"
    }
   ],
   "source": [
    "adf_ctws_wtr = adf_twoSeries(regressor=ctws_log_prcs,\n",
    "                             regressand=wtr_log_prcs)\n",
    "adf_ctws_wtr"
   ]
  },
  {
   "cell_type": "code",
   "execution_count": 22,
   "metadata": {},
   "outputs": [
    {
     "data": {
      "text/plain": [
       "(-3.9327626150041355,\n",
       " 9.537188490965299e-05,\n",
       " 1,\n",
       " 3018,\n",
       " {'1%': -2.5664812199434275,\n",
       "  '5%': -1.9410893676437517,\n",
       "  '10%': -1.6167322917449751},\n",
       " -15111.863161592843)"
      ]
     },
     "execution_count": 22,
     "metadata": {},
     "output_type": "execute_result"
    }
   ],
   "source": [
    "adf_wtr_awr = adf_twoSeries(regressor=wtr_log_prcs,\n",
    "                            regressand=awr_log_prcs)\n",
    "adf_wtr_awr"
   ]
  },
  {
   "cell_type": "code",
   "execution_count": 23,
   "metadata": {},
   "outputs": [
    {
     "data": {
      "text/plain": [
       "(-2.389272213825196,\n",
       " 0.016277300821825862,\n",
       " 2,\n",
       " 3017,\n",
       " {'1%': -2.5664814657565804,\n",
       "  '5%': -1.9410893973868528,\n",
       "  '10%': -1.616732262771812},\n",
       " -14038.983926052704)"
      ]
     },
     "execution_count": 23,
     "metadata": {},
     "output_type": "execute_result"
    }
   ],
   "source": [
    "adf_ctws_awr = adf_twoSeries(regressor=ctws_log_prcs,\n",
    "                             regressand=awr_log_prcs)\n",
    "adf_ctws_awr"
   ]
  },
  {
   "cell_type": "markdown",
   "metadata": {},
   "source": [
    "$\\textbf{NOTE:}$ See markdown cells above for code used to generate ADF test results.\n",
    "\n",
    "$\\textbf{PANEL B: Augmented Dickey-Fuller Test for co-integration}$\n",
    "\n",
    "|          .| Regressand                    | Regressand                     | Regressand                      |\n",
    "|-----------|-------------------------------|--------------------------------|---------------------------------|\n",
    "| Regressor | WTR                           | AWR                            | AWR                             | \n",
    "| CTWS      | test_stat= -2.15, p=0.0299    |                               .| test_stat= -2.389, p=0.0163     |\n",
    "| WTR       |                              .| test_stat= -3.933, p$\\approx$0 |                                .|\n",
    "\n",
    "Based on these results we can conclude that these pairs are all co-integrated. The low p-values imply rejection of [$H_0$: there exists no co-integration] if using $\\alpha = 0.05$ as our significance level. In other words, for these individual $I(1)$ series pairs there exists some linear combination such that the residuals are found to be stationary ($I(0)$)."
   ]
  },
  {
   "cell_type": "code",
   "execution_count": null,
   "metadata": {},
   "outputs": [],
   "source": [
    "\n",
    "\n",
    "\n",
    "\n",
    "\n",
    "\n",
    "\n",
    "\n",
    "\n",
    "\n",
    "\n",
    "\n",
    "\n",
    "\n",
    "\n",
    "\n",
    "\n",
    "\n",
    "\n",
    "\n",
    "\n",
    "\n",
    "\n",
    "\n"
   ]
  },
  {
   "cell_type": "markdown",
   "metadata": {},
   "source": [
    "# Dr. Brough modification: Implementing the Trading Strategy"
   ]
  },
  {
   "cell_type": "code",
   "execution_count": null,
   "metadata": {},
   "outputs": [],
   "source": [
    "\n",
    "\n",
    "\n"
   ]
  },
  {
   "cell_type": "markdown",
   "metadata": {},
   "source": [
    "The most efficient way that I found to implement the trading strategy described in the paper was to generate two classes:\n",
    "- the $\\textbf{'GenerateInfo'}$ class. This class generates information for a given pair of log stock price series, including:\n",
    "    - predicted values of the Granger-caused series\n",
    "    - differences between these predicted values and the actual values (I call this array of floating-point numbers 'diffs')\n",
    "    - upper and lower bound values around the 0-line for these differences, which creates a band I call \"the equilibrium zone'\n",
    "    - a list of strings indicating whether or not the actual differences are within, above, or below the equilibrium zone (I call this list of strings 'equilibs')\n",
    "    - Also, this class has a method to generate a graphic representation of this information (plots the equilibrium zone and the diffs array, showing where diffs moves outside of the equilibrium zone and crosses the 0-line to create trading signals).\n",
    "- the $\\textbf{'NumSignals'}$ class. This class does the heavy lifting of implementing the trading rule to:\n",
    "    - determine how many trades are made ('num_buys' and 'num_sells') based on the rule given in the paper\n",
    "    - how long the first buy and sell trade signal positions are held\n",
    "    - the return of the first buy and sell trade positions for each of the three pairs being considered\n",
    "    \n",
    "These classes are defined in the code cell below."
   ]
  },
  {
   "cell_type": "code",
   "execution_count": 33,
   "metadata": {},
   "outputs": [],
   "source": [
    "class GenerateInfo:\n",
    "    \"\"\"\n",
    "    This class generates information for a given pair of log stock price\n",
    "    series, including: predicted values of the Granger-causes series,\n",
    "    differences between these predicted values and the actual values, upper and\n",
    "    lower bound values around the 0-line for these differences, and a list of\n",
    "    strings indicating whether or not the actual differences are within, above,\n",
    "    or below the calculated boundaries.\n",
    "    Also, this class has a method to generate a graphic representation of this \n",
    "    information.    \n",
    "    \"\"\"\n",
    "    def __init__(self, log_prcs_series1, log_prcs_series2, delta_i,\n",
    "                 regr_x_name, regd_y_name, delta_i_str):\n",
    "        '''\n",
    "        The constructor takes two logged series (series1 is the regressor and\n",
    "        series2 is the regressand), the delta_i value used to determine the \n",
    "        width of the equilibrium zone, and strings of these argument names to\n",
    "        create well-labeled graphics.\n",
    "        Parameters \n",
    "        ----------\n",
    "        log_prcs_series1 : Pandas series\n",
    "            Log-values of one of the CTWS, WTR, or AWR series (regressor)\n",
    "        log_prcs_series2 : Pandas series\n",
    "            Log-values of one of the CTWS, WTR, or AWR series (regressand)\n",
    "        delta_i : float\n",
    "            Is one of {0.25, 0.5, 0.75}, used to determine the width of the\n",
    "            equilibrium zone about the 0-line.\n",
    "        regr_x_name : string\n",
    "            the name (CTWS, WTR, AWR) of the regressor series, used to label\n",
    "            the plot\n",
    "        regd_y_name: string\n",
    "            the name (CTWS, WTR, AWR) of the regressand series, used to label\n",
    "            the plot\n",
    "        delta_i_str : string\n",
    "            the delta_i value as a string ('0.25', '0.5', '0.75') used for \n",
    "            labeling the plot\n",
    "        '''\n",
    "        self.log_prcs_series1 = log_prcs_series1\n",
    "        self.log_prcs_series2 = log_prcs_series2\n",
    "        self.delta_i = delta_i\n",
    "        self.regr_x_name = regr_x_name\n",
    "        self.regd_y_name = regd_y_name\n",
    "        self.delta_i_str = delta_i_str\n",
    "            \n",
    "        \n",
    "        \n",
    "    def calc_preds_eps_diffs_bounds(self):\n",
    "        '''\n",
    "        This function calculates\n",
    "        - predicted log prices of the Granger-caused series\n",
    "        - epsilons (errors) of the predicted series\n",
    "        - diffs between the predicted series VS actual values of the series\n",
    "        - the upper and lower bounds of the equilibrium zone\n",
    "        \n",
    "        Parameters\n",
    "        ----------\n",
    "        self\n",
    "            \n",
    "        Returns\n",
    "        -------\n",
    "        calcs : tuple (series of floats, float, float)\n",
    "            This tuple has the diffs series, the lowerb of eq-zone, and the\n",
    "            upperb of the eq-zone respectively\n",
    "        '''\n",
    "        # Estimating equation 6 from the paper:\n",
    "        # log(y_series) = alpha + beta_1(log(x_series)) + epsilon\n",
    "        x_regr = self.log_prcs_series1\n",
    "        y_regd = self.log_prcs_series2\n",
    "        delta_i = self.delta_i\n",
    "        # Regress the Granger-caused series on the predictor series, extract\n",
    "        # and store relevant values from the regression.\n",
    "        reg_y_on_x = stats.linregress(x = x_regr, y = y_regd)\n",
    "        alpha = reg_y_on_x.intercept\n",
    "        alpha\n",
    "        beta_1 = reg_y_on_x.slope\n",
    "        beta_1\n",
    "        # Generate the series of error terms.\n",
    "        eps_y_on_x = y_regd - beta_1*x_regr - alpha\n",
    "        # Calculate the standard deviation of the residuals\n",
    "        sigma_eps = np.std(eps_y_on_x)\n",
    "        # Now doing the stuff for equation 7:\n",
    "        pred_log_y = alpha + beta_1*(x_regr)\n",
    "        # Now doing the stuff for equation 8:\n",
    "        # Determine difference between fitted values and the actual values:\n",
    "        diffs = y_regd - pred_log_y\n",
    "        # Upper bound for the trading rule:\n",
    "        upperb = 1.0 * (delta_i * sigma_eps)\n",
    "        # Lower bound for the trading rule:\n",
    "        lowerb = -1.0 * (delta_i * sigma_eps)\n",
    "        # Store the things we need for further calculations in a tuple, return\n",
    "        calcs = (diffs, lowerb, upperb)\n",
    "        return calcs\n",
    "\n",
    "\n",
    "\n",
    "    def gen_plot(self):\n",
    "        '''\n",
    "        This function generates the plot showing the difference series between\n",
    "        the actual log prices and the predicted log prices. Also gives the\n",
    "        equilibrium zone (dashed line that determines half1 of trade signals).\n",
    "        \n",
    "        Parameters\n",
    "        ----------\n",
    "        self\n",
    "            \n",
    "        Returns\n",
    "        -------\n",
    "        Nothing; creates the desired plot\n",
    "        '''\n",
    "        # Store strings to be used for plot title\n",
    "        regr_x_name = self.regr_x_name\n",
    "        regd_y_name = self.regd_y_name\n",
    "        delta_i_str = self.delta_i_str\n",
    "        # Call the function to calculate the diffs, lowerb, and upperb\n",
    "        calcs = self.calc_preds_eps_diffs_bounds()\n",
    "        # Plot the diffs series\n",
    "        plt.plot(calcs[0], color='blue');\n",
    "        # Create the zero line (perfect equilibrium btwn prediction and actual)\n",
    "        plt.axhline(y=0, linewidth=2.0, color='black')\n",
    "        # Plot the upper bound of the equilibrium zone\n",
    "        plt.axhline(y= calcs[2], linewidth=2.0, color='red', linestyle='--')\n",
    "        # Plot the lower bound of the equilibrium zone\n",
    "        plt.axhline(y= calcs[1], linewidth=2.0, color='red', linestyle='--')\n",
    "        plt.title(\"Trading Strategy Plot for x=\" + regr_x_name + \", y=\" +\n",
    "                  regd_y_name + \", delta_i=\" + delta_i_str)\n",
    "        plt.show()\n",
    "        \n",
    "        \n",
    "        \n",
    "    def gen_equilib(self):\n",
    "        '''\n",
    "        This function takes in the series of differences (between the predicted\n",
    "        log price and the actual log price) for one of the series. It returns a\n",
    "        list indicating whether each difference is within the equilibrium zone\n",
    "        or not.\n",
    "        \n",
    "        Parameters\n",
    "        ----------\n",
    "        self\n",
    "    \n",
    "        Returns\n",
    "        -------\n",
    "        equilibs : list (of strings)\n",
    "            A list where each element is either 'below', 'within', or 'above'\n",
    "            to indicate whether the error is within the equilibrium zone or not\n",
    "        '''\n",
    "        # Call the function to calculate the diffs, lowerb, and upperb\n",
    "        calcs = self.calc_preds_eps_diffs_bounds()\n",
    "        diffs = calcs[0]\n",
    "        lowerb = calcs[1]\n",
    "        upperb = calcs[2]\n",
    "        # Initialize an empty list to store values\n",
    "        equilibs = []\n",
    "        # Calculate whether each diff value is in or out of the eq-zone.\n",
    "        for i in range(len(diffs)):\n",
    "            if(diffs[i] < lowerb): equilibs.append('below')\n",
    "            elif(diffs[i] > upperb): equilibs.append('above')\n",
    "            else: equilibs.append('within')\n",
    "        # Return the list\n",
    "        return equilibs\n",
    "            \n",
    "\n",
    "\n",
    "\n",
    "\n",
    "#--------------------------------------------------------------------------------------------------------------------\n",
    "#--------------------------------------------------------------------------------------------------------------------\n",
    "#--------------------------------------------------------------------------------------------------------------------\n",
    "#--------------------------------------------------------------------------------------------------------------------\n",
    "#--------------------------------------------------------------------------------------------------------------------\n",
    "\n",
    "\n",
    "\n",
    "\n",
    "\n",
    "class NumSignals:\n",
    "    \"\"\"\n",
    "    This class does the heavy lifting of implementing the trading rule to\n",
    "    determine how many trades are made, how long the first buy and sell trade\n",
    "    signal positions are held, and the return of the first buy and sell trade\n",
    "    positions.\n",
    "    \"\"\"\n",
    "    def __init__(self, diffs, equilibs, x_log_prcs, y_log_prcs):\n",
    "        '''\n",
    "        Parameters \n",
    "        ----------\n",
    "        diffs : Pandas series\n",
    "            A series of differences between the predicted log prices of a\n",
    "            series and the actual log series. Generated using the\n",
    "            GenerateInfo class.\n",
    "        equilibs : list\n",
    "            Elements are strings indicating whether each difference is above,\n",
    "            below, or within the equilibrium zone). Generated using the\n",
    "            GenerateInfo class.\n",
    "        x_log_prcs : Pandas series\n",
    "            The Granger-causing series (regressor)\n",
    "        y_log_prcs : Pandas series\n",
    "            The Granger-caused series (regressand)\n",
    "        '''\n",
    "        self.diffs = diffs\n",
    "        self.equilibs = equilibs\n",
    "        self.x_log_prcs = x_log_prcs\n",
    "        self.y_log_prcs = y_log_prcs\n",
    "        \n",
    "        \n",
    "        \n",
    "    def consider_signal(self, index):\n",
    "        '''\n",
    "        This function checks \"...if a position is not closed out prior to\n",
    "        12-31-08 then that position is not considered at all\" from the paper.\n",
    "        Essentially, at the given index does the diffs series not move back\n",
    "        past 0 to trigger a buy (or sell) position closing out?\n",
    "        \n",
    "        Parameters\n",
    "        ----------\n",
    "        index : int\n",
    "            The index at which we're checking if all of the remaining diffs are \n",
    "            either 'above' or 'below' the equilibrium zone. If so, we won't \n",
    "            count that index as being a trading signal, returning False.\n",
    "            \n",
    "        Returns\n",
    "        -------\n",
    "        consider : bool\n",
    "            A boolean value telling whether we should consider this trading\n",
    "            signal (True) or not consider this trading signal (False).    \n",
    "        '''\n",
    "        diffs = self.diffs\n",
    "        # Check if all of the remaining diffs are above 0. If so, the position\n",
    "        # doesn't close, and we wont' consider this trading signal.\n",
    "        if(all(diff > 0 for diff in diffs[index:])):\n",
    "            consider = False\n",
    "        # Check if all of the remaining diffs are below 0. If so, the position\n",
    "        # doesn't close, and we wont' consider this trading signal.      \n",
    "        elif(all(diff < 0 for diff in diffs[index:])):\n",
    "            consider = False\n",
    "        # If all of the remaining diffs weren't all either [>0] or [<0] then\n",
    "        # we should consider this trading signal.\n",
    "        else:\n",
    "            consider = True\n",
    "        return consider\n",
    "    \n",
    "    \n",
    "    \n",
    "    def find_half1_trading_signal(self, current_index):\n",
    "        '''\n",
    "        This function checks to see if the current_index in the equilibs list\n",
    "        gives the first half of a trading signal (i.e. moves outside of the\n",
    "        equilibrium zone). From the paper:\n",
    "        TRADING RULE\n",
    "        - if(errors_y < lowerb): then short X and simultaneously long Y.\n",
    "              Reverse the position once errors_y reverts back up to zero.\n",
    "        - if(errors_y > upperb): then long X and simultaneously short Y.\n",
    "              Reverse the position once errors_y reverts back down to zero.\n",
    "        \n",
    "        Parameters\n",
    "        ----------\n",
    "        current_index : int\n",
    "            Gives the current index being considered (does that index give the\n",
    "            first half of a trading signal?)\n",
    "            \n",
    "        Returns\n",
    "        -------\n",
    "        half1_signal : string\n",
    "            Either 'buy' or 'sell' depending on whether the values moved below\n",
    "            or above the equilibrium zone.\n",
    "        '''\n",
    "        diffs = self.diffs\n",
    "        equilibs = self.equilibs\n",
    "        # Initialize gives_signal\n",
    "        gives_signal = 'none'\n",
    "        # Checking  first value in the series for signal, current_index = 0\n",
    "        if(current_index == 0):\n",
    "            # Is there a buy signal? If so, is it coming at the end of the\n",
    "            # time frame and isn't being considered?\n",
    "            if(equilibs[current_index] == 'below'):\n",
    "                if(self.consider_signal(current_index)):\n",
    "                    gives_signal = 'buy'\n",
    "            elif(equilibs[current_index] == 'above'):\n",
    "                if(self.consider_signal(current_index)):\n",
    "                    gives_signal = 'sell'\n",
    "            else: gives_signal = 'none'\n",
    "        # For all non-0 indices the immediately-preceding val must be 'within'\n",
    "        elif(equilibs[current_index-1] == 'within'):\n",
    "            if(equilibs[current_index] == 'below'):\n",
    "                if(self.consider_signal(current_index)):\n",
    "                    gives_signal = 'buy'\n",
    "            elif(equilibs[current_index] == 'above'):\n",
    "                if(self.consider_signal(current_index)):\n",
    "                    gives_signal = 'sell'\n",
    "            else: gives_signal = 'none'\n",
    "        # Everything else is a 'none'\n",
    "        else: gives_signal = 'none'\n",
    "        return gives_signal\n",
    "    \n",
    "    \n",
    "    \n",
    "    def find_half2_trading_signal(self, half1, current_index):\n",
    "        '''\n",
    "        This function checks to see if the diffs (btwn pred prc and actual prc)\n",
    "        gives the second half of a trading signal (i.e. moves across zero line)\n",
    "        From the paper:\n",
    "        TRADING RULE\n",
    "        - if(errors_y < lowerb): then short X and simultaneously long Y.\n",
    "              Reverse the position once errors_y reverts back up to zero.\n",
    "        - if(errors_y > upperb): then long X and simultaneously short Y.\n",
    "              Reverse the position once errors_y reverts back down to zero.\n",
    "        \n",
    "        Parameters\n",
    "        ----------\n",
    "        half1 : string\n",
    "            Is either 'buy' or 'sell' depending on the first-half of the signal\n",
    "        current_index : int\n",
    "            Gives the index being considered (picks up where the half1 of the \n",
    "            signal leaves off).\n",
    "            \n",
    "        Returns\n",
    "        -------\n",
    "        gives_half2 : bool\n",
    "            Returns True when the function finds the second half of a signal,\n",
    "            returns False otherwise.\n",
    "        '''\n",
    "        diffs = self.diffs\n",
    "        # Intialize this indicator bool to be False \n",
    "        gives_half2 = False\n",
    "        # If the first half signal was 'buy'\n",
    "        if(half1 == 'buy'):\n",
    "            if(diffs[current_index] >= 0):\n",
    "                gives_half2 = True\n",
    "        # If the first half signal was 'sell'\n",
    "        elif(half1 == 'sell'):\n",
    "            if(diffs[current_index] <= 0):\n",
    "                gives_half2 = True       \n",
    "        return gives_half2\n",
    "    \n",
    "    \n",
    "    \n",
    "    def num_buys_sells(self):\n",
    "        '''\n",
    "        This function counts the number of buy signal pairs and sell signal\n",
    "        pairs. (Since each buy or sell only closes once the diffs move back\n",
    "        across 0, there is an opening half and a closing half for each signal,\n",
    "        hence they're a pair).\n",
    "        \n",
    "        Parameters\n",
    "        ----------\n",
    "        self\n",
    "            \n",
    "        Returns\n",
    "        -------\n",
    "        num_signals : tuple (int, int)\n",
    "            Tuple consists of the number of buy signal pairs and sell signal\n",
    "            pairs (num_buys, num_sells)    \n",
    "        '''\n",
    "        # Call the function to calculate the diffs, lowerb, and upperb\n",
    "        diffs = self.diffs\n",
    "        # Call the function to calculate the equilibs\n",
    "        equilibs = self.equilibs\n",
    "        # Initialize the number of pair signals\n",
    "        num_buys = 0\n",
    "        num_sells = 0\n",
    "        # Set bools to have us start by looking for the first half of a signal.\n",
    "        looking_half1 = True\n",
    "        looking_half2 = False\n",
    "        # looping through the whole series of diffs\n",
    "        for i in range(len(diffs)):\n",
    "            # Checking for half1 (based on bool)\n",
    "            if(looking_half1):\n",
    "                # Call fctn to see if we get half1 of a signal\n",
    "                half1 = self.find_half1_trading_signal(i)\n",
    "                # Go into this if statement once we've found half1 of a signal\n",
    "                # We need to flip the bools so now we're looking for half2\n",
    "                if(half1 != 'none'):\n",
    "                    looking_half1 = False\n",
    "                    looking_half2 = True    \n",
    "            # Now we're looking for half2 of the signal once we've found half1.\n",
    "            if(looking_half2):\n",
    "                # Call fctn to see if we get half2 of a signal\n",
    "                half2 = self.find_half2_trading_signal(half1, i)\n",
    "                # Go into this if statement once we've found half2 of a signal\n",
    "                # We again need to flip the bools so now we're looking for half1\n",
    "                # of a signal again.\n",
    "                if(half2):\n",
    "                    looking_half1 = True\n",
    "                    looking_half2 = False\n",
    "                    # If we have a buy, increment num_buys by 1, else num_sells \n",
    "                    if(half1 == 'buy'):\n",
    "                        num_buys += 1\n",
    "                    elif(half1 == 'sell'): \n",
    "                        num_sells += 1\n",
    "        # Return a tuple containing the number of buys and sells.\n",
    "        num_signals = (num_buys, num_sells)\n",
    "        return num_signals\n",
    "\n",
    "\n",
    "        \n",
    "    def find_signal_indices(self, signal_type):\n",
    "        \"\"\"\n",
    "        This function finds the indices for the opening and closing of a \n",
    "        'signal_type' position (e.g. finds the index of the opening of the\n",
    "        first buy position and finds the corresponding index of the closing of\n",
    "        the first buy position).\n",
    "        \n",
    "        Parameters\n",
    "        ----------\n",
    "        signal_type : string\n",
    "            Either 'buy' or 'sell'\n",
    "            \n",
    "        Returns\n",
    "        -------\n",
    "        tuple : (string, int, int)\n",
    "            First element string is just the signal_type ('buy' or 'sell'), the\n",
    "            first int is the index of the position opening, the second int is\n",
    "            the index of the position closing.\n",
    "        \"\"\"\n",
    "        # Call the function to calculate the diffs, lowerb, and upperb\n",
    "        diffs = self.diffs\n",
    "        # Call the function to calculate the equilibs\n",
    "        equilibs = self.equilibs\n",
    "        # Initialize the indices of the position open and close\n",
    "        half1_index = 0\n",
    "        half2_index = 0\n",
    "        # Set bools to have us start by looking for the first half of a signal.\n",
    "        looking_half1 = True\n",
    "        looking_half2 = False\n",
    "        # Set a bool to indicate whether we've found the first pair of the\n",
    "        # desired signal_type yet\n",
    "        found_pair = False\n",
    "        # looping through the whole series of diffs\n",
    "        for i in range(len(diffs)):\n",
    "            # Checking for half1 (based on bool)\n",
    "            if(looking_half1):\n",
    "                # Call fctn to see if we get half1 of a signal\n",
    "                half1 = self.find_half1_trading_signal(i)\n",
    "                # Go into this if statement once we've found half1 of a signal\n",
    "                # We need to flip the bools so now we're looking for half2\n",
    "                if(half1 == signal_type):\n",
    "                    looking_half1 = False\n",
    "                    looking_half2 = True \n",
    "                    half1_index = i                    \n",
    "            # Now we're looking for half2 of the signal once we've found half1.\n",
    "            if(looking_half2):\n",
    "                # Call fctn to see if we get half2 of a signal\n",
    "                half2 = self.find_half2_trading_signal(signal_type, i)\n",
    "                # Go into this if statement once we've found half2 of a signal\n",
    "                # We again need to flip the bools so now we're looking for half1\n",
    "                # of a signal again.\n",
    "                if(half2):\n",
    "                    half2_index = i\n",
    "                    break\n",
    "        # Return a tuple containing the number of buys and sells.\n",
    "        signal_info = (half1, half1_index, half2_index)\n",
    "        return signal_info\n",
    "    \n",
    "    \n",
    "    def calc_return(self, signal_type):\n",
    "        \"\"\"\n",
    "        This function calculates the return of a trading position (either the\n",
    "        first buy or the first sell).\n",
    "        \n",
    "        Parameters\n",
    "        ----------\n",
    "        signal_type : string\n",
    "            Is either 'buy' or 'sell', the type of signal for which we\n",
    "            calculate the return of the first signal.\n",
    "        \n",
    "        Returns\n",
    "        -------\n",
    "        pct_return : float\n",
    "            This is the percent return using the log prices of the CTWS\n",
    "            (regressor) series and log prices of the WTR (regressand) series.\n",
    "        \"\"\"\n",
    "        # Find the indices pair for the signal\n",
    "        inds = self.find_signal_indices(signal_type)\n",
    "        # Follow the trading rule outlined in the paper, calculating the\n",
    "        # returns for both the short and long positions, then add them.\n",
    "        if(signal_type == 'buy'):\n",
    "            short_return = (self.x_log_prcs[inds[1]] - self.x_log_prcs[inds[2]])/self.x_log_prcs[inds[1]]\n",
    "            long_return = (self.y_log_prcs[inds[2]] - self.y_log_prcs[inds[1]])/self.y_log_prcs[inds[1]]\n",
    "        else :\n",
    "            short_return = (self.y_log_prcs[inds[1]] - self.y_log_prcs[inds[2]])/self.y_log_prcs[inds[1]]\n",
    "            long_return = (self.x_log_prcs[inds[2]] - self.x_log_prcs[inds[1]])/self.x_log_prcs[inds[1]]\n",
    "        total_return = 100 * (short_return + long_return)\n",
    "        return total_return"
   ]
  },
  {
   "cell_type": "code",
   "execution_count": null,
   "metadata": {},
   "outputs": [],
   "source": [
    "\n",
    "\n",
    "\n",
    "\n",
    "\n"
   ]
  },
  {
   "cell_type": "markdown",
   "metadata": {},
   "source": [
    "Before moving on to calculations and plotting, let me answer the question of what a $\\textit{buy signal}$ and a $\\textit{sell signal}$ are in the context of pairs trading, and how I implement them in my coding. \n",
    "\n",
    "Referring to the TRADING RULE section on page 55 of THE JOURNAL OF TRADING, Spring 2011 edition we see the following:\n",
    "- if $\\textit{diff}$ < $\\textit{lowerBound}$ then short CTWS and simultaneoulsy long WTR....The entire position is reversed once $\\textit{diff}$ reverts back up to zero. If a position is not closed out prior to December 31, 2008, then that position is not considered at all.\n",
    "- if $\\textit{diff}$ > $\\textit{upperBound}$ then long CTWS and simultaneoulsy short WTR....The entire position is reversed once $\\textit{diff}$ reverts back down to zero. If a position is not closed out prior to December 31, 2008, then that position is not considered at all.\n",
    "\n",
    "Before giving my explanation, note that I used the ter 'equilibrium zone' to mean the range of $\\textit{diff}$ values that starts at the $\\textit{lowerBound}$ and extends up to the $\\textit{upperBound}$ centered about the 0-line.\n",
    "\n",
    "The intuition behind this trading rule is that the system (the relationship between the prices of these pairs of stocks) can move into dis-equilibrium but must move back to equilibrium in a predictable way due to their co-integrated relationship. The quantitative realization of this intution is the (vector) error-correction model: here the 'diffs' I calculate are the errors being corrected (hence the name). I implement all of this in the $\\textit{calc_preds_eps_diffs_bounds}$ method in the $\\textit{GenerateInfo}$ class: equations 6, 7, and 8 from the paper are used to calculate the actual relationship between the two series, the predicted relationship between the two series (based on co-integration), and the difference between these two calculations. These differences, and the variation within them, are what define the equilibrium zone and illusrate when the system (system of relative prices) is moving out of equilibrium (e.g. moves below or above the lower bound of the equilibrium zone). When we see that the system is moving out of equilibrium it gives us a signal that one of the series has to move back upward (we long that stock) and the other has to move back downward (we short that stock) depending on which series is the regressand (\"Granger-caused\") and which series is the regressor (\"Granger-causing\"), and whether the 'diffs' moved above or below the equilibrium zone. Then once the system \"reverts back to zero\" the system of relative prices has moved back into equilibrium; thus we reverse our positions since the system has corrected itself and that specific $\\textbf{ARBITRAGE OPPORTUNITY}$ has concluded, with more to come along in the future.\n",
    "\n",
    "In essence, this pairs trading strategy is taking advantage of a very well-define $\\textit{arbitrage recipe}$ for a system of relative prices with predictable, co-integrated behavior. Also, it must be made clear that a single 'buy signal' or a 'sell signal' is composed of an opening half (moving out of eq-zone and going long on one stock and short on the other) and a closing half (crossing back over the 0-line and reversing the long/short positions).  \n",
    "Understanding this [opening signal, closing signal] = [one signal] took me some time to realize and was not trivial to implement in code."
   ]
  },
  {
   "cell_type": "code",
   "execution_count": null,
   "metadata": {},
   "outputs": [],
   "source": [
    "\n",
    "\n",
    "\n",
    "\n"
   ]
  },
  {
   "cell_type": "markdown",
   "metadata": {},
   "source": [
    "Now that we have defined what a buy/sell signal is and implemented the necessary classes above let's use them to complete the remaining tasks in the project.  \n",
    "First lets:\n",
    "- plot the time series graph showing the 'diffs' array along with the 'equilibrium zone' for a given pair of stocks and all possible $\\delta_i \\in \\{0.25, 0.5, 0.75\\}$ values\n",
    "- calculate the number of buy and sell signals for each trading rule\n",
    "- summarize these results in a table (one table for each pair of stocks)\n",
    "\n",
    "After having done this for each pair of stocks and $\\delta$ values I will:\n",
    "- identify the first buy signal and first sell signal for each pair using the $\\delta_1 = 0.25$ trading rule, calculating how many days each position is held for, and calculating the return on the trades"
   ]
  },
  {
   "cell_type": "code",
   "execution_count": null,
   "metadata": {},
   "outputs": [],
   "source": [
    "\n",
    "\n",
    "\n",
    "\n",
    "\n"
   ]
  },
  {
   "cell_type": "markdown",
   "metadata": {},
   "source": [
    "### For the pair $\\textbf{x = CTWS}$ and $\\textbf{y = WTR}$ with $\\delta_i \\in \\{0.25,0.5,0.75\\}$:"
   ]
  },
  {
   "cell_type": "code",
   "execution_count": 26,
   "metadata": {},
   "outputs": [
    {
     "data": {
      "image/png": "[encoded data removed]",
      "text/plain": [
       "<Figure size 432x288 with 1 Axes>"
      ]
     },
     "metadata": {
      "needs_background": "light"
     },
     "output_type": "display_data"
    },
    {
     "name": "stdout",
     "output_type": "stream",
     "text": [
      "num_buys: 12\n",
      "num_sells: 14\n"
     ]
    }
   ],
   "source": [
    "# Use the GenerateInfo class to generate equilibs and diffs\n",
    "xCTWS_yWTR_25 = GenerateInfo(ctws_log_prcs, wtr_log_prcs, 0.25, \"CTWS\", \"WTR\", \"0.25\")\n",
    "xCTWS_yWTR_25_equilibs = xCTWS_yWTR_25.gen_equilib()\n",
    "xCTWS_yWTR_25_diffs = xCTWS_yWTR_25.calc_preds_eps_diffs_bounds()[0]\n",
    "# Use the NumSignals class to calculate the number of pairs of buy signals and\n",
    "# the number of pairs of trade signals. Also plot the figure.\n",
    "xCTWS_yWTR_25_signals = NumSignals(xCTWS_yWTR_25_diffs, xCTWS_yWTR_25_equilibs, ctws_log_prcs, wtr_log_prcs)\n",
    "xCTWS_yWTR_25.gen_plot()\n",
    "print(\"num_buys:\", xCTWS_yWTR_25_signals.num_buys_sells()[0])\n",
    "print(\"num_sells:\", xCTWS_yWTR_25_signals.num_buys_sells()[1])"
   ]
  },
  {
   "cell_type": "code",
   "execution_count": 27,
   "metadata": {},
   "outputs": [
    {
     "data": {
      "image/png": "[encoded data removed]",
      "text/plain": [
       "<Figure size 432x288 with 1 Axes>"
      ]
     },
     "metadata": {
      "needs_background": "light"
     },
     "output_type": "display_data"
    },
    {
     "name": "stdout",
     "output_type": "stream",
     "text": [
      "num_buys: 5\n",
      "num_sells: 4\n"
     ]
    }
   ],
   "source": [
    "# Use the GenerateInfo class to generate equilibs and diffs\n",
    "xCTWS_yWTR_5 = GenerateInfo(ctws_log_prcs, wtr_log_prcs, 0.5, \"CTWS\", \"WTR\", \"0.5\")\n",
    "xCTWS_yWTR_5_equilibs = xCTWS_yWTR_5.gen_equilib()\n",
    "xCTWS_yWTR_5_diffs = xCTWS_yWTR_5.calc_preds_eps_diffs_bounds()[0]\n",
    "# Use the NumSignals class to calculate the number of pairs of buy signals and\n",
    "# the number of pairs of trade signals. Also plot the figure.\n",
    "xCTWS_yWTR_5_signals = NumSignals(xCTWS_yWTR_5_diffs, xCTWS_yWTR_5_equilibs, ctws_log_prcs, wtr_log_prcs)\n",
    "xCTWS_yWTR_5.gen_plot()\n",
    "print(\"num_buys:\", xCTWS_yWTR_5_signals.num_buys_sells()[0])\n",
    "print(\"num_sells:\", xCTWS_yWTR_5_signals.num_buys_sells()[1])"
   ]
  },
  {
   "cell_type": "code",
   "execution_count": 28,
   "metadata": {},
   "outputs": [
    {
     "data": {
      "image/png": "[encoded data removed]",
      "text/plain": [
       "<Figure size 432x288 with 1 Axes>"
      ]
     },
     "metadata": {
      "needs_background": "light"
     },
     "output_type": "display_data"
    },
    {
     "name": "stdout",
     "output_type": "stream",
     "text": [
      "num_buys: 3\n",
      "num_sells: 4\n"
     ]
    }
   ],
   "source": [
    "#------ [x=CTWS] + [y=WTR] + [delta_i = 0.75] ---------------------------------\n",
    "# Use the GenerateInfo class to generate equilibs and diffs\n",
    "xCTWS_yWTR_75 = GenerateInfo(ctws_log_prcs, wtr_log_prcs, 0.75, \"CTWS\", \"WTR\", \"0.75\")\n",
    "xCTWS_yWTR_75_equilibs = xCTWS_yWTR_75.gen_equilib()\n",
    "xCTWS_yWTR_75_diffs = xCTWS_yWTR_75.calc_preds_eps_diffs_bounds()[0]\n",
    "# Use the NumSignals class to calculate the number of pairs of buy signals and\n",
    "# the number of pairs of trade signals. Also plot the figure.\n",
    "xCTWS_yWTR_75_signals = NumSignals(xCTWS_yWTR_75_diffs, xCTWS_yWTR_75_equilibs,  ctws_log_prcs, wtr_log_prcs)\n",
    "xCTWS_yWTR_75.gen_plot()\n",
    "print(\"num_buys:\", xCTWS_yWTR_75_signals.num_buys_sells()[0])\n",
    "print(\"num_sells:\", xCTWS_yWTR_75_signals.num_buys_sells()[1])"
   ]
  },
  {
   "cell_type": "markdown",
   "metadata": {},
   "source": [
    "### For the pair $\\textbf{x = CTWS}$ and $\\textbf{y = WTR}$:\n",
    "\n",
    "| $\\delta_i$ | num_buys | num_sells |\n",
    "|------------|----------|-----------|\n",
    "| 0.25       | 12       | 14        |\n",
    "| 0.5        | 5        | 4         |\n",
    "| 0.75       | 3        | 4         |"
   ]
  },
  {
   "cell_type": "code",
   "execution_count": null,
   "metadata": {},
   "outputs": [],
   "source": [
    "\n",
    "\n",
    "\n",
    "\n",
    "\n",
    "\n",
    "\n"
   ]
  },
  {
   "cell_type": "markdown",
   "metadata": {},
   "source": [
    "### For the pair $\\textbf{x = WTR}$ and $\\textbf{y = AWR}$ with $\\delta_i \\in \\{0.25,0.5,0.75\\}$:"
   ]
  },
  {
   "cell_type": "code",
   "execution_count": 29,
   "metadata": {},
   "outputs": [
    {
     "data": {
      "image/png": "[encoded data removed]",
      "text/plain": [
       "<Figure size 432x288 with 1 Axes>"
      ]
     },
     "metadata": {
      "needs_background": "light"
     },
     "output_type": "display_data"
    },
    {
     "name": "stdout",
     "output_type": "stream",
     "text": [
      "num_buys: 24\n",
      "num_sells: 25\n"
     ]
    }
   ],
   "source": [
    "# Use the GenerateInfo class to generate equilibs and diffs\n",
    "xWTR_yAWR_25 = GenerateInfo(wtr_log_prcs, awr_log_prcs, 0.25, \"WTR\", \"AWR\", \"0.25\")\n",
    "xWTR_yAWR_25_equilibs = xWTR_yAWR_25.gen_equilib()\n",
    "xWTR_yAWR_25_diffs = xWTR_yAWR_25.calc_preds_eps_diffs_bounds()[0]\n",
    "# Use the NumSignals class to calculate the number of pairs of buy signals and\n",
    "# the number of pairs of trade signals. Also plot the figure.\n",
    "xWTR_yAWR_25_signals = NumSignals(xWTR_yAWR_25_diffs, xWTR_yAWR_25_equilibs, wtr_log_prcs, awr_log_prcs)\n",
    "xWTR_yAWR_25.gen_plot()\n",
    "print(\"num_buys:\", xWTR_yAWR_25_signals.num_buys_sells()[0])\n",
    "print(\"num_sells:\", xWTR_yAWR_25_signals.num_buys_sells()[1])"
   ]
  },
  {
   "cell_type": "code",
   "execution_count": 30,
   "metadata": {},
   "outputs": [
    {
     "data": {
      "image/png": "[encoded data removed]",
      "text/plain": [
       "<Figure size 432x288 with 1 Axes>"
      ]
     },
     "metadata": {
      "needs_background": "light"
     },
     "output_type": "display_data"
    },
    {
     "name": "stdout",
     "output_type": "stream",
     "text": [
      "num_buys: 13\n",
      "num_sells: 12\n"
     ]
    }
   ],
   "source": [
    "# Use the GenerateInfo class to generate equilibs and diffs\n",
    "xWTR_yAWR_5 = GenerateInfo(wtr_log_prcs, awr_log_prcs, 0.5, \"WTR\", \"AWR\", \"0.5\")\n",
    "xWTR_yAWR_5_equilibs = xWTR_yAWR_5.gen_equilib()\n",
    "xWTR_yAWR_5_diffs = xWTR_yAWR_5.calc_preds_eps_diffs_bounds()[0]\n",
    "# Use the NumSignals class to calculate the number of pairs of buy signals and\n",
    "# the number of pairs of trade signals. Also plot the figure.\n",
    "xWTR_yAWR_5_signals = NumSignals(xWTR_yAWR_5_diffs, xWTR_yAWR_5_equilibs, wtr_log_prcs, awr_log_prcs)\n",
    "xWTR_yAWR_5.gen_plot()\n",
    "print(\"num_buys:\", xWTR_yAWR_5_signals.num_buys_sells()[0])\n",
    "print(\"num_sells:\", xWTR_yAWR_5_signals.num_buys_sells()[1])"
   ]
  },
  {
   "cell_type": "code",
   "execution_count": 31,
   "metadata": {},
   "outputs": [
    {
     "data": {
      "image/png": "[encoded data removed]",
      "text/plain": [
       "<Figure size 432x288 with 1 Axes>"
      ]
     },
     "metadata": {
      "needs_background": "light"
     },
     "output_type": "display_data"
    },
    {
     "name": "stdout",
     "output_type": "stream",
     "text": [
      "num_buys: 9\n",
      "num_sells: 9\n"
     ]
    }
   ],
   "source": [
    "# Use the GenerateInfo class to generate equilibs and diffs\n",
    "xWTR_yAWR_75 = GenerateInfo(wtr_log_prcs, awr_log_prcs, 0.75, \"WTR\", \"AWR\", \"0.75\")\n",
    "xWTR_yAWR_75_equilibs = xWTR_yAWR_75.gen_equilib()\n",
    "xWTR_yAWR_75_diffs = xWTR_yAWR_75.calc_preds_eps_diffs_bounds()[0]\n",
    "# Use the NumSignals class to calculate the number of pairs of buy signals and\n",
    "# the number of pairs of trade signals. Also plot the figure.\n",
    "xWTR_yAWR_75_signals = NumSignals(xWTR_yAWR_75_diffs, xWTR_yAWR_75_equilibs, wtr_log_prcs, awr_log_prcs)\n",
    "xWTR_yAWR_75.gen_plot()\n",
    "print(\"num_buys:\", xWTR_yAWR_75_signals.num_buys_sells()[0])\n",
    "print(\"num_sells:\", xWTR_yAWR_75_signals.num_buys_sells()[1])"
   ]
  },
  {
   "cell_type": "markdown",
   "metadata": {},
   "source": [
    "### For the pair $\\textbf{x = WTR}$ and $\\textbf{y = AWR}$:\n",
    "\n",
    "| $\\delta_i$ | num_buys | num_sells |\n",
    "|------------|----------|-----------|\n",
    "| 0.25       | 24       | 25        |\n",
    "| 0.5        | 13       | 12        |\n",
    "| 0.75       | 9        | 9         |"
   ]
  },
  {
   "cell_type": "code",
   "execution_count": null,
   "metadata": {},
   "outputs": [],
   "source": [
    "\n",
    "\n",
    "\n",
    "\n",
    "\n",
    "\n"
   ]
  },
  {
   "cell_type": "markdown",
   "metadata": {},
   "source": [
    "### For the pair $\\textbf{x = CTWS}$ and $\\textbf{y = AWR}$ with $\\delta_i \\in \\{0.25,0.5,0.75\\}$:"
   ]
  },
  {
   "cell_type": "code",
   "execution_count": 34,
   "metadata": {},
   "outputs": [
    {
     "data": {
      "image/png": "[encoded data removed]",
      "text/plain": [
       "<Figure size 432x288 with 1 Axes>"
      ]
     },
     "metadata": {
      "needs_background": "light"
     },
     "output_type": "display_data"
    },
    {
     "name": "stdout",
     "output_type": "stream",
     "text": [
      "num_buys: 21\n",
      "num_sells: 7\n"
     ]
    }
   ],
   "source": [
    "xCTWS_yAWR_25 = GenerateInfo(ctws_log_prcs, awr_log_prcs, 0.25, \"CTWS\", \"AWR\", \"0.25\")\n",
    "xCTWS_yAWR_25_equilibs = xCTWS_yAWR_25.gen_equilib()\n",
    "xCTWS_yAWR_25_diffs = xCTWS_yAWR_25.calc_preds_eps_diffs_bounds()[0]\n",
    "# Use the NumSignals class to calculate the number of pairs of buy signals and\n",
    "# the number of pairs of trade signals. Also plot the figure.\n",
    "xCTWS_yAWR_25_signals = NumSignals(xCTWS_yAWR_25_diffs, xCTWS_yAWR_25_equilibs, ctws_log_prcs, awr_log_prcs)\n",
    "xCTWS_yAWR_25.gen_plot()\n",
    "print(\"num_buys:\", xCTWS_yAWR_25_signals.num_buys_sells()[0])\n",
    "print(\"num_sells:\", xCTWS_yAWR_25_signals.num_buys_sells()[1])"
   ]
  },
  {
   "cell_type": "code",
   "execution_count": 35,
   "metadata": {},
   "outputs": [
    {
     "data": {
      "image/png": "[encoded data removed]",
      "text/plain": [
       "<Figure size 432x288 with 1 Axes>"
      ]
     },
     "metadata": {
      "needs_background": "light"
     },
     "output_type": "display_data"
    },
    {
     "name": "stdout",
     "output_type": "stream",
     "text": [
      "num_buys: 10\n",
      "num_sells: 0\n"
     ]
    }
   ],
   "source": [
    "# Use the GenerateInfo class to generate equilibs and diffs\n",
    "xCTWS_yAWR_5 = GenerateInfo(ctws_log_prcs, awr_log_prcs, 0.5, \"CTWS\", \"AWR\", \"0.5\")\n",
    "xCTWS_yAWR_5_equilibs = xCTWS_yAWR_5.gen_equilib()\n",
    "xCTWS_yAWR_5_diffs = xCTWS_yAWR_5.calc_preds_eps_diffs_bounds()[0]\n",
    "# Use the NumSignals class to calculate the number of pairs of buy signals and\n",
    "# the number of pairs of trade signals. Also plot the figure.\n",
    "xCTWS_yAWR_5_signals = NumSignals(xCTWS_yAWR_5_diffs, xCTWS_yAWR_5_equilibs, ctws_log_prcs, awr_log_prcs)\n",
    "xCTWS_yAWR_5.gen_plot()\n",
    "print(\"num_buys:\", xCTWS_yAWR_5_signals.num_buys_sells()[0])\n",
    "print(\"num_sells:\", xCTWS_yAWR_5_signals.num_buys_sells()[1])"
   ]
  },
  {
   "cell_type": "code",
   "execution_count": 36,
   "metadata": {},
   "outputs": [
    {
     "data": {
      "image/png": "[encoded data removed]",
      "text/plain": [
       "<Figure size 432x288 with 1 Axes>"
      ]
     },
     "metadata": {
      "needs_background": "light"
     },
     "output_type": "display_data"
    },
    {
     "name": "stdout",
     "output_type": "stream",
     "text": [
      "num_buys: 6\n",
      "num_sells: 0\n"
     ]
    }
   ],
   "source": [
    "# Use the GenerateInfo class to generate equilibs and diffs\n",
    "xCTWS_yAWR_75 = GenerateInfo(ctws_log_prcs, awr_log_prcs, 0.75, \"CTWS\", \"AWR\", \"0.75\")\n",
    "xCTWS_yAWR_75_equilibs = xCTWS_yAWR_75.gen_equilib()\n",
    "xCTWS_yAWR_75_diffs = xCTWS_yAWR_75.calc_preds_eps_diffs_bounds()[0]\n",
    "# Use the NumSignals class to calculate the number of pairs of buy signals and\n",
    "# the number of pairs of trade signals. Also plot the figure.\n",
    "xCTWS_yAWR_75_signals = NumSignals(xCTWS_yAWR_75_diffs, xCTWS_yAWR_75_equilibs, ctws_log_prcs, awr_log_prcs)\n",
    "xCTWS_yAWR_75.gen_plot()\n",
    "print(\"num_buys:\", xCTWS_yAWR_75_signals.num_buys_sells()[0])\n",
    "print(\"num_sells:\", xCTWS_yAWR_75_signals.num_buys_sells()[1])"
   ]
  },
  {
   "cell_type": "markdown",
   "metadata": {},
   "source": [
    "### For the pair $\\textbf{x = CTWS}$ and $\\textbf{y = AWR}$:\n",
    "\n",
    "| $\\delta_i$ | num_buys | num_sells |\n",
    "|------------|----------|-----------|\n",
    "| 0.25       | 21       | 7         |\n",
    "| 0.5        | 10       | 0         |\n",
    "| 0.75       | 6        | 0         |"
   ]
  },
  {
   "cell_type": "code",
   "execution_count": null,
   "metadata": {},
   "outputs": [],
   "source": [
    "\n",
    "\n",
    "\n",
    "\n",
    "\n",
    "\n"
   ]
  },
  {
   "cell_type": "markdown",
   "metadata": {},
   "source": [
    "## Now that we've calculated the number of signals and visually represented them the last task we have is to:\n",
    "- identify the first buy signal and first sell signal for each pair using the $\\delta_1 = 0.25$ trading rule, calculating how many days each position is held for, and calculating the return on the trades\n",
    "\n",
    "$\\textbf{A NOTE:}$ since each signal is composed of a simultaneous long and short position, we calculate the 'long return' and 'short return' and simply add them to get the total return for the first buy signal, as well as for the first sell signal."
   ]
  },
  {
   "cell_type": "code",
   "execution_count": null,
   "metadata": {},
   "outputs": [],
   "source": [
    "\n",
    "\n"
   ]
  },
  {
   "cell_type": "markdown",
   "metadata": {},
   "source": [
    "### For the pair x = CTWS and y = WTR:"
   ]
  },
  {
   "cell_type": "code",
   "execution_count": 37,
   "metadata": {},
   "outputs": [
    {
     "name": "stdout",
     "output_type": "stream",
     "text": [
      "The number of days that the first buy position is held is 151, returning 11.053421%\n",
      "The number of days that the first sell position is held is 11, returning 5.057266%\n"
     ]
    }
   ],
   "source": [
    "firsts = NumSignals(xCTWS_yWTR_25_diffs, xCTWS_yWTR_25_equilibs, ctws_log_prcs, wtr_log_prcs)\n",
    "first_buy = firsts.find_signal_indices('buy')\n",
    "first_buy\n",
    "first_sell = firsts.find_signal_indices('sell')\n",
    "first_sell   \n",
    "print(\"The number of days that the first \", first_buy[0], \" position is held is \", \n",
    "      first_buy[2]-first_buy[1], \", returning \", round(firsts.calc_return('buy'),6), \"%\", sep=\"\")\n",
    "print(\"The number of days that the first \", first_sell[0], \" position is held is \", \n",
    "      first_sell[2]-first_sell[1], \", returning \", round(firsts.calc_return('sell'),6), \"%\", sep=\"\")"
   ]
  },
  {
   "cell_type": "markdown",
   "metadata": {},
   "source": [
    "- From this, we can deduce that the relative price system for CTWS and WTR stock was in dis-equilibrium for a long period of time for the first buy: over half a year ($\\textbf{151}$ trading days)! This was by far the longest signal duration for any of the pairs of stocks and the first signals.\n",
    "- For the buy we went short on CTWS (i.e. CTWS was over-priced) and we went long on WTR (i.e. WTR was under-priced). Once the market was 'correctly pricing' these stocks relative to one another the system was back to equilibrium and we closed out our position, returning $\\textbf{11.053421%}$.\n",
    "- The first sell signal for this pair only lasted for $\\textbf{11}$ trading days, so the system of relative prices corrected much more quickly than for the first buy.\n",
    "- For the sell we went long on CTWS (i.e. CTWS was under-priced) and we went short on WTR (i.e. WTR was over-priced). Once the market was 'correctly pricing' these stocks relative to one another the system was back to equilibrium and we closed out our position, returning $\\textbf{5.057266%}$."
   ]
  },
  {
   "cell_type": "code",
   "execution_count": null,
   "metadata": {},
   "outputs": [],
   "source": [
    "\n",
    "\n"
   ]
  },
  {
   "cell_type": "markdown",
   "metadata": {},
   "source": [
    "### For the pair x = WTR and y = AWR"
   ]
  },
  {
   "cell_type": "code",
   "execution_count": 38,
   "metadata": {},
   "outputs": [
    {
     "name": "stdout",
     "output_type": "stream",
     "text": [
      "The number of days that the first buy position is held is 3, returning 1.503591%\n",
      "The number of days that the first sell position is held is 12, returning 5.971284%\n"
     ]
    }
   ],
   "source": [
    "firsts = NumSignals(xWTR_yAWR_25_diffs, xWTR_yAWR_25_equilibs, wtr_log_prcs, awr_log_prcs)\n",
    "first_buy = firsts.find_signal_indices('buy')\n",
    "first_buy\n",
    "first_sell = firsts.find_signal_indices('sell')\n",
    "first_sell   \n",
    "print(\"The number of days that the first \", first_buy[0], \" position is held is \", \n",
    "      first_buy[2]-first_buy[1], \", returning \", round(firsts.calc_return('buy'),6), \"%\", sep=\"\")\n",
    "print(\"The number of days that the first \", first_sell[0], \" position is held is \", \n",
    "      first_sell[2]-first_sell[1], \", returning \", round(firsts.calc_return('sell'),6), \"%\", sep=\"\")"
   ]
  },
  {
   "cell_type": "markdown",
   "metadata": {},
   "source": [
    "- From this, we can see that the relative price system for WTR and AWR stock was in dis-equilibrium for a very short period of time for the first buy, only $\\textbf{3}$ trading days.\n",
    "- For the buy we went short on WTR (i.e. WTR was over-priced) and we went long on AWR (i.e. AWR was under-priced). Once the market was 'correctly pricing' these stocks relative to one another the system was back to equilibrium and we closed out our position, returning $\\textbf{1.503591%}$.\n",
    "- The first sell signal for this pair lasted for $\\textbf{12}$ trading days, so the system of relative prices for these stocks took a bit longer to correct than it did for the first buy.\n",
    "- For the sell we went long on WTR (i.e. WTR was under-priced) and we went short on AWR (i.e. AWR was over-priced). Once the market was 'correctly pricing' these stocks relative to one another the system was back to equilibrium and we closed out our position, returning $\\textbf{5.971284%}$."
   ]
  },
  {
   "cell_type": "code",
   "execution_count": null,
   "metadata": {},
   "outputs": [],
   "source": [
    "\n",
    "\n"
   ]
  },
  {
   "cell_type": "markdown",
   "metadata": {},
   "source": [
    "### For the pair x = CTWS and y = AWR"
   ]
  },
  {
   "cell_type": "code",
   "execution_count": 39,
   "metadata": {},
   "outputs": [
    {
     "name": "stdout",
     "output_type": "stream",
     "text": [
      "The number of days that the first buy position is held is 10, returning 3.823205%\n",
      "The number of days that the first sell position is held is 11, returning 3.506034%\n"
     ]
    }
   ],
   "source": [
    "firsts = NumSignals(xCTWS_yAWR_25_diffs, xCTWS_yAWR_25_equilibs, ctws_log_prcs, awr_log_prcs)\n",
    "first_buy = firsts.find_signal_indices('buy')\n",
    "first_buy\n",
    "first_sell = firsts.find_signal_indices('sell')\n",
    "first_sell   \n",
    "print(\"The number of days that the first \", first_buy[0], \" position is held is \", \n",
    "      first_buy[2]-first_buy[1], \", returning \", round(firsts.calc_return('buy'),6), \"%\", sep=\"\")\n",
    "print(\"The number of days that the first \", first_sell[0], \" position is held is \", \n",
    "      first_sell[2]-first_sell[1], \", returning \", round(firsts.calc_return('sell'),6), \"%\", sep=\"\")"
   ]
  },
  {
   "cell_type": "markdown",
   "metadata": {},
   "source": [
    "- From this, we can see that the relative price system for CTWS and AWR stock was in dis-equilibrium for $\\textbf{10}$ trading days for the first buy.\n",
    "- For the buy we went short on CTWS (i.e. CTWS was over-priced) and we went long on AWR (i.e. AWR was under-priced). Once the market was 'correctly pricing' these stocks relative to one another the system was back to equilibrium and we closed out our position and returning $\\textbf{3.823205%}$.\n",
    "- The first sell signal for this pair only lasted for $\\textbf{11}$ trading days, so the system of relative prices correctly much more quickly than for the first buy.\n",
    "- For the sell we went long on CTWS (i.e. CTWS was under-priced) and we went short on AWR (i.e. AWR was over-priced). Once the market was 'correctly pricing' these stocks relative to one another the system was back to equilibrium and we closed out our position and returning $\\textbf{3.506034%}$."
   ]
  },
  {
   "cell_type": "code",
   "execution_count": null,
   "metadata": {},
   "outputs": [],
   "source": [
    "\n",
    "\n",
    "\n",
    "\n",
    "\n",
    "\n",
    "\n",
    "\n",
    "\n",
    "\n",
    "\n",
    "\n"
   ]
  },
  {
   "cell_type": "markdown",
   "metadata": {},
   "source": [
    "# This was a super fun replcation project and I learned a ton!!  \n",
    "-- Jared"
   ]
  }
 ],
 "metadata": {
  "kernelspec": {
   "display_name": "Python 3",
   "language": "python",
   "name": "python3"
  },
  "language_info": {
   "codemirror_mode": {
    "name": "ipython",
    "version": 3
   },
   "file_extension": ".py",
   "mimetype": "text/x-python",
   "name": "python",
   "nbconvert_exporter": "python",
   "pygments_lexer": "ipython3",
   "version": "3.6.4"
  }
 },
 "nbformat": 4,
 "nbformat_minor": 2
}
