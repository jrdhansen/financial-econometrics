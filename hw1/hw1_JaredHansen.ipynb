{
 "cells": [
  {
   "cell_type": "markdown",
   "metadata": {},
   "source": [
    "# Finance 5330 - Homework1"
   ]
  },
  {
   "cell_type": "markdown",
   "metadata": {},
   "source": [
    "## -- Jared Hansen, A01439768\n",
    "## -- Due: Thursday, 02/01/2019"
   ]
  },
  {
   "cell_type": "markdown",
   "metadata": {},
   "source": [
    "### *** $\\textbf{NOTE:}$ the data are zipped together with this notebook, so the notebook can be run without modifying any file paths or additional pre-processing."
   ]
  },
  {
   "cell_type": "markdown",
   "metadata": {},
   "source": [
    "$\\textbf{Assignment Description}$\n",
    "\n",
    "Consider the daily stock returns of American Express (AXP), Caterpillar (CAT), and Starbucks (SBUX) from January 1999 to December 2008. The data are daily prices in the file stock-data-hwk1.txt.\n",
    "\n",
    "    (a) Calculate simple returns for the three series.\n",
    "\n",
    "    (b) Express the simple returns in percentages. Compute the sample mean, standard deviation, skewness, excess kurtosis, minimum, and maximum of the percentage simple returns.\n",
    "\n",
    "    (c) Transform the simple returns to log returns.\n",
    "\n",
    "    (d) Express the log returns in percentages. Compute the sample mean, standard deviation, skewness, excess kurtosis, minimum, and maximum of the percentage log returns.\n",
    "\n",
    "    (e) Test the null hypothesis that the mean of the log returns of each stock is zero. That is, perform three separate tests. Use 5% significance level to draw your conclusion.\n",
    "\n",
    "    (f) Plot histograms for each of the three series (both simple and log returns - so six graphs total).\n",
    "\n",
    "    (g) Test the null hypothesis that the lag-$2$ autocorrelation is zero for log returns.\n",
    "\n",
    "\n"
   ]
  },
  {
   "cell_type": "markdown",
   "metadata": {},
   "source": [
    "# Import statements"
   ]
  },
  {
   "cell_type": "code",
   "execution_count": 1,
   "metadata": {},
   "outputs": [],
   "source": [
    "import numpy as np\n",
    "import pandas as pd\n",
    "import scipy as sp\n",
    "from scipy import stats\n",
    "import matplotlib.pyplot as plt"
   ]
  },
  {
   "cell_type": "markdown",
   "metadata": {},
   "source": [
    "# Function Definitions"
   ]
  },
  {
   "cell_type": "code",
   "execution_count": 2,
   "metadata": {},
   "outputs": [],
   "source": [
    "def compute_rtns_series(log_bool, simp_v_pct, orig_series):\n",
    "    \"\"\"\n",
    "    This function computes the series of returns for the passed-in time series\n",
    "    array. See the Returns section below for the 4 types of returns we can\n",
    "    calculate and output with this function.\n",
    "    \n",
    "    Parameters\n",
    "    ----------\n",
    "    log_bool : bool\n",
    "        This indicates whether or not the computed series of returns should be\n",
    "        log-transformed (True) or not (False).\n",
    "    simp_v_pct : string\n",
    "        This indicates whether or not the computed series should be in the \n",
    "        form of simple (net) returns (\"net\") or simple returns expressed as\n",
    "        percentages (\"pct\").\n",
    "    orig_series : numpy ndarray\n",
    "        The original 1-dimensional time series array.\n",
    "        \n",
    "    Returns\n",
    "    -------\n",
    "    rtns_series : numpy ndarray\n",
    "        The final 1-dimensional time series array: either simple gross returns,\n",
    "        simple net (pctg) returns, simple gross log returns, or simple\n",
    "        net (pctg) log returns.\n",
    "    \"\"\"\n",
    "    # This deletes the first element of the series to create the array of numerator values for the gross returns.\n",
    "    grs_rtns_numrtr = np.delete(orig_series, 0)\n",
    "    # This deletes the last element of the series to create the array of denominator values for the gross returns.\n",
    "    grs_rtns_denmtr = np.delete(orig_series, len(orig_series) - 1)\n",
    "    # The below chunk will calculate the series of returns (rtns_series)\n",
    "    # according to whether we want \"simp\" (outer if chunk) or \"pct\" (outer\n",
    "    # else chunk) and log returns (inner if for each outer chunk) or not.\n",
    "    grs_rtns = grs_rtns_numrtr/grs_rtns_denmtr\n",
    "    if(simp_v_pct == \"simp\"):\n",
    "        rtns_series = grs_rtns - 1\n",
    "        if(log_bool):\n",
    "            rtns_series = np.log(grs_rtns)\n",
    "    elif(simp_v_pct == \"pct\"):\n",
    "        rtns_series = 100 * (grs_rtns - 1)\n",
    "        if(log_bool):\n",
    "            rtns_series = 100 * np.log(grs_rtns)\n",
    "    return rtns_series\n",
    "\n",
    "\n",
    "def compute_print_stats(log_bool, orig_series):\n",
    "    \"\"\"\n",
    "    This function computes and prints the desired statistics (sample mean,\n",
    "    standard deviation, skewness, excess kurtosis, minimum, maximum) of the\n",
    "    given time series array that has been converted to percentages.\n",
    "    The input time series array should be in its original form.\n",
    "    \n",
    "    Parameters\n",
    "    ----------\n",
    "    log_bool : bool\n",
    "        This indicates whether or not the computed series of returns should be\n",
    "        log-transformed (True) or not (False).\n",
    "    orig_series : numpy ndarray\n",
    "        The original 1-dimensional array of time series values (stock prices).\n",
    "    \n",
    "    Returns\n",
    "    -------\n",
    "    Nothing (prints information instead)\n",
    "    \"\"\"\n",
    "    # Set the simp_v_pct arg = to \"pct\" since we're calculating pctg returns.\n",
    "    rtns_as_pctgs = compute_rtns_series(log_bool, \"pct\", orig_series)\n",
    "    rtns_mean = np.mean(rtns_as_pctgs)\n",
    "    rtns_stDev = np.std(rtns_as_pctgs)\n",
    "    rtns_skew = sp.stats.skew(rtns_as_pctgs)\n",
    "    rtns_kurt = sp.stats.kurtosis(rtns_as_pctgs)\n",
    "    rtns_min = np.min(rtns_as_pctgs)\n",
    "    rtns_max = np.max(rtns_as_pctgs)\n",
    "    print(\"The mean of this series is            :\", rtns_mean)\n",
    "    print(\"The stDev of this series is           :\", rtns_stDev)\n",
    "    print(\"The skewness of this series is        :\", rtns_skew)\n",
    "    print(\"The excess kurtosis of this series is :\", rtns_kurt)\n",
    "    print(\"The minimum value of this series is   :\", rtns_min)\n",
    "    print(\"The maximum value of this series is   :\", rtns_max)\n",
    "    #== NOTE: I looked up the difference between kurtosis and excess kurtosis:\n",
    "    #==       [excess kurtosis = kurtosis - 3]. The default value of the\n",
    "    #==       \"fisher\" argument is True for the sp.stats.kurtosis() function.\n",
    "    #==       This default calculates excess kurtosis, so my code is correct.\n",
    "\n",
    "\n",
    "def hyp_test_lag2(series, rho_hat, ticker):\n",
    "    \"\"\"\n",
    "    This function calculates the test statistic for determining whether or not the\n",
    "    lagged-l autocorrelation for a series is 0.\n",
    "    --- H_0: the series has lagged-l autocorrelation = 0\n",
    "    --- H_A: the series has lagged-l autocorrelation != 0\n",
    "    Since the sample size for each of the series is 2514, this is a large \n",
    "    enough number that we can just use the standard normal distribution instead\n",
    "    of a t-distn for computing the threshold for reject/not reject.\n",
    "        That being the case, the threshold for rejecting H_0 is a test statistic\n",
    "    with an absolute value of > 1.96. The function prints a message giving the\n",
    "    computed test statistic and the result relative to reject/not H_0.\n",
    "    \n",
    "    Parameters\n",
    "    ----------\n",
    "    series : numpy ndarray\n",
    "        This is the original series. We just use it for obtaining sample size\n",
    "    rho_hat : float\n",
    "        This is the empirically estimated value of the autocorrelation (in this\n",
    "        case, lag-2 autocorr).\n",
    "    ticker : string\n",
    "        The ticker symbol of the series for which we're testing the hypothesis.\n",
    "        \n",
    "    Returns\n",
    "    -------\n",
    "        Nothing (prints message).\n",
    "    \"\"\"\n",
    "    test_stat = (np.sqrt(len(series)) * rho_hat)\n",
    "    if(abs(test_stat) > 1.96):\n",
    "        print(\"\\nSince the value of the test statistic [ sqrt(T)*\\hat{rho_2} =\",\n",
    "              round(test_stat, 4), \"] > |1.96| we reject the null hypothesis\",\n",
    "              \"that the lag-2 autocorrelation is 0 for \", ticker, \". This\",\n",
    "              \"implies that the data give evidence that lag-2 autocorrelation\",\n",
    "              \"is a value other than 0.\")\n",
    "    else:\n",
    "        print(\"\\nSince the value of the test statistic [ sqrt(T)*\\hat{rho_2} = \",\n",
    "              round(test_stat, 4), \"] < |1.96| we fail to reject the null\",\n",
    "              \"hypothesis that the lag-2 autocorrelation is 0 for\", ticker, \".\")\n",
    "\n"
   ]
  },
  {
   "cell_type": "markdown",
   "metadata": {},
   "source": [
    "# Data pre-processing."
   ]
  },
  {
   "cell_type": "code",
   "execution_count": 3,
   "metadata": {},
   "outputs": [],
   "source": [
    "# Import the full CSV file.\n",
    "raw_data = pd.read_csv(\"stock-data-hwk1.csv\")\n",
    "\n",
    "# Brough's code (thanks!) for separating into the data for each stock.\n",
    "tickers = ['AXP', 'CAT', 'SBUX']\n",
    "\n",
    "ind = raw_data.TICKER == tickers[0]\n",
    "axp_data = raw_data[ind]\n",
    "\n",
    "ind = raw_data.TICKER == tickers[1]\n",
    "cat_data = raw_data[ind]\n",
    "\n",
    "ind = raw_data.TICKER == tickers[2]\n",
    "sbux_data = raw_data[ind]"
   ]
  },
  {
   "cell_type": "markdown",
   "metadata": {},
   "source": [
    "## QUESTION A\n",
    "Calculate the simple returns for the three series"
   ]
  },
  {
   "cell_type": "markdown",
   "metadata": {},
   "source": [
    "**$\\textbf{NOTE}:$ I take \"simple returns\" to mean the simple net returns. Also, since the problem doesn't specify whether or not to display these calculations, I'll just show the first few values and last few values of each series using the NumPy view function."
   ]
  },
  {
   "cell_type": "code",
   "execution_count": 4,
   "metadata": {},
   "outputs": [],
   "source": [
    "# Create numpy ndarrays to store the price series for each stock\n",
    "axp_prcs = np.array(axp_data.PRC)\n",
    "cat_prcs = np.array(cat_data.PRC)\n",
    "sbux_prcs = np.array(sbux_data.PRC)"
   ]
  },
  {
   "cell_type": "code",
   "execution_count": 5,
   "metadata": {},
   "outputs": [
    {
     "name": "stdout",
     "output_type": "stream",
     "text": [
      "\n",
      "The first and last values for the series of simple (net) returns for the AXP (American Express) stock series:\n",
      " [-0.01908867  0.04080352  0.01206273 ... -0.01172529  0.01694915\n",
      "  0.03055556]\n"
     ]
    }
   ],
   "source": [
    "simp_net_rtns_AXP = compute_rtns_series(False, \"simp\", axp_prcs)\n",
    "print(\"\\nThe first and last values for the series of simple (net) returns for\",\n",
    "      \"the AXP (American Express) stock series:\\n\", simp_net_rtns_AXP.view())"
   ]
  },
  {
   "cell_type": "code",
   "execution_count": 6,
   "metadata": {},
   "outputs": [
    {
     "name": "stdout",
     "output_type": "stream",
     "text": [
      "\n",
      "The first and last values for the series of simple (net) returns for the CAT (Caterpillar) stock series:\n",
      " [-0.00263852  0.02645503  0.00902062 ... -0.00889513  0.03117619\n",
      "  0.0231333 ]\n"
     ]
    }
   ],
   "source": [
    "simp_net_rtns_CAT = compute_rtns_series(False, \"simp\", cat_prcs)\n",
    "print(\"\\nThe first and last values for the series of simple (net) returns for\",\n",
    "      \"the CAT (Caterpillar) stock series:\\n\", simp_net_rtns_CAT.view())"
   ]
  },
  {
   "cell_type": "code",
   "execution_count": 7,
   "metadata": {},
   "outputs": [
    {
     "name": "stdout",
     "output_type": "stream",
     "text": [
      "\n",
      "The first and last values for the series of simple (net) returns for the SBUX (Starbucks) stock series:\n",
      " [-0.03480278 -0.00841346  0.00363636 ... -0.0342246   0.03654485\n",
      "  0.01068376]\n"
     ]
    }
   ],
   "source": [
    "simp_net_rtns_SBUX = compute_rtns_series(False, \"simp\", sbux_prcs)\n",
    "print(\"\\nThe first and last values for the series of simple (net) returns for\",\n",
    "      \"the SBUX (Starbucks) stock series:\\n\", simp_net_rtns_SBUX.view())"
   ]
  },
  {
   "cell_type": "markdown",
   "metadata": {},
   "source": [
    "## QUESTION B\n",
    "Express the simple returns in percentages. Compute the sample mean, standard deviation, skewness, excess kurtosis, minimum, and maximum of the percentage simple returns."
   ]
  },
  {
   "cell_type": "markdown",
   "metadata": {},
   "source": [
    "** $\\textbf{NOTE:}$ I looked up the difference between kurtosis and excess kurtosis: [excess kurtosis = kurtosis - 3]. The default value of the \"fisher\" argument is True for the sp.stats.kurtosis() function that I used. This default calculates excess kurtosis, so my code is outputting the correct values for kurtosis (this is true of $\\textbf{QUESTION D}$ as well."
   ]
  },
  {
   "cell_type": "code",
   "execution_count": 8,
   "metadata": {},
   "outputs": [
    {
     "name": "stdout",
     "output_type": "stream",
     "text": [
      "\n",
      "The first and last values for the series of simple (net) returns in percentages for the AXP (American Express) stock series:\n",
      " [-1.908867    4.08035154  1.20627262 ... -1.17252931  1.69491525\n",
      "  3.05555556]\n",
      "The mean of this series is            : -0.02106031140329446\n",
      "The stDev of this series is           : 2.7818593435948444\n",
      "The skewness of this series is        : -5.208313956471862\n",
      "The excess kurtosis of this series is : 124.44294069288469\n",
      "The minimum value of this series is   : -65.47515257192677\n",
      "The maximum value of this series is   : 17.926565874730027\n"
     ]
    }
   ],
   "source": [
    "simp_net_pctg_AXP = compute_rtns_series(False, \"pct\", axp_prcs)\n",
    "print(\"\\nThe first and last values for the series of simple (net) returns in\",\n",
    "      \"percentages for the AXP (American Express) stock series:\\n\",\n",
    "      simp_net_pctg_AXP.view())\n",
    "compute_print_stats(False, axp_prcs)"
   ]
  },
  {
   "cell_type": "code",
   "execution_count": 9,
   "metadata": {},
   "outputs": [
    {
     "name": "stdout",
     "output_type": "stream",
     "text": [
      "\n",
      "The first and last values for the series of simple (net) returns in percentages for the CAT (Caterpillar) stock series:\n",
      " [-0.26385224  2.64550265  0.90206186 ... -0.88951311  3.11761927\n",
      "  2.31333028]\n",
      "The mean of this series is            : 0.028502911305367418\n",
      "The stDev of this series is           : 2.3797029209123965\n",
      "The skewness of this series is        : -3.4432131904258063\n",
      "The excess kurtosis of this series is : 73.34092966313085\n",
      "The minimum value of this series is   : -48.918269230769226\n",
      "The maximum value of this series is   : 14.72293067470436\n"
     ]
    }
   ],
   "source": [
    "simp_net_pctg_CAT = compute_rtns_series(False, \"pct\", cat_prcs)\n",
    "print(\"\\nThe first and last values for the series of simple (net) returns in\",\n",
    "      \"percentages for the CAT (Caterpillar) stock series:\\n\",\n",
    "      simp_net_pctg_CAT.view())\n",
    "compute_print_stats(False, cat_prcs)"
   ]
  },
  {
   "cell_type": "code",
   "execution_count": 10,
   "metadata": {},
   "outputs": [
    {
     "name": "stdout",
     "output_type": "stream",
     "text": [
      "\n",
      "The first and last values for the series of simple (net) returns in percentages for the SBUX (Starbucks) stock series:\n",
      " [-3.48027842 -0.84134615  0.36363636 ... -3.42245989  3.65448505\n",
      "  1.06837607]\n",
      "The mean of this series is            : -0.012275574677963768\n",
      "The stDev of this series is           : 3.1514480188676695\n",
      "The skewness of this series is        : -4.254069534905932\n",
      "The excess kurtosis of this series is : 67.94989625616\n",
      "The minimum value of this series is   : -49.300127249590986\n",
      "The maximum value of this series is   : 14.635364635364635\n"
     ]
    }
   ],
   "source": [
    "simp_net_pctg_SBUX = compute_rtns_series(False, \"pct\", sbux_prcs)\n",
    "print(\"\\nThe first and last values for the series of simple (net) returns in\",\n",
    "      \"percentages for the SBUX (Starbucks) stock series:\\n\",\n",
    "      simp_net_pctg_SBUX.view())\n",
    "compute_print_stats(False, sbux_prcs)"
   ]
  },
  {
   "cell_type": "markdown",
   "metadata": {},
   "source": [
    "## QUESTION C\n",
    "Transform the simple returns to log returns."
   ]
  },
  {
   "cell_type": "markdown",
   "metadata": {},
   "source": [
    "**$\\textbf{NOTE:}$ I just use my function (compute_rtns_series) to make these calculations rather than explicitly converting the simple net returns series."
   ]
  },
  {
   "cell_type": "code",
   "execution_count": 11,
   "metadata": {},
   "outputs": [
    {
     "name": "stdout",
     "output_type": "stream",
     "text": [
      "\n",
      "The first and last values for the series of simple (net) log-transformed returns for the AXP (American Express) stock series:\n",
      " [-0.01927321  0.03999303  0.01199055 ... -0.01179458  0.01680712\n",
      "  0.03009803]\n"
     ]
    }
   ],
   "source": [
    "simp_net_log_rtns_AXP = compute_rtns_series(True, \"simp\", axp_prcs)\n",
    "print(\"\\nThe first and last values for the series of simple (net)\",\n",
    "      \"log-transformed returns for the AXP (American Express) stock series:\\n\",\n",
    "      simp_net_log_rtns_AXP.view())"
   ]
  },
  {
   "cell_type": "code",
   "execution_count": 12,
   "metadata": {},
   "outputs": [
    {
     "name": "stdout",
     "output_type": "stream",
     "text": [
      "\n",
      "The first and last values for the series of simple (net) log-transformed returns for the CAT (Caterpillar) stock series:\n",
      " [-0.00264201  0.02611114  0.00898018 ... -0.00893493  0.03070009\n",
      "  0.02286978]\n"
     ]
    }
   ],
   "source": [
    "simp_net_log_rtns_CAT = compute_rtns_series(True, \"simp\", cat_prcs)\n",
    "print(\"\\nThe first and last values for the series of simple (net)\",\n",
    "      \"log-transformed returns for the CAT (Caterpillar) stock series:\\n\",\n",
    "      simp_net_log_rtns_CAT.view())"
   ]
  },
  {
   "cell_type": "code",
   "execution_count": 13,
   "metadata": {},
   "outputs": [
    {
     "name": "stdout",
     "output_type": "stream",
     "text": [
      "\n",
      "The first and last values for the series of simple (net) log-transformed returns for the SBUX (Starbucks) stock series:\n",
      " [-0.03542283 -0.00844905  0.00362977 ... -0.03482398  0.03589292\n",
      "  0.01062709]\n"
     ]
    }
   ],
   "source": [
    "simp_net_log_rtns_SBUX = compute_rtns_series(True, \"simp\", sbux_prcs)\n",
    "print(\"\\nThe first and last values for the series of simple (net)\",\n",
    "      \"log-transformed returns for the SBUX (Starbucks) stock series:\\n\",\n",
    "      simp_net_log_rtns_SBUX.view())"
   ]
  },
  {
   "cell_type": "markdown",
   "metadata": {},
   "source": [
    "## QUESTION D\n",
    "Express the log returns in percentages. Compute the sample mean, standard deviation, skewness, excess kurtosis, minimum, and maximum of the percentage log returns."
   ]
  },
  {
   "cell_type": "code",
   "execution_count": 14,
   "metadata": {},
   "outputs": [
    {
     "name": "stdout",
     "output_type": "stream",
     "text": [
      "\n",
      "The first and last values for the series of simple, percentage, log-transformed returns for the AXP (American Express) stock series:\n",
      " [-1.92732108  3.99930258  1.19905513 ... -1.17945765  1.68071183\n",
      "  3.00980312]\n",
      "The mean of this series is            : -0.06760497253096258\n",
      "The stDev of this series is           : 3.250984118634498\n",
      "The skewness of this series is        : -14.039732454205941\n",
      "The excess kurtosis of this series is : 454.51523321025877\n",
      "The minimum value of this series is   : -106.349090587489\n",
      "The maximum value of this series is   : 16.4891921658671\n"
     ]
    }
   ],
   "source": [
    "simp_net_log_pctg_AXP = compute_rtns_series(True, \"pct\", axp_prcs)\n",
    "print(\"\\nThe first and last values for the series of simple, percentage, \"\n",
    "      \"log-transformed returns for the AXP (American Express) stock series:\\n\",\n",
    "      simp_net_log_pctg_AXP.view())\n",
    "compute_print_stats(True, axp_prcs)"
   ]
  },
  {
   "cell_type": "code",
   "execution_count": 15,
   "metadata": {},
   "outputs": [
    {
     "name": "stdout",
     "output_type": "stream",
     "text": [
      "\n",
      "The first and last values for the series of simple, percentage, log-transformed returns for the CAT (Caterpillar) stock series:\n",
      " [-0.26420095  2.6111144   0.89801758 ... -0.89349289  3.07000854\n",
      "  2.28697842]\n",
      "The mean of this series is            : -0.002338604933912478\n",
      "The stDev of this series is           : 2.552581031199145\n",
      "The skewness of this series is        : -7.359209620637977\n",
      "The excess kurtosis of this series is : 191.7800773646962\n",
      "The minimum value of this series is   : -67.17432718967918\n",
      "The maximum value of this series is   : 13.73497368645352\n"
     ]
    }
   ],
   "source": [
    "simp_net_log_pctg_CAT = compute_rtns_series(True, \"pct\", cat_prcs)\n",
    "print(\"\\nThe first and last values for the series of simple, percentage, \"\n",
    "      \"log-transformed returns for the CAT (Caterpillar) stock series:\\n\",\n",
    "      simp_net_log_pctg_CAT.view())\n",
    "compute_print_stats(True, cat_prcs)"
   ]
  },
  {
   "cell_type": "code",
   "execution_count": 16,
   "metadata": {},
   "outputs": [
    {
     "name": "stdout",
     "output_type": "stream",
     "text": [
      "\n",
      "The first and last values for the series of simple, percentage, log-transformed returns for the SBUX (Starbucks) stock series:\n",
      " [-3.54228298 -0.84490545  0.36297681 ... -3.48239759  3.58929231\n",
      "  1.06270926]\n",
      "The mean of this series is            : -0.06919626751631369\n",
      "The stDev of this series is           : 3.5174870649951577\n",
      "The skewness of this series is        : -7.957977030094453\n",
      "The excess kurtosis of this series is : 146.71916527166977\n",
      "The minimum value of this series is   : -67.92467852479692\n",
      "The maximum value of this series is   : 13.658616261947962\n"
     ]
    }
   ],
   "source": [
    "simp_net_log_pctg_SBUX = compute_rtns_series(True, \"pct\", sbux_prcs)\n",
    "print(\"\\nThe first and last values for the series of simple, percentage, \"\n",
    "      \"log-transformed returns for the SBUX (Starbucks) stock series:\\n\",\n",
    "      simp_net_log_pctg_SBUX.view())\n",
    "compute_print_stats(True, sbux_prcs)"
   ]
  },
  {
   "cell_type": "markdown",
   "metadata": {},
   "source": [
    "## QUESTION E\n",
    "Test the null hypothesis that the mean of the log returns of each stock is zero. That is, perform three separate tests. Use 5% significance level to draw your conclusion."
   ]
  },
  {
   "cell_type": "markdown",
   "metadata": {},
   "source": [
    "**$\\textbf{NOTE}:$ from scipy.stats I use the ttest_1samp(a, popmean) function. It's a two-sided test for the null hypothesis that the expected value (mean) of a sample of independent observations a is equal to the given population mean, popmean.\n",
    "Even though this says \"...sample of independent observations\" we are going to use it as-is since we aren't worrying about time dependence structure for this problem (we assume that log returns are iid)."
   ]
  },
  {
   "cell_type": "code",
   "execution_count": 17,
   "metadata": {},
   "outputs": [
    {
     "data": {
      "text/plain": [
       "Ttest_1sampResult(statistic=-1.0424615297012625, pvalue=0.2972980266169851)"
      ]
     },
     "execution_count": 17,
     "metadata": {},
     "output_type": "execute_result"
    }
   ],
   "source": [
    "sp.stats.ttest_1samp(simp_net_log_rtns_AXP, 0)"
   ]
  },
  {
   "cell_type": "markdown",
   "metadata": {},
   "source": [
    "The calculated p-value 0.297298 $\\implies$ that we fail to reject $H_0$, where $H_0: \\mu_{\\{{ln(AXP)}\\}} = 0$.\n",
    "This is borne out visually in the histogram of log returns for AXP (see below)."
   ]
  },
  {
   "cell_type": "code",
   "execution_count": 18,
   "metadata": {},
   "outputs": [
    {
     "data": {
      "text/plain": [
       "Ttest_1sampResult(statistic=-0.045927580634719516, pvalue=0.9633716203900826)"
      ]
     },
     "execution_count": 18,
     "metadata": {},
     "output_type": "execute_result"
    }
   ],
   "source": [
    "sp.stats.ttest_1samp(simp_net_log_rtns_CAT, 0)"
   ]
  },
  {
   "cell_type": "markdown",
   "metadata": {},
   "source": [
    "The calculated p-value 0.96337 $\\implies$ that we fail to reject $H_0$, where $H_0: \\mu_{\\{{ln(CAT)}\\}} = 0$.\n",
    "This is borne out visually in the histogram of log returns for CAT (see below)."
   ]
  },
  {
   "cell_type": "code",
   "execution_count": 19,
   "metadata": {},
   "outputs": [
    {
     "data": {
      "text/plain": [
       "Ttest_1sampResult(statistic=-0.9861577775936335, pvalue=0.3241506312100979)"
      ]
     },
     "execution_count": 19,
     "metadata": {},
     "output_type": "execute_result"
    }
   ],
   "source": [
    "sp.stats.ttest_1samp(simp_net_log_rtns_SBUX, 0)"
   ]
  },
  {
   "cell_type": "markdown",
   "metadata": {},
   "source": [
    "The calculated p-value 0.324215 $\\implies$ that we fail to reject $H_0$, where $H_0: \\mu_{\\{{ln(SBUX)}\\}} = 0$.\n",
    "This is borne out visually in the histogram of log returns for SBUX (see below)."
   ]
  },
  {
   "cell_type": "markdown",
   "metadata": {},
   "source": [
    "## QUESTION F\n",
    "Plot histograms for each of the three series (both simple and log returns - so six graphs total)."
   ]
  },
  {
   "cell_type": "markdown",
   "metadata": {},
   "source": [
    "**$\\textbf{NOTE:}$ we can deduce that there are some outliers for each of the 6 plots. We know this because the x-axis scale for each plot extends a ways past where we'd (visually) expect it to end based on where the mass of the respective distributions are centered. The x-axis scales were constructed using the minimum and maximum values of the returns series, so we can know this for a fact. We could filter the data (if we wanted) to find these extreme low values. My bet is that they are coming from very bad stretches in market history. If these data are coverin 1999 - 2008, I'd bet the extreme low values are coming from the 2007 - 2008 financial crash, or possibly the dot-com bubble burst in the early 2000's."
   ]
  },
  {
   "cell_type": "markdown",
   "metadata": {},
   "source": [
    "**$\\textbf{NOTE:}$ Apparently certain matplotlib functions don't play as nicely with Jupyter notebooks (but worked fine in my IDE). I wanted the plots below t0 show up as a nice 2x3 single plot, but instead I had to comment out code so they're individually displayed."
   ]
  },
  {
   "cell_type": "code",
   "execution_count": 20,
   "metadata": {},
   "outputs": [
    {
     "data": {
      "image/png": "[encoded data removed]",
      "text/plain": [
       "<Figure size 432x288 with 1 Axes>"
      ]
     },
     "metadata": {
      "needs_background": "light"
     },
     "output_type": "display_data"
    },
    {
     "data": {
      "image/png": "[encoded data removed]",
      "text/plain": [
       "<Figure size 432x288 with 1 Axes>"
      ]
     },
     "metadata": {
      "needs_background": "light"
     },
     "output_type": "display_data"
    },
    {
     "data": {
      "image/png": "[encoded data removed]",
      "text/plain": [
       "<Figure size 432x288 with 1 Axes>"
      ]
     },
     "metadata": {
      "needs_background": "light"
     },
     "output_type": "display_data"
    },
    {
     "data": {
      "image/png": "[encoded data removed]",
      "text/plain": [
       "<Figure size 432x288 with 1 Axes>"
      ]
     },
     "metadata": {
      "needs_background": "light"
     },
     "output_type": "display_data"
    },
    {
     "data": {
      "image/png": "[encoded data removed]",
      "text/plain": [
       "<Figure size 432x288 with 1 Axes>"
      ]
     },
     "metadata": {
      "needs_background": "light"
     },
     "output_type": "display_data"
    },
    {
     "data": {
      "image/png": "[encoded data removed]",
      "text/plain": [
       "<Figure size 432x288 with 1 Axes>"
      ]
     },
     "metadata": {
      "needs_background": "light"
     },
     "output_type": "display_data"
    }
   ],
   "source": [
    "#plt.figure(1)\n",
    "\n",
    "#plt.subplot(2, 3, 1)\n",
    "plt.hist(simp_net_rtns_AXP,\n",
    "         bins = np.linspace(min(simp_net_rtns_AXP),\n",
    "                            max(simp_net_rtns_AXP),\n",
    "                            80))\n",
    "plt.xlabel(\"Simple Net return values\")\n",
    "plt.ylabel(\"Count (frequency)\")\n",
    "plt.title(\"Simple Net Returns: AXP\")\n",
    "plt.show()\n",
    "\n",
    "#plt.subplot(2, 3, 2)\n",
    "plt.hist(simp_net_rtns_CAT,\n",
    "         bins = np.linspace(min(simp_net_rtns_CAT),\n",
    "                            max(simp_net_rtns_CAT),\n",
    "                            80))\n",
    "plt.xlabel(\"Simple Net return values\")\n",
    "plt.ylabel(\"Count (frequency)\")\n",
    "plt.title(\"Simple Net Returns: CAT\")\n",
    "plt.show()\n",
    "\n",
    "#plt.subplot(2, 3, 3)\n",
    "plt.hist(simp_net_rtns_SBUX,\n",
    "         bins = np.linspace(min(simp_net_rtns_SBUX),\n",
    "                            max(simp_net_rtns_SBUX),\n",
    "                            80))\n",
    "plt.xlabel(\"Simple Net return values\")\n",
    "plt.ylabel(\"Count (frequency)\")\n",
    "plt.title(\"Simple Net Returns: SBUX\")\n",
    "plt.show()\n",
    "\n",
    "#plt.subplot(2, 3, 4)\n",
    "plt.hist(simp_net_log_rtns_AXP,\n",
    "         bins = np.linspace(min(simp_net_log_rtns_AXP),\n",
    "                            max(simp_net_log_rtns_AXP),\n",
    "                            80))\n",
    "plt.xlabel(\"Simple Net LOG return values\")\n",
    "plt.ylabel(\"Count (frequency)\")\n",
    "plt.title(\"Simple Net LOG Returns: AXP\")\n",
    "plt.show()\n",
    "\n",
    "#plt.subplot(2, 3, 5)\n",
    "plt.hist(simp_net_log_rtns_CAT,\n",
    "         bins = np.linspace(min(simp_net_log_rtns_CAT),\n",
    "                            max(simp_net_log_rtns_CAT),\n",
    "                            80))\n",
    "plt.xlabel(\"Simple Net LOG return values\")\n",
    "plt.ylabel(\"Count (frequency)\")\n",
    "plt.title(\"Simple Net LOG Returns: CAT\")\n",
    "plt.show()\n",
    "\n",
    "#plt.subplot(2, 3, 6)\n",
    "plt.hist(simp_net_log_rtns_SBUX,\n",
    "         bins = np.linspace(min(simp_net_log_rtns_SBUX),\n",
    "                            max(simp_net_log_rtns_SBUX),\n",
    "                            80))\n",
    "plt.xlabel(\"Simple Net LOG return values\")\n",
    "plt.ylabel(\"Count (frequency)\")\n",
    "plt.title(\"Simple Net LOG Returns: SBUX\")\n",
    "plt.show()\n",
    "\n",
    "#plt.subplots_adjust(top=0.85, bottom=0.12, left=0.10, right=0.95, hspace=0.55, wspace=0.35)\n",
    "\n",
    "#plt.suptitle(\"Top Row: simple returns, Bottom Row: simple LOG returns\")\n",
    "#plt.show()"
   ]
  },
  {
   "cell_type": "markdown",
   "metadata": {},
   "source": [
    "## QUESTION G\n",
    "Test the null hypothesis that the lag-2 autocorrelation is zero for log returns."
   ]
  },
  {
   "cell_type": "markdown",
   "metadata": {},
   "source": [
    "**$\\textbf{NOTE:}$ The test statistic I calculated was $\\big(\\sqrt{T}\\big) \\big(\\hat{\\rho_2}\\big)$ where $\\sqrt{T}$ is the number of elements in the series and $\\hat{\\rho_2}$ is the empirically-estimated lag-2 autocorrelation. Since all of the time series have 2514 elements (2514 prices), this is asymptotically approaching the normal distribution ($n \\to \\infty$ in some sense). As such, I used a standard normal distribution cutoff instead of a $t$-distribution decision rule.\n",
    "For significance level $\\alpha = 0.05$ this means the cutoff threshold for reject/not reject is a test statistic with absolute value > 1.96."
   ]
  },
  {
   "cell_type": "code",
   "execution_count": 21,
   "metadata": {},
   "outputs": [],
   "source": [
    "# Calculate the value of the lag-2 autocorrelations for each stock.\n",
    "rho_axp = pd.Series(simp_net_log_rtns_AXP).autocorr(lag=2)\n",
    "rho_cat = pd.Series(simp_net_log_rtns_CAT).autocorr(lag=2)\n",
    "rho_sbux = pd.Series(simp_net_log_rtns_SBUX).autocorr(lag=2)"
   ]
  },
  {
   "cell_type": "code",
   "execution_count": 22,
   "metadata": {},
   "outputs": [
    {
     "name": "stdout",
     "output_type": "stream",
     "text": [
      "\n",
      "Since the value of the test statistic [ sqrt(T)*\\hat{rho_2} = -2.5389 ] > |1.96| we reject the null hypothesis that the lag-2 autocorrelation is 0 for  AXP . This implies that the data give evidence that lag-2 autocorrelation is a value other than 0.\n"
     ]
    }
   ],
   "source": [
    "hyp_test_lag2(simp_net_log_rtns_AXP, rho_axp, \"AXP\")"
   ]
  },
  {
   "cell_type": "markdown",
   "metadata": {},
   "source": [
    "To reiterate the output of the above function:\n",
    "The value of the test statistic for American Express (AXP) is $\\bigg[\\big(\\sqrt{T}\\big) \\big(\\hat{\\rho_2}\\big) = -2.5389\\bigg] > \\bigg[ |1.96| \\bigg] \\implies$ we reject $H_0$ (where $H_0: \\rho_2 = 0$ and $H_A: \\rho_2 \\ne 0$). This implies that the data give evidence that lag-2 autocorrelation, $\\rho_2$, is a value other than 0."
   ]
  },
  {
   "cell_type": "code",
   "execution_count": 23,
   "metadata": {},
   "outputs": [
    {
     "name": "stdout",
     "output_type": "stream",
     "text": [
      "\n",
      "Since the value of the test statistic [ sqrt(T)*\\hat{rho_2} =  -1.5042 ] < |1.96| we fail to reject the null hypothesis that the lag-2 autocorrelation is 0 for CAT .\n"
     ]
    }
   ],
   "source": [
    "hyp_test_lag2(simp_net_log_rtns_CAT, rho_cat, \"CAT\")"
   ]
  },
  {
   "cell_type": "markdown",
   "metadata": {},
   "source": [
    "To reiterate the output of the above function:\n",
    "The value of the test statistic for Caterpillar (CAT) is $\\bigg[\\big(\\sqrt{T}\\big) \\big(\\hat{\\rho_2}\\big) = -1.5042\\bigg] < \\bigg[ |1.96| \\bigg] \\implies$ we fail to reject $H_0$ (where $H_0: \\rho_2 = 0$ and $H_A: \\rho_2 \\ne 0$)."
   ]
  },
  {
   "cell_type": "code",
   "execution_count": 24,
   "metadata": {},
   "outputs": [
    {
     "name": "stdout",
     "output_type": "stream",
     "text": [
      "\n",
      "Since the value of the test statistic [ sqrt(T)*\\hat{rho_2} =  -0.6816 ] < |1.96| we fail to reject the null hypothesis that the lag-2 autocorrelation is 0 for SBUX .\n"
     ]
    }
   ],
   "source": [
    "hyp_test_lag2(simp_net_log_rtns_SBUX, rho_sbux, \"SBUX\")"
   ]
  },
  {
   "cell_type": "markdown",
   "metadata": {},
   "source": [
    "To reiterate the output of the above function:\n",
    "The value of the test statistic for Starbucks (SBUX) is $\\bigg[\\big(\\sqrt{T}\\big) \\big(\\hat{\\rho_2}\\big) = -0.6816\\bigg] < \\bigg[ |1.96| \\bigg] \\implies$ we fail to reject $H_0$ (where $H_0: \\rho_2 = 0$ and $H_A: \\rho_2 \\ne 0$)."
   ]
  }
 ],
 "metadata": {
  "kernelspec": {
   "display_name": "Python 3",
   "language": "python",
   "name": "python3"
  },
  "language_info": {
   "codemirror_mode": {
    "name": "ipython",
    "version": 3
   },
   "file_extension": ".py",
   "mimetype": "text/x-python",
   "name": "python",
   "nbconvert_exporter": "python",
   "pygments_lexer": "ipython3",
   "version": "3.6.4"
  }
 },
 "nbformat": 4,
 "nbformat_minor": 2
}
