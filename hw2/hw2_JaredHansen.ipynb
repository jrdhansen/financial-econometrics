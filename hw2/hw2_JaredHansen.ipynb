{
 "cells": [
  {
   "cell_type": "markdown",
   "metadata": {},
   "source": [
    "# Finance 5330 - Homework 2\n",
    "## Jared Hansen, A01439768"
   ]
  },
  {
   "cell_type": "markdown",
   "metadata": {},
   "source": []
  },
  {
   "cell_type": "markdown",
   "metadata": {},
   "source": [
    "## Import statements, set seed"
   ]
  },
  {
   "cell_type": "code",
   "execution_count": null,
   "metadata": {},
   "outputs": [],
   "source": [
    "\n",
    "import numpy as np\n",
    "import pandas as pd\n",
    "import matplotlib.pyplot as plt \n",
    "import matplotlib.mlab as mlab\n",
    "import scipy.stats as stats\n",
    "import math\n",
    "import statsmodels\n",
    "from statsmodels.tsa.stattools import adfuller\n",
    "from sklearn import linear_model\n",
    "\n",
    "np.random.seed(123456)"
   ]
  },
  {
   "cell_type": "code",
   "execution_count": null,
   "metadata": {},
   "outputs": [],
   "source": []
  },
  {
   "cell_type": "markdown",
   "metadata": {},
   "source": [
    "# Problem 1"
   ]
  },
  {
   "cell_type": "markdown",
   "metadata": {},
   "source": [
    "$\\textbf{1.1}$  \n",
    "Simulate T = 500 observations from an AR(1) process for $\\phi \\in \\{0.25, 0.5, 0.75, 0.8, 0.9\\}$ where $y_t = \\phi y_{t-1} + \\epsilon_t$ ."
   ]
  },
  {
   "cell_type": "code",
   "execution_count": 7,
   "metadata": {},
   "outputs": [],
   "source": [
    "def gen_AR1(phi_val):\n",
    "    \n",
    "    \"\"\"\n",
    "    This function generates an AR(1) process of T=500 steps for a given phi_val\n",
    "    \"\"\"\n",
    "    \n",
    "    # Number of observations in the series.\n",
    "    T = 500\n",
    "    \n",
    "    # Generate the epislon terms vector.\n",
    "    epsilon_t = np.random.normal(size = T-1)\n",
    "    \n",
    "    # Create a vector to store the series {y_t}\n",
    "    y_t = np.empty(T)\n",
    "    \n",
    "    # Intialize the first value, y_0, outside of the loop\n",
    "    y_t[0] = 0\n",
    "    \n",
    "    # Populate the y_t array with the AR(1) series\n",
    "    for i in range(T-1):\n",
    "        y_t[i+1] = phi_val * y_t[i] + epsilon_t[i]\n",
    "        \n",
    "    return y_t\n",
    "    \n",
    "    \n",
    "# Generate the AR(1) series for each value of phi\n",
    "y_phi_25 = gen_AR1(0.25)\n",
    "y_phi_5  = gen_AR1(0.5)\n",
    "y_phi_75 = gen_AR1(0.75)\n",
    "y_phi_8  = gen_AR1(0.8)\n",
    "y_phi_9  = gen_AR1(0.9)"
   ]
  },
  {
   "cell_type": "code",
   "execution_count": null,
   "metadata": {},
   "outputs": [],
   "source": [
    "  \n",
    "      \n",
    "        "
   ]
  },
  {
   "cell_type": "markdown",
   "metadata": {},
   "source": [
    "$\\textbf{1.2}$  \n",
    "Treat the artificial data from the simulations above as observed data by an econometrician."
   ]
  },
  {
   "cell_type": "markdown",
   "metadata": {},
   "source": [
    "Noted, and will do."
   ]
  },
  {
   "cell_type": "code",
   "execution_count": null,
   "metadata": {},
   "outputs": [],
   "source": [
    "  \n",
    "      \n",
    "        "
   ]
  },
  {
   "cell_type": "markdown",
   "metadata": {},
   "source": [
    "$\\textbf{1.3}$  \n",
    "Estimate each model via OLS."
   ]
  },
  {
   "cell_type": "code",
   "execution_count": 8,
   "metadata": {},
   "outputs": [],
   "source": [
    "def fit_OLS(orig_series):\n",
    "    \n",
    "    \"\"\"\n",
    "    This function takes a series as input, creates an additional once-differenced series from the original series,\n",
    "    and then regresses the original series on the once-differenced series. The function returns the fitted regression object.    \n",
    "    \"\"\"\n",
    "    \n",
    "    # Create the one-value-shifted series\n",
    "    series_shifted = orig_series[1:]\n",
    "    \n",
    "    # Cut off the first value in the original series\n",
    "    orig_series = orig_series[0:-1]\n",
    "    \n",
    "    # Regress the original series on the shifted series\n",
    "    ols_reg = stats.linregress(series_shifted, orig_series)\n",
    "    \n",
    "    return ols_reg\n",
    "\n",
    "\n",
    "# Fit an OLS model for each of the series.\n",
    "ols_25 = fit_OLS(y_phi_25)\n",
    "ols_5  = fit_OLS(y_phi_5)\n",
    "ols_75 = fit_OLS(y_phi_75)\n",
    "ols_8  = fit_OLS(y_phi_8)\n",
    "ols_9  = fit_OLS(y_phi_9)"
   ]
  },
  {
   "cell_type": "code",
   "execution_count": null,
   "metadata": {},
   "outputs": [],
   "source": [
    "  \n",
    "      \n",
    "        "
   ]
  },
  {
   "cell_type": "markdown",
   "metadata": {},
   "source": [
    "$\\textbf{1.4}$  \n",
    "Test the standard null hypothesis of $H_0: \\phi = 0$ versus $H_A: \\phi \\ne 0$ with a standard t-test for significance levels $\\alpha \\in \\{0.01, 0.05, 0.1\\}$ for each one and report the results in a table.  \n",
    "Provide test statistics, standard errors, critical values, and p-values."
   ]
  },
  {
   "cell_type": "markdown",
   "metadata": {},
   "source": [
    "$\\textbf{NOTE:}$ I found the critcal values specified below at this URL. They are essentially the same critical values that we'd use if assuming data from a standard normal distribution (this makes sense, as N = 500 for a t distribution is very close to just being a standard normal distribution.)  \n",
    "https://resources.saylor.org/wwwresources/archived/site/wp-content/uploads/2015/07/BUS204-FinalExamAid-TandZDistributionTables-CCBY.pdf  \n",
    "- Critical value for $\\bigg[ \\alpha = 0.01 \\bigg]$: 2.58570  \n",
    "- Critical value for $\\bigg[ \\alpha = 0.05 \\bigg]$: 1.96472  \n",
    "- Critical value for $\\bigg[ \\alpha = 0.1 \\bigg]$: 1.64791"
   ]
  },
  {
   "cell_type": "code",
   "execution_count": 37,
   "metadata": {},
   "outputs": [],
   "source": [
    "def gen_test_results(ols_reg):\n",
    "    \n",
    "    \"\"\"\n",
    "    This function taks a regression object as input, and outputs a tuple containing the value of a test statistic, \n",
    "    standard error, and p-value for the given regression.\n",
    "    \"\"\"\n",
    "    \n",
    "    # Here, test statistic is (estimated phi - 0)/(stderr_phi)\n",
    "    test_stat = round((ols_reg[0] / ols_reg[-1]), 4)\n",
    "    \n",
    "    # standard error\n",
    "    std_error = round((ols_reg[-1]), 4)\n",
    "    \n",
    "    # p-value\n",
    "    p_val = ols_reg[3]\n",
    "\n",
    "    return test_stat, std_error, p_val\n",
    "    \n",
    "\n",
    "\n",
    "hyp_test_phi_25 = gen_test_results(ols_25)\n",
    "hyp_test_phi_5  = gen_test_results(ols_5)\n",
    "hyp_test_phi_75 = gen_test_results(ols_75)\n",
    "hyp_test_phi_8  = gen_test_results(ols_8)\n",
    "hyp_test_phi_9  = gen_test_results(ols_9)"
   ]
  },
  {
   "cell_type": "markdown",
   "metadata": {},
   "source": [
    "$\\textbf{NOTE:}$ See markdown cell above for critical values used to determine rejection/failure to reject $H_0$.\n",
    "\n",
    "| $\\phi$ | test_stat | std_error | p-value                  | Reject or Fail to Reject $H_0$?                               |\n",
    "|--------|-----------|-----------|--------------------------|----------------------------------------------------------|\n",
    "| 0.25   | 6.4792    | 0.0431    | 2.2217 $\\times 10^{-10}$ | Reject $H_0$ $\\forall$ $\\alpha \\in \\{0.01, 0.05, 0.1\\} $ |\n",
    "| 0.5    | 12.2582   | 0.0393    | 2.2848 $\\times 10^{-30}$ | Reject $H_0$ $\\forall$ $\\alpha \\in \\{0.01, 0.05, 0.1\\} $ |\n",
    "| 0.75   | 25.2269   | 0.0297    | 5.1171 $\\times 10^{-91}$ | Reject $H_0$ $\\forall$ $\\alpha \\in \\{0.01, 0.05, 0.1\\} $ |\n",
    "| 0.8    | 30.6217   | 0.0264    | 1.7202 $\\times 10^{-116}$| Reject $H_0$ $\\forall$ $\\alpha \\in \\{0.01, 0.05, 0.1\\} $ |\n",
    "| 0.9    | 48.0478   | 0.0189    | 2.2848 $\\times 10^{-189}$| Reject $H_0$ $\\forall$ $\\alpha \\in \\{0.01, 0.05, 0.1\\} $ |"
   ]
  },
  {
   "cell_type": "code",
   "execution_count": null,
   "metadata": {},
   "outputs": [],
   "source": [
    "  \n",
    "      \n",
    "        "
   ]
  },
  {
   "cell_type": "markdown",
   "metadata": {},
   "source": [
    "$\\textbf{1.5}$  \n",
    "Pick one of the parameter values for the models above and do the following:\n",
    "\n",
    "$\\textbf{NOTE:}$ I am selecting $\\phi = 0.9$ as my parameter for this question."
   ]
  },
  {
   "cell_type": "markdown",
   "metadata": {},
   "source": [
    "$\\textbf{1.5 -- (A)}$\n",
    "-  Use the Central Limit Theorem to derive a sampling distribution of $\\hat{\\phi}$. Present the parameter values of the sampling distribution. Produce a graph of the distribution."
   ]
  },
  {
   "cell_type": "code",
   "execution_count": 53,
   "metadata": {},
   "outputs": [
    {
     "data": {
      "text/plain": [
       "0.018877503119918645"
      ]
     },
     "execution_count": 53,
     "metadata": {},
     "output_type": "execute_result"
    },
    {
     "data": {
      "image/png": "[encoded data removed]",
      "text/plain": [
       "<Figure size 432x288 with 1 Axes>"
      ]
     },
     "metadata": {
      "needs_background": "light"
     },
     "output_type": "display_data"
    }
   ],
   "source": [
    "mean_phi_distn = ols_9[0]\n",
    "stDev_phi_distn = ols_9[-1]\n",
    "\n",
    "x_vals_plot = np.linspace(mean_phi_distn - 5*stDev_phi_distn,\n",
    "                          mean_phi_distn + 5*stDev_phi_distn,\n",
    "                          100)\n",
    "plt.plot(x_vals_plot,\n",
    "         stats.norm.pdf(x_vals_plot, mean_phi_distn, stDev_phi_distn),\n",
    "         c = \"g\")\n",
    "plt.title(\"CLT-derived Sampling Distribution of $\\hat{\\phi}$\")"
   ]
  },
  {
   "cell_type": "markdown",
   "metadata": {},
   "source": [
    "For the CLT-derived sampling distribution of $\\hat{\\phi}$ above, the center (mean) parameter is:"
   ]
  },
  {
   "cell_type": "code",
   "execution_count": 64,
   "metadata": {},
   "outputs": [
    {
     "data": {
      "text/plain": [
       "0.90702"
      ]
     },
     "execution_count": 64,
     "metadata": {},
     "output_type": "execute_result"
    }
   ],
   "source": [
    "round(mean_phi_distn, 5)"
   ]
  },
  {
   "cell_type": "markdown",
   "metadata": {},
   "source": [
    "For the CLT-derived sampling distribution of $\\hat{\\phi}$ above, the scale (standard deviation) parameter is:"
   ]
  },
  {
   "cell_type": "code",
   "execution_count": 56,
   "metadata": {},
   "outputs": [
    {
     "data": {
      "text/plain": [
       "0.01888"
      ]
     },
     "execution_count": 56,
     "metadata": {},
     "output_type": "execute_result"
    }
   ],
   "source": [
    "round(stDev_phi_distn, 5)"
   ]
  },
  {
   "cell_type": "code",
   "execution_count": null,
   "metadata": {},
   "outputs": [],
   "source": [
    "  \n",
    "    \n",
    "    "
   ]
  },
  {
   "cell_type": "markdown",
   "metadata": {},
   "source": [
    "$\\textbf{1.5 -- (B)}$  \n",
    "- Use parametric Monte Carlo to simulate the sampling distribution. Use M = 10,000 repititions. Use the sample mean and standard deviation to estimate the parameter values of the distribution. Produce a histogram."
   ]
  },
  {
   "cell_type": "code",
   "execution_count": 58,
   "metadata": {},
   "outputs": [
    {
     "data": {
      "text/plain": [
       "Text(0.5, 1.0, \"Histogram of $\\\\hat{\\\\phi}$ sampling dist'n from parametric Monte Carlo\")"
      ]
     },
     "execution_count": 58,
     "metadata": {},
     "output_type": "execute_result"
    },
    {
     "data": {
      "image/png": "[encoded data removed]",
      "text/plain": [
       "<Figure size 432x288 with 1 Axes>"
      ]
     },
     "metadata": {
      "needs_background": "light"
     },
     "output_type": "display_data"
    }
   ],
   "source": [
    "def gen_y_hats(series, phi_hat):\n",
    "    \"\"\"\n",
    "    This function will generate predicted y-hat values (a series) for a given\n",
    "    slope (phi_hat) parameter. It is perfectly linear, no white nosie error term\n",
    "    \"\"\"\n",
    "    y_hats = phi_hat*series\n",
    "    return y_hats\n",
    "    \n",
    "    \n",
    "# Set the phi parameter\n",
    "phi_hat = ols_9[0]\n",
    "\n",
    "\n",
    "# Generate predictions using gen_y_hats fctn\n",
    "y_hats = gen_y_hats(y_phi_9, phi_hat)\n",
    "\n",
    "\n",
    "# Drop the first value in order to calculate residuals\n",
    "#y_hats = y_hats[1:]\n",
    "\n",
    "\n",
    "# Calculate the residuals of the predicted values VS the true values\n",
    "residuals = y_phi_9 - y_hats\n",
    "\n",
    "\n",
    "# For the \"parametric\" part of parametric Monte Carlo, we now take the residuals\n",
    "# to estimate parameters for a normal distn for the white noise part of the model\n",
    "mu_eps = np.mean(residuals)\n",
    "stDev_eps = np.std(residuals)\n",
    "\n",
    "\n",
    "def gen_AR1_MoCarl(phi_hat, mu_eps, stDev_eps):\n",
    "    \"\"\"\n",
    "    This function generates an AR(1) process time series using parametric Monte Carlo simulation\n",
    "    based on the parameters passed into the function.\n",
    "    \"\"\"\n",
    "    \n",
    "    # Number of observations in the series\n",
    "    T = 500\n",
    "    \n",
    "    # Generate the epislon terms vector\n",
    "    eps_t = np.random.normal(loc=mu_eps, scale=stDev_eps, size=T-1)\n",
    "    \n",
    "    # Create a vector to store the series {y_t}\n",
    "    y_t = np.empty(T)\n",
    "    \n",
    "    # Intialize the first value, y_0, outside of the loop\n",
    "    y_t[0] = 0\n",
    "    \n",
    "    # Create the time series\n",
    "    for i in range(T-1):\n",
    "        y_t[i+1] = phi_hat * y_t[i] + eps_t[i]\n",
    "    return y_t\n",
    "\n",
    "\n",
    "# Set the number of simulation repititions\n",
    "M = 10000\n",
    "\n",
    "\n",
    "# Simulate 10000 different series and compute the regression (and regr params)\n",
    "# for each of them\n",
    "phi_MC = np.empty(M)\n",
    "\n",
    "for i in range(M):\n",
    "    #    The inner parentheses generates a parametric Monte Carlo series based on the parameters\n",
    "    # we pass (our phi_hat, and the center and stDev of white noise process).\n",
    "    #    The outer part then fits an OLS regression onto this MC series, and uses\n",
    "    # the function above to access the new predicted slope (phi_hat for that\n",
    "    # series).\n",
    "    #    This then gets stored in the array of all Monte Carlo phi's (phi_MC).\n",
    "    phi_MC[i] = fit_OLS(gen_AR1_MoCarl(phi_hat, mu_eps, stDev_eps))[0]\n",
    "    \n",
    "    \n",
    "# Use the sample mean and standard deviation to estimate parameter values of \n",
    "# the distribtuion (of phi's).\n",
    "est_mu_phi_MC = np.mean(phi_MC)\n",
    "est_sd_phi_MC = np.std(phi_MC)\n",
    "    \n",
    "    \n",
    "# Plot a histogram\n",
    "plt.hist(phi_MC, bins=100)\n",
    "plt.title(\"Histogram of $\\hat{\\phi}$ sampling dist'n from parametric Monte Carlo\")"
   ]
  },
  {
   "cell_type": "markdown",
   "metadata": {},
   "source": [
    "The estimated mean of the Monte-Carlo-generated sampling distribution for $\\hat{\\phi}$ pictured above is:"
   ]
  },
  {
   "cell_type": "code",
   "execution_count": 59,
   "metadata": {},
   "outputs": [
    {
     "data": {
      "text/plain": [
       "0.89769"
      ]
     },
     "execution_count": 59,
     "metadata": {},
     "output_type": "execute_result"
    }
   ],
   "source": [
    "round(est_mu_phi_MC, 5)"
   ]
  },
  {
   "cell_type": "markdown",
   "metadata": {},
   "source": [
    "The estimated standard deviation of the Monte-Carlo-generated sampling distribution for $\\hat{\\phi}$ pictured above is:"
   ]
  },
  {
   "cell_type": "code",
   "execution_count": 60,
   "metadata": {},
   "outputs": [
    {
     "data": {
      "text/plain": [
       "0.02062"
      ]
     },
     "execution_count": 60,
     "metadata": {},
     "output_type": "execute_result"
    }
   ],
   "source": [
    "round(est_sd_phi_MC, 5)"
   ]
  },
  {
   "cell_type": "code",
   "execution_count": null,
   "metadata": {},
   "outputs": [],
   "source": [
    "  \n",
    "      \n",
    "        "
   ]
  },
  {
   "cell_type": "markdown",
   "metadata": {},
   "source": [
    "$\\textbf{1.5 -- (C)}$\n",
    "- Use the IID bootstrap to simulate the sampling distribution. Use B = 10,000 repititions. Use the sample mean and standard deviation to estimate the parameter values of the distribution. Produce a histogram."
   ]
  },
  {
   "cell_type": "code",
   "execution_count": 61,
   "metadata": {},
   "outputs": [
    {
     "data": {
      "text/plain": [
       "Text(0.5, 1.0, \"Histogram of $\\\\hat{\\\\phi}$ sampling dist'n from IID bootstrap\")"
      ]
     },
     "execution_count": 61,
     "metadata": {},
     "output_type": "execute_result"
    },
    {
     "data": {
      "image/png": "[encoded data removed]",
      "text/plain": [
       "<Figure size 432x288 with 1 Axes>"
      ]
     },
     "metadata": {
      "needs_background": "light"
     },
     "output_type": "display_data"
    }
   ],
   "source": [
    "def gen_AR1_boot(phi_hat):\n",
    "    \"\"\"\n",
    "    This function generates an AR(1) process time series using an IID bootstrap simulation\n",
    "    based on the phi parameter passed into the function.\n",
    "    \"\"\"\n",
    "    \n",
    "    # Number of observations in the series\n",
    "    T = 500\n",
    "    \n",
    "    # Generate the epislon terms vector by IID bootstrapping 499 observations\n",
    "    # from the residuals generated above ( they were generated during Monte Carlo).\n",
    "    eps_t = np.random.choice(residuals, size=T-1)\n",
    "    \n",
    "    # Create a vector to store the series {y_t}\n",
    "    y_t = np.empty(T)\n",
    "    \n",
    "    # Intialize the first value, y_0, outside of the loop\n",
    "    y_t[0] = 0\n",
    "    \n",
    "    # Create the series\n",
    "    for i in range(T-1):\n",
    "        y_t[i+1] = phi_hat * y_t[i] + eps_t[i]\n",
    "        \n",
    "    return y_t\n",
    "\n",
    "\n",
    "# Set the number of simulation repititions\n",
    "B = 10000\n",
    "\n",
    "\n",
    "# Simulate 10000 different series and compute the regression (and regr params)\n",
    "# for each of them\n",
    "phi_boot = np.empty(B)\n",
    "\n",
    "for i in range(B):\n",
    "    #    The inner part generates a bootstrapped series based on the parameter\n",
    "    # we pass (phi_hat).\n",
    "    #    The outer part then fits an OLS regression onto this bootstrapped series\n",
    "    # and uses the function above to access the new predicted slope (phi_hat for\n",
    "    # that series).\n",
    "    #    This then gets stored in the array of all bootstrapped phi's (phi_boot).\n",
    "    phi_boot[i] = fit_OLS(gen_AR1_boot(phi_hat))[0]\n",
    "    \n",
    "# Use the sample mean and standard deviation to estimate parameter values of \n",
    "# the distribtuion (of phi's).\n",
    "est_mu_phi_boot = np.mean(phi_boot)\n",
    "est_sd_phi_boot = np.std(phi_boot)\n",
    "    \n",
    "# Plot a histogram\n",
    "plt.hist(phi_boot, bins=100)\n",
    "plt.title(\"Histogram of $\\hat{\\phi}$ sampling dist'n from IID bootstrap\")"
   ]
  },
  {
   "cell_type": "markdown",
   "metadata": {},
   "source": [
    "The estimated mean of the IID-bootstrapped-generated sampling distribution for $\\hat{\\phi}$ pictured above is:"
   ]
  },
  {
   "cell_type": "code",
   "execution_count": 62,
   "metadata": {},
   "outputs": [
    {
     "data": {
      "text/plain": [
       "0.89785"
      ]
     },
     "execution_count": 62,
     "metadata": {},
     "output_type": "execute_result"
    }
   ],
   "source": [
    "round(est_mu_phi_boot, 5)"
   ]
  },
  {
   "cell_type": "markdown",
   "metadata": {},
   "source": [
    "The estimated standard deviation of the IID-bootstrapped-generated sampling distribution for $\\hat{\\phi}$ pictured above is:"
   ]
  },
  {
   "cell_type": "code",
   "execution_count": 63,
   "metadata": {},
   "outputs": [
    {
     "data": {
      "text/plain": [
       "0.02015"
      ]
     },
     "execution_count": 63,
     "metadata": {},
     "output_type": "execute_result"
    }
   ],
   "source": [
    "round(est_sd_phi_boot, 5)"
   ]
  },
  {
   "cell_type": "code",
   "execution_count": null,
   "metadata": {},
   "outputs": [],
   "source": [
    "  \n",
    "      \n",
    "        "
   ]
  },
  {
   "cell_type": "markdown",
   "metadata": {},
   "source": [
    "$\\textbf{1.5 -- (D)}$  \n",
    "- Compare all three methods"
   ]
  },
  {
   "cell_type": "markdown",
   "metadata": {},
   "source": [
    "Mainly, the two things we're interested in are:  \n",
    "- How close the estimated center $\\mu_{\\hat{\\phi}}$ of the distribution is to the true value of $\\phi = 0.9$.\n",
    "- The spread of the distribution of our estimator. How efficient is the method for parameter estimation?  \n",
    "- (Might be interested in) the symmetry of the distribution.\n",
    "\n",
    "Thoughts on the simulations we did:  \n",
    "1. On all of these fronts, the parametric Monte Carlo estimator and the IID bootstrap estimator look to give nearly identical performance. They both (for this seed run) give a center estimate of about $\\hat{\\phi} = 0.898$, and have standard deviation of about $\\sigma_{\\hat{\\phi}} = 0.02$. The sampling distribution for the bootstrap might be a tad tighter about the center, but it's fairly negligible.  \n",
    "2. One thing of interest to note: the sampling distribution for both the Monte Carlo and the bootstrap simulations are slightly left-skewed (longer left tails). Due to the mathematical construction of the Central Limit Theorem, it does not have this skewness, but is symmmetric about the estimated mean of the sampling distribution.\n",
    "3. We can see that the CLT-derived sampling distribution has slightly smaller variance than both MC and the bootstrap $ [ \\sigma_{\\hat{\\phi}} = 0.188 ] < [ \\sigma_{\\hat{\\phi}} =  0.02 ] $. Also, due to it's symmetric nature it is a highly favorable estimator. But, for this seed, it's estimated center is slightly farther from the true $\\phi = 0.9$ than the MC or boostrap estimates. Here, the CLT method estimates the center to be $\\hat{\\phi} = 0.90702$.\n",
    "4. All in all, the CLT distribution is probably best, but only by a touch. The Monte Carlo and bootstrap estimators both proved to be robust estimators of the $\\phi$ parameter, and would be a good choice we are looking at real-world data and can't (or shouldn't) assume some parametric distribution."
   ]
  },
  {
   "cell_type": "code",
   "execution_count": null,
   "metadata": {},
   "outputs": [],
   "source": [
    "  \n",
    "      \n",
    "        "
   ]
  },
  {
   "cell_type": "markdown",
   "metadata": {},
   "source": [
    "$\\textbf{1.6}$  \n",
    "Return to the problem in 5 above and redo the simulation from step one, but replace the error distribution with a student-T distribution with df=5 (degrees of freedom parameter). Even though we know at the generation stage that the errors come from the student-T distribution, the econometrician assumes a normal distribution when using the CLT and parametric Monte Carlo. The bootstrap obviously does not need to make such assumptions. Compare to the results above."
   ]
  },
  {
   "cell_type": "markdown",
   "metadata": {},
   "source": [
    "First, generate the new series using a student-T distribution for draws for the white noise process."
   ]
  },
  {
   "cell_type": "code",
   "execution_count": 65,
   "metadata": {},
   "outputs": [],
   "source": [
    "def gen_AR1_studentT(phi_val):\n",
    "    \"\"\"\n",
    "    This function takes a phi value as input and creates an AR(1) time series that draws\n",
    "    the white noise values from a student-T distribution with df=5.\n",
    "    \"\"\"\n",
    "    \n",
    "    # Number of obs in the series\n",
    "    T = 500\n",
    "    \n",
    "    # Generate the epislon terms vector USING STUDENT-T DISTRIBUTION\n",
    "    epsilon_t = np.random.standard_t(size = T-1, df=5)\n",
    "    \n",
    "    # Create a vector to store the series {y_t}\n",
    "    y_t = np.empty(T)\n",
    "    \n",
    "    # Intialize the first value, y_0, outside of the loop\n",
    "    y_t[0] = 0\n",
    "    \n",
    "    for i in range(T-1):\n",
    "        y_t[i+1] = phi_val * y_t[i] + epsilon_t[i]\n",
    "        \n",
    "    return y_t\n",
    "    \n",
    "    \n",
    "# Generate the new series (different method for generating white noise: student-T)\n",
    "y_phi_9_student = gen_AR1_studentT(0.9)\n",
    "\n",
    "# Perform the regression for this new series using previously-defined function\n",
    "ols_9_student = fit_OLS(y_phi_9_student)"
   ]
  },
  {
   "cell_type": "code",
   "execution_count": null,
   "metadata": {},
   "outputs": [],
   "source": [
    "  \n",
    "      \n",
    "        "
   ]
  },
  {
   "cell_type": "markdown",
   "metadata": {},
   "source": [
    "$\\textbf{1.6 -- (A)}$  \n",
    "-  Use the Central Limit Theorem to derive a sampling distribution of $\\hat{\\phi}$. Present the parameter values of the sampling distribution. Produce a graph of the distribution."
   ]
  },
  {
   "cell_type": "code",
   "execution_count": 68,
   "metadata": {},
   "outputs": [
    {
     "data": {
      "text/plain": [
       "Text(0.5, 1.0, 'CLT-derived Sampling Distribution of $\\\\hat{\\\\phi}$, STUDENT-T VERSION')"
      ]
     },
     "execution_count": 68,
     "metadata": {},
     "output_type": "execute_result"
    },
    {
     "data": {
      "image/png": "[encoded data removed]",
      "text/plain": [
       "<Figure size 432x288 with 1 Axes>"
      ]
     },
     "metadata": {
      "needs_background": "light"
     },
     "output_type": "display_data"
    }
   ],
   "source": [
    "mean_phi_distn_stud = ols_9_student[0]\n",
    "stDev_phi_distn_stud = ols_9_student[-1]\n",
    "\n",
    "x_vals_plot = np.linspace(mean_phi_distn - 5*stDev_phi_distn,\n",
    "                          mean_phi_distn + 5*stDev_phi_distn,\n",
    "                          100)\n",
    "plt.plot(x_vals_plot,\n",
    "         stats.norm.pdf(x_vals_plot, mean_phi_distn_stud, stDev_phi_distn_stud),\n",
    "         c = \"g\")\n",
    "plt.title(\"CLT-derived Sampling Distribution of $\\hat{\\phi}$, STUDENT-T VERSION\")"
   ]
  },
  {
   "cell_type": "markdown",
   "metadata": {},
   "source": [
    "The mean parameter for the CLT-derived sampling distribution of $\\hat{\\phi}$  generated using student-T for errors is: "
   ]
  },
  {
   "cell_type": "code",
   "execution_count": 69,
   "metadata": {},
   "outputs": [
    {
     "data": {
      "text/plain": [
       "0.88137"
      ]
     },
     "execution_count": 69,
     "metadata": {},
     "output_type": "execute_result"
    }
   ],
   "source": [
    "round(mean_phi_distn_stud, 5)"
   ]
  },
  {
   "cell_type": "markdown",
   "metadata": {},
   "source": [
    "The standard deviation parameter for the CLT-derived sampling distribution of $\\hat{\\phi}$  generated using student-T for errors is: "
   ]
  },
  {
   "cell_type": "code",
   "execution_count": 70,
   "metadata": {},
   "outputs": [
    {
     "data": {
      "text/plain": [
       "0.02113"
      ]
     },
     "execution_count": 70,
     "metadata": {},
     "output_type": "execute_result"
    }
   ],
   "source": [
    "round(stDev_phi_distn_stud, 5)"
   ]
  },
  {
   "cell_type": "code",
   "execution_count": null,
   "metadata": {},
   "outputs": [],
   "source": [
    "  \n",
    "      \n",
    "        "
   ]
  },
  {
   "cell_type": "markdown",
   "metadata": {},
   "source": [
    "$\\textbf{1.6 -- (B)}$  \n",
    "- Use parametric Monte Carlo to simulate the sampling distribution. Use M = 10,000 repititions. Use the sample mean and standard deviation to estimate the parameter values of the distribution. Produce a histogram."
   ]
  },
  {
   "cell_type": "code",
   "execution_count": 72,
   "metadata": {},
   "outputs": [
    {
     "data": {
      "text/plain": [
       "Text(0.5, 1.0, 'Monte-Carlo-derived Sampling Distribution of $\\\\hat{\\\\phi}$, STUDENT-T VERSION')"
      ]
     },
     "execution_count": 72,
     "metadata": {},
     "output_type": "execute_result"
    },
    {
     "data": {
      "image/png": "[encoded data removed]",
      "text/plain": [
       "<Figure size 432x288 with 1 Axes>"
      ]
     },
     "metadata": {
      "needs_background": "light"
     },
     "output_type": "display_data"
    }
   ],
   "source": [
    "# Set the phi parameter\n",
    "phi_hat = ols_9_student[0]\n",
    "\n",
    "# Generate predictions using fctn and new STUDENT-T generated series\n",
    "y_hats_student = gen_y_hats(y_phi_9_student, phi_hat)\n",
    "\n",
    "# Drop the first value: never mind, this is unnecessary\n",
    "# y_hats_student = y_hats_student\n",
    "\n",
    "# Calculate the residuals of the predicted values VS the true values\n",
    "residuals_student = y_phi_9_student - y_hats_student\n",
    "\n",
    "# For the \"parametric\" part of parametric Monte Carlo, we now take the residuals\n",
    "# to estimate parameters for a normal distn for the white noise part of the model\n",
    "mu_eps_student = np.mean(residuals_student)\n",
    "stDev_eps_student = np.std(residuals_student)\n",
    "\n",
    "# Set the number of simulation repititions\n",
    "M = 10000\n",
    "\n",
    "# Simulate 100 different series and compute the regression (and regr params)\n",
    "# for each of them\n",
    "phi_MC_student = np.empty(M)\n",
    "for i in range(M):\n",
    "    # The inner part generates a parametric Monte Carlo series based on the parameters\n",
    "    # we pass (our phi_hat, and the center and stDev of white noise process).\n",
    "    # The outer part then fits an OLS regression onto this MC series, and uses\n",
    "    # the function above to access the new predicted slope (phi_hat for that\n",
    "    # series).\n",
    "    # This then gets stored in the array of all Monte Carlo phi's (phi_MC).\n",
    "    phi_MC_student[i] = fit_OLS(gen_AR1_MoCarl(phi_hat,\n",
    "                  mu_eps_student,\n",
    "                  stDev_eps_student))[0]\n",
    "    \n",
    "# Use the sample mean and standard deviation to estimate parameter values of \n",
    "# the distribtuion (of PHI's).\n",
    "est_mu_phi_MC_student = np.mean(phi_MC_student)\n",
    "est_sd_phi_MC_student = np.std(phi_MC_student)\n",
    "    \n",
    "# Plot a histogram\n",
    "plt.hist(phi_MC_student, bins=100)\n",
    "plt.title(\"Monte-Carlo-derived Sampling Distribution of $\\hat{\\phi}$, STUDENT-T VERSION\")"
   ]
  },
  {
   "cell_type": "markdown",
   "metadata": {},
   "source": [
    "The mean parameter for the Monte-Carlo-derived sampling distribution of $\\hat{\\phi}$  generated using student-T for errors is: "
   ]
  },
  {
   "cell_type": "code",
   "execution_count": 73,
   "metadata": {},
   "outputs": [
    {
     "data": {
      "text/plain": [
       "0.8747"
      ]
     },
     "execution_count": 73,
     "metadata": {},
     "output_type": "execute_result"
    }
   ],
   "source": [
    "round(est_mu_phi_MC_student, 5)"
   ]
  },
  {
   "cell_type": "markdown",
   "metadata": {},
   "source": [
    "The standard deviation parameter for the Monte-Carlo-derived sampling distribution of $\\hat{\\phi}$  generated using student-T for errors is: "
   ]
  },
  {
   "cell_type": "code",
   "execution_count": 75,
   "metadata": {},
   "outputs": [
    {
     "data": {
      "text/plain": [
       "0.02194"
      ]
     },
     "execution_count": 75,
     "metadata": {},
     "output_type": "execute_result"
    }
   ],
   "source": [
    "round(est_sd_phi_MC_student, 5)"
   ]
  },
  {
   "cell_type": "code",
   "execution_count": null,
   "metadata": {},
   "outputs": [],
   "source": [
    "  \n",
    "      \n",
    "          "
   ]
  },
  {
   "cell_type": "markdown",
   "metadata": {},
   "source": [
    "$\\textbf{1.6 -- (C)}$\n",
    "- Use the IID bootstrap to simulate the sampling distribution. Use B = 10,000 repititions. Use the sample mean and standard deviation to estimate the parameter values of the distribution. Produce a histogram."
   ]
  },
  {
   "cell_type": "code",
   "execution_count": 76,
   "metadata": {},
   "outputs": [
    {
     "data": {
      "text/plain": [
       "Text(0.5, 1.0, 'IID-bootstrap-derived Sampling Distribution of $\\\\hat{\\\\phi}$, STUDENT-T VERSION')"
      ]
     },
     "execution_count": 76,
     "metadata": {},
     "output_type": "execute_result"
    },
    {
     "data": {
      "image/png": "[encoded data removed]",
      "text/plain": [
       "<Figure size 432x288 with 1 Axes>"
      ]
     },
     "metadata": {
      "needs_background": "light"
     },
     "output_type": "display_data"
    }
   ],
   "source": [
    "def gen_AR1_boot_stud(phi_hat):\n",
    "    \"\"\"\n",
    "    This function generates an AR(1) process time series using an IID bootstrap simulation\n",
    "    based on the phi parameter passed into the function and the residuals created by using\n",
    "    STUDENT-T distribution for the white noise process.\n",
    "    \"\"\"\n",
    "    \n",
    "    # Number of observations in the series\n",
    "    T = 500\n",
    "    \n",
    "    # Generate the epislon terms vector by IID bootstrapping 499 observations\n",
    "    # from the residuals generated above (during Monte Carlo).\n",
    "    eps_t = np.random.choice(residuals_student, size=T-1)\n",
    "    \n",
    "    # Create a vector to store the series {y_t}\n",
    "    y_t = np.empty(T)\n",
    "    \n",
    "    # Intialize the first value, y_0, outside of the loop\n",
    "    y_t[0] = 0\n",
    "    \n",
    "    # Populate the series\n",
    "    for i in range(T-1):\n",
    "        y_t[i+1] = phi_hat * y_t[i] + eps_t[i]\n",
    "        \n",
    "    return y_t\n",
    "\n",
    "\n",
    "# Set the number of simulation repititions\n",
    "B = 10000\n",
    "\n",
    "\n",
    "# Simulate 100 different series and compute the regression (and regr params)\n",
    "# for each of them\n",
    "phi_boot_stud = np.empty(B)\n",
    "\n",
    "for i in range(B):\n",
    "    # The inner part generates a parametric Monte Carlo series based on the parameters\n",
    "    # we pass (our phi_hat, and the center and stDev of white noise process).\n",
    "    # The outer part then fits an OLS regression onto this MC series, and uses\n",
    "    # the function above to access the new predicted slope (phi_hat for that\n",
    "    # series).\n",
    "    # This then gets stored in the array of all Monte Carlo phi's (phi_MC).\n",
    "    phi_boot_stud[i] = fit_OLS(gen_AR1_boot_stud(phi_hat))[0]\n",
    "    \n",
    "    \n",
    "# Use the sample mean and standard deviation to estimate parameter values of \n",
    "# the distribtuion (of PHI's).\n",
    "est_mu_phi_boot_stud = np.mean(phi_boot_stud)\n",
    "est_sd_phi_boot_stud = np.std(phi_boot_stud)\n",
    "    \n",
    "    \n",
    "# Plot a histogram\n",
    "plt.hist(phi_boot_stud, bins=100)\n",
    "plt.title(\"IID-bootstrap-derived Sampling Distribution of $\\hat{\\phi}$, STUDENT-T VERSION\")"
   ]
  },
  {
   "cell_type": "markdown",
   "metadata": {},
   "source": [
    "The mean parameter for the IID-bootstrap-derived sampling distribution of $\\hat{\\phi}$  generated using student-T for errors is: "
   ]
  },
  {
   "cell_type": "code",
   "execution_count": 77,
   "metadata": {},
   "outputs": [
    {
     "data": {
      "text/plain": [
       "0.87501"
      ]
     },
     "execution_count": 77,
     "metadata": {},
     "output_type": "execute_result"
    }
   ],
   "source": [
    "round(est_mu_phi_boot_stud, 5)"
   ]
  },
  {
   "cell_type": "markdown",
   "metadata": {},
   "source": [
    "The standard deviation parameter for the IID-bootstrap-derived sampling distribution of $\\hat{\\phi}$  generated using student-T for errors is: "
   ]
  },
  {
   "cell_type": "code",
   "execution_count": 79,
   "metadata": {},
   "outputs": [
    {
     "data": {
      "text/plain": [
       "0.02176"
      ]
     },
     "execution_count": 79,
     "metadata": {},
     "output_type": "execute_result"
    }
   ],
   "source": [
    "round(est_sd_phi_boot_stud, 5)"
   ]
  },
  {
   "cell_type": "code",
   "execution_count": null,
   "metadata": {},
   "outputs": [],
   "source": [
    "  \n",
    "      \n",
    "        "
   ]
  },
  {
   "cell_type": "markdown",
   "metadata": {},
   "source": [
    "$\\textbf{1.6 -- (D)}$  \n",
    "- Compare to the results above"
   ]
  },
  {
   "cell_type": "markdown",
   "metadata": {},
   "source": [
    "Mainly, the two things we're interested in are:  \n",
    "- How close the estimated center $\\mu_{\\hat{\\phi}}$ of the distribution is to the true value of $\\phi = 0.9$, and how did the estimation methods compare when the time series is simulated using a student-T distribution for error terms?\n",
    "- The spread of the distribution of our estimator. How efficient is the method for parameter estimation? Was it more/less efficient than the data that had normally-distributed error terms?  \n",
    "- (Might be interested in) the symmetry of the distributions.\n",
    "\n",
    "Thoughts on the simulations we did:  \n",
    "1. On all of these fronts, the parametric Monte Carlo estimator and the IID bootstrap estimator look to give nearly identical performance once again. They both (for this seed run) give a center estimate of about $\\hat{\\phi} = 0.875$, and have standard deviation of about $\\sigma_{\\hat{\\phi}} = 0.022$. Comparing to the estimation in $\\textbf{1.5}$, we can see that the estimates are more biased; the means here are slightly further from 0.9 for the MC and bootstrap estimators due to the white noise process having student-T distribution. Also, we can see that the estimators aren't as efficient, since they have a higher standard deviation (0.022 > 0.02 from above).\n",
    "2. One thing of interest to note: the sampling distribution for both the Monte Carlo and the bootstrap simulations are slightly left-skewed (longer left tails) once again. Due to the mathematical construction of the Central Limit Theorem, it does not have this skewness, but is symmmetric about the estimated mean of the sampling distribution.\n",
    "3. We can see that the CLT-derived sampling distribution has slightly smaller variance than both MC and the bootstrap $ [ \\sigma_{\\hat{\\phi}} = 0.21 ] < [ \\sigma_{\\hat{\\phi}} =  0.022 ] $. Also, due to it's symmetric nature it is a highly favorable estimator. But, for this seed, it's estimated center is a bit off from the true $\\phi = 0.9$. Here, the CLT method estimates the center to be $\\hat{\\phi} = 0.88137$, which is slightly better than MC and bootstrap (this was not the case in $\\textbf{1.5}$: it was the opposite).\n",
    "4. All in all, the CLT distribution is probably best, but only by a touch. The Monte Carlo and bootstrap estimators both proved to be robust estimators of the $\\phi$ parameter, and would be a good choice we are looking at real-world data and can't (or shouldn't) assume some parametric distribution.  \n",
    "5. Also, we can see a definite effect due to the error distribution being generated from a student-T distribution. These estimators, however, still do a fairly good job, suggesting they'll work well on real data."
   ]
  },
  {
   "cell_type": "code",
   "execution_count": null,
   "metadata": {},
   "outputs": [],
   "source": [
    "  \n",
    "    \n",
    "    \n",
    "    \n",
    "    \n",
    "    \n",
    "    \n",
    "    \n",
    "    "
   ]
  },
  {
   "cell_type": "markdown",
   "metadata": {},
   "source": [
    "# Problem 2"
   ]
  },
  {
   "cell_type": "markdown",
   "metadata": {},
   "source": [
    "$\\textbf{2.1}$  \n",
    "Simulate T = 500 time steps for the following two equations:  \n",
    "$y_t = y_{t-1} - u_{1,t}$  \n",
    "$x_t = x_{t-1} - u_{2,t}$  \n",
    "where $u_{j,t}$ such that $j \\in \\{1,2\\}$ are independent white noise processes."
   ]
  },
  {
   "cell_type": "code",
   "execution_count": 80,
   "metadata": {},
   "outputs": [
    {
     "data": {
      "text/plain": [
       "<matplotlib.axes._subplots.AxesSubplot at 0x1c35ea35978>"
      ]
     },
     "execution_count": 80,
     "metadata": {},
     "output_type": "execute_result"
    },
    {
     "data": {
      "image/png": "[encoded data removed]",
      "text/plain": [
       "<Figure size 432x288 with 1 Axes>"
      ]
     },
     "metadata": {
      "needs_background": "light"
     },
     "output_type": "display_data"
    }
   ],
   "source": [
    "# The number of time steps\n",
    "T = 500\n",
    "\n",
    "# This creates the series {y_t}\n",
    "y = np.cumsum(np.random.normal(size=T))\n",
    "\n",
    "# Turn the y numpy array into a Pandas series\n",
    "ts1 = pd.Series(y)\n",
    "\n",
    "\n",
    "# This creates the series {x_t}\n",
    "x = np.cumsum(np.random.normal(size=T))\n",
    "\n",
    "# Turn the x numpy array into a Pandas series\n",
    "ts2 = pd.Series(x)\n",
    "\n",
    "\n",
    "# Plot the series\n",
    "ts1.plot(grid=True, color=\"purple\")\n",
    "ts2.plot(grid=True, color=\"orange\")"
   ]
  },
  {
   "cell_type": "code",
   "execution_count": null,
   "metadata": {},
   "outputs": [],
   "source": [
    "  \n",
    "      \n",
    "        "
   ]
  },
  {
   "cell_type": "markdown",
   "metadata": {},
   "source": [
    "$\\textbf{2.2}$  \n",
    "Next regress $y_t$ on $x_t$ and estimate $\\beta$ (slope coefficient) via OLS in the following regression:  \n",
    "$y_t = \\alpha + \\beta x_t + \\epsilon_t$"
   ]
  },
  {
   "cell_type": "code",
   "execution_count": 81,
   "metadata": {},
   "outputs": [
    {
     "data": {
      "text/plain": [
       "-0.3975101801082845"
      ]
     },
     "execution_count": 81,
     "metadata": {},
     "output_type": "execute_result"
    }
   ],
   "source": [
    "reg = stats.linregress(x,y)\n",
    "\n",
    "# Estimate of beta (slope coefficient)\n",
    "reg[0]"
   ]
  },
  {
   "cell_type": "code",
   "execution_count": null,
   "metadata": {},
   "outputs": [],
   "source": [
    "  \n",
    "      \n",
    "        "
   ]
  },
  {
   "cell_type": "markdown",
   "metadata": {},
   "source": [
    "$\\textbf{2.3}$  \n",
    "Test the null hypothesis $H_0: \\beta = 0$ against the alternative $H_A: \\beta \\ne 0$. Use the standard t-test with standard significance levels $\\alpha \\in \\{0.01, 0.05, 0.1\\}$.  \n",
    "What should you find?  \n",
    "What do you find?"
   ]
  },
  {
   "cell_type": "code",
   "execution_count": 82,
   "metadata": {},
   "outputs": [
    {
     "data": {
      "text/plain": [
       "2.6131917174240577e-21"
      ]
     },
     "execution_count": 82,
     "metadata": {},
     "output_type": "execute_result"
    }
   ],
   "source": [
    "p_val = reg[3]  \n",
    "p_val"
   ]
  },
  {
   "cell_type": "markdown",
   "metadata": {},
   "source": [
    "We obtain a miniscule p-value; p = $2.6132 \\times 10^{-21}$ for the seed I'm working with.  \n",
    "As such, we reject $H_0$ for all significance levels.  \n",
    "We SHOULD find that we fail to reject at all levels of $\\alpha$ (since the series aren't actually correlated) but we didn't find this. (And likely won't for most simulations.) The low p-value suggests that the series are cointegrated, when in reality it just looks this way because both series are related to time similarly. Time is a \"confounding factor.\""
   ]
  },
  {
   "cell_type": "code",
   "execution_count": null,
   "metadata": {},
   "outputs": [],
   "source": [
    "  \n",
    "      \n",
    "        "
   ]
  },
  {
   "cell_type": "markdown",
   "metadata": {},
   "source": [
    "$\\textbf{2.4}$  \n",
    "Repeat the process M = 50,000 times and store the $\\beta$ coefficients for each run of the simulation."
   ]
  },
  {
   "cell_type": "code",
   "execution_count": 88,
   "metadata": {},
   "outputs": [],
   "source": [
    "# Number of observations in each of the simulated series\n",
    "T = 500\n",
    "\n",
    "# Number of simulated series\n",
    "M = 50000\n",
    "\n",
    "# Empty array to store beta values generated from simulation\n",
    "betas = np.empty(M)\n",
    "\n",
    "# Empty array to store R^2 values generated from simulation (just for fun, assignment doesn't specify)\n",
    "r_sqrd = np.empty(M)\n",
    "\n",
    "# Populate the betas and r_sqrd arrays via 50,000 simulations\n",
    "for i in range(M):\n",
    "    # Create the two series\n",
    "    y = np.cumsum(np.random.normal(size=T))\n",
    "    x = np.cumsum(np.random.normal(size=T))\n",
    "    # Regress y on x\n",
    "    reg = stats.linregress(x,y)\n",
    "    # Store the beta coefficient for that regression in the array\n",
    "    betas[i] = reg.slope\n",
    "    r_sqrd[i] = reg.rvalue**2\n",
    "    # Theoretically, all of the r-squared values should be 0"
   ]
  },
  {
   "cell_type": "code",
   "execution_count": null,
   "metadata": {},
   "outputs": [],
   "source": [
    "  \n",
    "      \n",
    "        "
   ]
  },
  {
   "cell_type": "markdown",
   "metadata": {},
   "source": [
    "$\\textbf{2.5}$  \n",
    "Summarize the simulated sampling distribution for $\\beta$."
   ]
  },
  {
   "cell_type": "markdown",
   "metadata": {},
   "source": [
    "The mean parameter for the simulated sampling distribution of $\\beta$  is: "
   ]
  },
  {
   "cell_type": "code",
   "execution_count": 89,
   "metadata": {},
   "outputs": [
    {
     "data": {
      "text/plain": [
       "0.0014075007274527997"
      ]
     },
     "execution_count": 89,
     "metadata": {},
     "output_type": "execute_result"
    }
   ],
   "source": [
    "mean_betas = np.mean(betas)  \n",
    "mean_betas"
   ]
  },
  {
   "cell_type": "markdown",
   "metadata": {},
   "source": [
    "The standard deviation parameter for the simulated sampling distribution of $\\beta$  is: "
   ]
  },
  {
   "cell_type": "code",
   "execution_count": 90,
   "metadata": {},
   "outputs": [
    {
     "data": {
      "text/plain": [
       "0.6314988333419048"
      ]
     },
     "execution_count": 90,
     "metadata": {},
     "output_type": "execute_result"
    }
   ],
   "source": [
    "stDev_betas = np.std(betas)\n",
    "stDev_betas"
   ]
  },
  {
   "cell_type": "markdown",
   "metadata": {},
   "source": [
    "Also, from the histogram below, we can see that the simulated sampling distribution of $\\beta$ looks to be very normal. In fact, thsi histogram brings me great joy due to how normal it looks. $\\textbf{A thing of beauty!}$"
   ]
  },
  {
   "cell_type": "code",
   "execution_count": null,
   "metadata": {},
   "outputs": [],
   "source": [
    "  \n",
    "      \n",
    "        "
   ]
  },
  {
   "cell_type": "markdown",
   "metadata": {},
   "source": [
    "$\\textbf{2.6}$  \n",
    "Make a histogram plot of the simulated coefficients."
   ]
  },
  {
   "cell_type": "code",
   "execution_count": 97,
   "metadata": {},
   "outputs": [
    {
     "data": {
      "text/plain": [
       "Text(0.5, 1.0, 'Simulated Sampling Distribution of Beta')"
      ]
     },
     "execution_count": 97,
     "metadata": {},
     "output_type": "execute_result"
    },
    {
     "data": {
      "image/png": "[encoded data removed]",
      "text/plain": [
       "<Figure size 432x288 with 1 Axes>"
      ]
     },
     "metadata": {
      "needs_background": "light"
     },
     "output_type": "display_data"
    }
   ],
   "source": [
    "plt.hist(betas, bins=100);\n",
    "plt.title(\"Simulated Sampling Distribution of Beta\")"
   ]
  },
  {
   "cell_type": "markdown",
   "metadata": {},
   "source": [
    "  \n",
    "    \n",
    "    \n",
    "    \n",
    "    \n",
    "    \n",
    "    \n",
    "    \n",
    "    \n",
    "    "
   ]
  },
  {
   "cell_type": "code",
   "execution_count": null,
   "metadata": {},
   "outputs": [],
   "source": [
    "  \n",
    "    \n",
    "    \n",
    "    \n",
    "    \n",
    "    \n",
    "    \n",
    "    \n",
    "    "
   ]
  },
  {
   "cell_type": "markdown",
   "metadata": {},
   "source": [
    "# Problem 3"
   ]
  },
  {
   "cell_type": "markdown",
   "metadata": {},
   "source": [
    "Repeat the exercise in Problem 1 above for $\\phi = 1.0$."
   ]
  },
  {
   "cell_type": "code",
   "execution_count": null,
   "metadata": {},
   "outputs": [],
   "source": [
    "  "
   ]
  },
  {
   "cell_type": "markdown",
   "metadata": {},
   "source": [
    "$\\textbf{3.1}$  \n",
    "Simulate T = 500 observations using the equation $y_t = \\phi y_{t-1} + \\epsilon_t$ where $\\phi = 1.0$."
   ]
  },
  {
   "cell_type": "code",
   "execution_count": 98,
   "metadata": {},
   "outputs": [],
   "source": [
    "# Simply use the AR(1) function defined above to create this series\n",
    "y_phi_1 = gen_AR1(1.0)"
   ]
  },
  {
   "cell_type": "code",
   "execution_count": null,
   "metadata": {},
   "outputs": [],
   "source": [
    "\n",
    "\n"
   ]
  },
  {
   "cell_type": "markdown",
   "metadata": {},
   "source": [
    "$\\textbf{3.2}$  \n",
    "Treat the artificial data from the simulation as observed data by an econometrician."
   ]
  },
  {
   "cell_type": "markdown",
   "metadata": {},
   "source": [
    "Noted, and will do."
   ]
  },
  {
   "cell_type": "code",
   "execution_count": null,
   "metadata": {},
   "outputs": [],
   "source": [
    "\n",
    "\n"
   ]
  },
  {
   "cell_type": "markdown",
   "metadata": {},
   "source": [
    "$\\textbf{3.3}$  \n",
    "Estimate the model for these data via OLS."
   ]
  },
  {
   "cell_type": "code",
   "execution_count": 99,
   "metadata": {},
   "outputs": [],
   "source": [
    "# Simply use the fit_OLS function defined above to do this for the unit-root series.\n",
    "ols_1 = fit_OLS(y_phi_1)"
   ]
  },
  {
   "cell_type": "code",
   "execution_count": null,
   "metadata": {},
   "outputs": [],
   "source": [
    "\n",
    "\n"
   ]
  },
  {
   "cell_type": "markdown",
   "metadata": {},
   "source": [
    "$\\textbf{3.4}$  \n",
    "Test the standard null hypothesis of $H_0: \\phi = 0$ versus $H_A: \\phi \\ne 0$ with a standard t-test for significance levels $\\alpha \\in \\{0.01, 0.05, 0.1\\}$ and report the results in a table.  \n",
    "Provide test statistics, standard errors, critical values, and p-values."
   ]
  },
  {
   "cell_type": "code",
   "execution_count": 101,
   "metadata": {},
   "outputs": [
    {
     "data": {
      "text/plain": [
       "(172.053, 0.0058, 0.0)"
      ]
     },
     "execution_count": 101,
     "metadata": {},
     "output_type": "execute_result"
    }
   ],
   "source": [
    "# Simply use the function defined above, gen_test_results, to find the value of the test stat, std_err, and p-value\n",
    "hyp_test_phi_1 = gen_test_results(ols_1)\n",
    "hyp_test_phi_1"
   ]
  },
  {
   "cell_type": "markdown",
   "metadata": {},
   "source": [
    "$\\textbf{NOTE:}$ See markdown cell $\\textbf{1.4}$ above for critical values used to determine rejection/failure to reject $H_0$.\n",
    "\n",
    "| $\\phi$ | test_stat | std_error | p-value                  | Reject or Fail to Reject $H_0$?                          |\n",
    "|--------|-----------|-----------|--------------------------|----------------------------------------------------------|\n",
    "| 1.0    | 172.053   | 0.0058    | $\\approx 0$              | Reject $H_0$ $\\forall$ $\\alpha \\in \\{0.01, 0.05, 0.1\\} $ |  "
   ]
  },
  {
   "cell_type": "code",
   "execution_count": null,
   "metadata": {},
   "outputs": [],
   "source": [
    "\n",
    "\n"
   ]
  },
  {
   "cell_type": "markdown",
   "metadata": {},
   "source": [
    "$\\textbf{3.5 -- (A)}$  \n",
    "-  Use the Central Limit Theorem to derive a sampling distribution of $\\hat{\\phi}$. Present the parameter values of the sampling distribution. Produce a graph of the distribution. "
   ]
  },
  {
   "cell_type": "code",
   "execution_count": 105,
   "metadata": {},
   "outputs": [
    {
     "data": {
      "text/plain": [
       "Text(0.5, 1.0, 'CLT-derived Sampling Distribution of $\\\\hat{\\\\phi}$ where $\\\\phi = 1.0$')"
      ]
     },
     "execution_count": 105,
     "metadata": {},
     "output_type": "execute_result"
    },
    {
     "data": {
      "image/png": "[encoded data removed]",
      "text/plain": [
       "<Figure size 432x288 with 1 Axes>"
      ]
     },
     "metadata": {
      "needs_background": "light"
     },
     "output_type": "display_data"
    }
   ],
   "source": [
    "mean_phi1_distn = ols_1[0]\n",
    "stDev_phi1_distn = ols_1[-1]\n",
    "\n",
    "x_vals_plot = np.linspace(mean_phi1_distn - 5*stDev_phi1_distn,\n",
    "                          mean_phi1_distn + 5*stDev_phi1_distn,\n",
    "                          100)\n",
    "plt.plot(x_vals_plot,\n",
    "         stats.norm.pdf(x_vals_plot, mean_phi1_distn, stDev_phi1_distn),\n",
    "         c = \"g\")\n",
    "plt.title(\"CLT-derived Sampling Distribution of $\\hat{\\phi}$ where $\\phi = 1.0$\")"
   ]
  },
  {
   "cell_type": "markdown",
   "metadata": {},
   "source": [
    "The estimated mean parameter for the CLT-derived sampling distribution of $\\hat{\\phi}$ above where $\\phi = 1.0$ is:"
   ]
  },
  {
   "cell_type": "code",
   "execution_count": 106,
   "metadata": {},
   "outputs": [
    {
     "data": {
      "text/plain": [
       "0.99432"
      ]
     },
     "execution_count": 106,
     "metadata": {},
     "output_type": "execute_result"
    }
   ],
   "source": [
    "round(mean_phi1_distn, 5)"
   ]
  },
  {
   "cell_type": "markdown",
   "metadata": {},
   "source": [
    "The estimated standard deviation parameter for the CLT-derived sampling distribution of $\\hat{\\phi}$ above where $\\phi = 1.0$ is:"
   ]
  },
  {
   "cell_type": "code",
   "execution_count": 107,
   "metadata": {},
   "outputs": [
    {
     "data": {
      "text/plain": [
       "0.00578"
      ]
     },
     "execution_count": 107,
     "metadata": {},
     "output_type": "execute_result"
    }
   ],
   "source": [
    "round(stDev_phi1_distn, 5)"
   ]
  },
  {
   "cell_type": "code",
   "execution_count": null,
   "metadata": {},
   "outputs": [],
   "source": [
    "\n",
    "\n"
   ]
  },
  {
   "cell_type": "markdown",
   "metadata": {},
   "source": [
    "$\\textbf{3.5 -- (B)}$\n",
    "- Use parametric Monte Carlo to simulate the sampling distribution. Use M = 10,000 repititions. Use the sample mean and standard deviation to estimate the parameter values of the distribution. Produce a histogram."
   ]
  },
  {
   "cell_type": "code",
   "execution_count": 108,
   "metadata": {},
   "outputs": [
    {
     "data": {
      "text/plain": [
       "Text(0.5, 1.0, \"Histogram of $\\\\hat{\\\\phi}$ sampling dist'n from parametric Monte Carlo where $\\\\phi = 1.0$\")"
      ]
     },
     "execution_count": 108,
     "metadata": {},
     "output_type": "execute_result"
    },
    {
     "data": {
      "image/png": "[encoded data removed]",
      "text/plain": [
       "<Figure size 432x288 with 1 Axes>"
      ]
     },
     "metadata": {
      "needs_background": "light"
     },
     "output_type": "display_data"
    }
   ],
   "source": [
    "# Set the phi parameter\n",
    "phi1_hat = ols_1[0]\n",
    "\n",
    "\n",
    "# Generate predictions using gen_y_hats fctn\n",
    "y_hats_phi1 = gen_y_hats(y_phi_1, phi1_hat)\n",
    "\n",
    "\n",
    "# Drop the first value in order to calculate residuals\n",
    "#y_hats = y_hats[1:]\n",
    "\n",
    "\n",
    "# Calculate the residuals of the predicted values VS the true values\n",
    "residuals_phi1 = y_phi_1 - y_hats_phi1\n",
    "\n",
    "\n",
    "# For the \"parametric\" part of parametric Monte Carlo, we now take the residuals\n",
    "# to estimate parameters for a normal distn for the white noise part of the model\n",
    "mu_eps_phi1 = np.mean(residuals_phi1)\n",
    "stDev_eps_phi1 = np.std(residuals_phi1)\n",
    "\n",
    "\n",
    "# Set the number of simulation repititions\n",
    "M = 10000\n",
    "\n",
    "\n",
    "# Simulate 10000 different series and compute the regression (and regr params)\n",
    "# for each of them\n",
    "phi1_MC = np.empty(M)\n",
    "\n",
    "for i in range(M):\n",
    "    #    The inner parentheses generates a parametric Monte Carlo series based on the parameters\n",
    "    # we pass (our phi_hat, and the center and stDev of white noise process).\n",
    "    #    The outer part then fits an OLS regression onto this MC series, and uses\n",
    "    # the function above to access the new predicted slope (phi_hat for that\n",
    "    # series).\n",
    "    #    This then gets stored in the array of all Monte Carlo phi's (phi_MC).\n",
    "    phi1_MC[i] = fit_OLS(gen_AR1_MoCarl(phi1_hat, mu_eps_phi1, stDev_eps_phi1))[0]\n",
    "    \n",
    "    \n",
    "# Use the sample mean and standard deviation to estimate parameter values of \n",
    "# the distribtuion (of phi's).\n",
    "est_mu_phi1_MC = np.mean(phi1_MC)\n",
    "est_sd_phi1_MC = np.std(phi1_MC)\n",
    "    \n",
    "    \n",
    "# Plot a histogram\n",
    "plt.hist(phi1_MC, bins=100)\n",
    "plt.title(\"Histogram of $\\hat{\\phi}$ sampling dist'n from parametric Monte Carlo where $\\phi = 1.0$\")"
   ]
  },
  {
   "cell_type": "markdown",
   "metadata": {},
   "source": [
    "The estimated mean of the Monte-Carlo-generated sampling distribution for $\\hat{\\phi}$ pictured above (where truth is $\\phi = 1.0) is:"
   ]
  },
  {
   "cell_type": "code",
   "execution_count": 109,
   "metadata": {},
   "outputs": [
    {
     "data": {
      "text/plain": [
       "1.00566"
      ]
     },
     "execution_count": 109,
     "metadata": {},
     "output_type": "execute_result"
    }
   ],
   "source": [
    "round(est_mu_phi1_MC, 5)"
   ]
  },
  {
   "cell_type": "markdown",
   "metadata": {},
   "source": [
    "The estimated standard deviation of the Monte-Carlo-generated sampling distribution for $\\hat{\\phi}$ pictured above (where truth is $\\phi = 1.0) is:"
   ]
  },
  {
   "cell_type": "code",
   "execution_count": 110,
   "metadata": {},
   "outputs": [
    {
     "data": {
      "text/plain": [
       "0.00041"
      ]
     },
     "execution_count": 110,
     "metadata": {},
     "output_type": "execute_result"
    }
   ],
   "source": [
    "round(est_sd_phi1_MC, 5)"
   ]
  },
  {
   "cell_type": "code",
   "execution_count": null,
   "metadata": {},
   "outputs": [],
   "source": [
    "\n",
    "\n"
   ]
  },
  {
   "cell_type": "markdown",
   "metadata": {},
   "source": [
    "$\\textbf{3.5 -- (C)}$\n",
    "- Use the IID bootstrap to simulate the sampling distribution. Use B = 10,000 repititions. Use the sample mean and standard deviation to estimate the parameter values of the distribution. Produce a histogram."
   ]
  },
  {
   "cell_type": "code",
   "execution_count": 111,
   "metadata": {},
   "outputs": [
    {
     "data": {
      "text/plain": [
       "Text(0.5, 1.0, \"Histogram of $\\\\hat{\\\\phi}$ sampling dist'n from IID bootstrap where $\\\\phi = 1.0$\")"
      ]
     },
     "execution_count": 111,
     "metadata": {},
     "output_type": "execute_result"
    },
    {
     "data": {
      "image/png": "[encoded data removed]",
      "text/plain": [
       "<Figure size 432x288 with 1 Axes>"
      ]
     },
     "metadata": {
      "needs_background": "light"
     },
     "output_type": "display_data"
    }
   ],
   "source": [
    "def gen_AR1_boot_phi1(phi_hat):\n",
    "    \"\"\"\n",
    "    This function generates an AR(1) process time series using an IID bootstrap simulation\n",
    "    based on the phi parameter passed into the function.\n",
    "    \"\"\"\n",
    "    \n",
    "    # Number of observations in the series\n",
    "    T = 500\n",
    "    \n",
    "    # Generate the epislon terms vector by IID bootstrapping 499 observations\n",
    "    # from the residuals generated above ( they were generated during Monte Carlo).\n",
    "    eps_t = np.random.choice(residuals_phi1, size=T-1)\n",
    "    \n",
    "    # Create a vector to store the series {y_t}\n",
    "    y_t = np.empty(T)\n",
    "    \n",
    "    # Intialize the first value, y_0, outside of the loop\n",
    "    y_t[0] = 0\n",
    "    \n",
    "    # Create the series\n",
    "    for i in range(T-1):\n",
    "        y_t[i+1] = phi_hat * y_t[i] + eps_t[i]\n",
    "        \n",
    "    return y_t\n",
    "\n",
    "\n",
    "# Set the number of simulation repititions\n",
    "B = 10000\n",
    "\n",
    "\n",
    "# Simulate 10000 different series and compute the regression (and regr params)\n",
    "# for each of them\n",
    "phi1_boot = np.empty(B)\n",
    "\n",
    "for i in range(B):\n",
    "    #    The inner part generates a bootstrapped series based on the parameter\n",
    "    # we pass (phi_hat).\n",
    "    #    The outer part then fits an OLS regression onto this bootstrapped series\n",
    "    # and uses the function above to access the new predicted slope (phi_hat for\n",
    "    # that series).\n",
    "    #    This then gets stored in the array of all bootstrapped phi's (phi_boot).\n",
    "    phi1_boot[i] = fit_OLS(gen_AR1_boot_phi1(phi1_hat))[0]\n",
    "    \n",
    "# Use the sample mean and standard deviation to estimate parameter values of \n",
    "# the distribtuion (of phi's).\n",
    "est_mu_phi1_boot = np.mean(phi1_boot)\n",
    "est_sd_phi1_boot = np.std(phi1_boot)\n",
    "    \n",
    "# Plot a histogram\n",
    "plt.hist(phi1_boot, bins=100)\n",
    "plt.title(\"Histogram of $\\hat{\\phi}$ sampling dist'n from IID bootstrap where $\\phi = 1.0$\")"
   ]
  },
  {
   "cell_type": "markdown",
   "metadata": {},
   "source": [
    "The estimated mean of the IID-bootstrap-generated sampling distribution for $\\hat{\\phi}$ pictured above (where truth is $\\phi = 1.0) is:"
   ]
  },
  {
   "cell_type": "code",
   "execution_count": 112,
   "metadata": {},
   "outputs": [
    {
     "data": {
      "text/plain": [
       "1.00566"
      ]
     },
     "execution_count": 112,
     "metadata": {},
     "output_type": "execute_result"
    }
   ],
   "source": [
    "round(est_mu_phi1_boot, 5)"
   ]
  },
  {
   "cell_type": "markdown",
   "metadata": {},
   "source": [
    "The estimated standard deviation of the IID-bootstrap-generated sampling distribution for $\\hat{\\phi}$ pictured above (where truth is $\\phi = 1.0) is:"
   ]
  },
  {
   "cell_type": "code",
   "execution_count": 113,
   "metadata": {},
   "outputs": [
    {
     "data": {
      "text/plain": [
       "0.00041"
      ]
     },
     "execution_count": 113,
     "metadata": {},
     "output_type": "execute_result"
    }
   ],
   "source": [
    "round(est_sd_phi1_boot, 5)"
   ]
  },
  {
   "cell_type": "code",
   "execution_count": null,
   "metadata": {},
   "outputs": [],
   "source": [
    "\n",
    "\n"
   ]
  },
  {
   "cell_type": "markdown",
   "metadata": {},
   "source": [
    "$\\textbf{3.5 -- (D)}$  \n",
    "- Compare all three methods (comment on your findings)."
   ]
  },
  {
   "cell_type": "markdown",
   "metadata": {},
   "source": [
    "Mainly, the two things we're interested in are:  \n",
    "- How close the estimated center $\\mu_{\\hat{\\phi}}$ of the distribution is to the true value of $\\phi = 1.0$.\n",
    "- The spread of the distribution of our estimator. How efficient is the method for parameter estimation?  \n",
    "- (Might be interested in) the symmetry of the distribution.\n",
    "\n",
    "Thoughts on the simulations we did:  \n",
    "1. On all of these fronts, the parametric Monte Carlo estimator and the IID bootstrap estimator look to give nearly identical performance AGAIN (this seems to be a theme throughout these simulations). They both (for this seed run) give a center estimate of about $\\hat{\\phi} = 1.006$, and have standard deviation of about $\\sigma_{\\hat{\\phi}} = 0.0004$. The Monte Carlo distribution looks to be slightly more symmetric, while the bootstrap distribution looks to be slightly right skewed.  \n",
    "2. Due to the mathematical construction of the Central Limit Theorem, it does not have this skewness, but is symmmetric about the estimated mean of the sampling distribution.\n",
    "3. We can see that the CLT-derived sampling distribution has much larger variance (a whole order of magnitude larger!) than both MC and the bootstrap $ [ \\sigma_{\\hat{\\phi}} = 0.006 ] >> [ \\sigma_{\\hat{\\phi}} =  0.0004 ] $. Additionally (for this seed) the estimated center for the CLT estimator is about equally far away from the true $\\phi = 1.0$ as both the MC and the boostrap estimates. Here, the CLT ($\\hat{\\phi} = 0.994$), MC, and bootstrap (both $\\hat{\\phi} = 1.006$) methods estimate the center to be 0.006 away from the true value of $\\phi = 1.0$.\n",
    "4. All in all, the Monte Carlo estimator is probably the best. All of the sampling distributions have similarly biased estimates of the mean (bias of about 0.006 each), but the MC and bootstrap have much smaller variance. The reason I'd say that we favor the bootstrap is that its sampling distribution appears to be more symmetrical.\n",
    "5. It's very intersting that the CLT gets outperformed by both MC and the bootstrap here. My guess is that this is inteded to illustrate the fact that more parametric methods break down when the regression estimation isn't valid (since we can't use OLS in a valid way when dealing with a unit root as we are here where $\\phi = 1.0$)."
   ]
  },
  {
   "cell_type": "code",
   "execution_count": null,
   "metadata": {},
   "outputs": [],
   "source": [
    "\n",
    "\n",
    "\n",
    "\n",
    "\n",
    "\n",
    "\n"
   ]
  },
  {
   "cell_type": "markdown",
   "metadata": {},
   "source": [
    "# Problem 4"
   ]
  },
  {
   "cell_type": "code",
   "execution_count": null,
   "metadata": {},
   "outputs": [],
   "source": [
    "\n"
   ]
  },
  {
   "cell_type": "markdown",
   "metadata": {},
   "source": [
    "$\\textbf{4.1}$  \n",
    "Simulate T = 500 time steps from the random walk model $x_t = x_{t-1} + u_{1,t}$"
   ]
  },
  {
   "cell_type": "code",
   "execution_count": 131,
   "metadata": {},
   "outputs": [],
   "source": [
    "# Number of time steps (number of observations)\n",
    "T = 500\n",
    "\n",
    "# Simulate the T = 500 time teps from the random walk model: x_t = x_{t-1} + u_{1,t}\n",
    "x = np.cumsum(np.random.normal(size=T))"
   ]
  },
  {
   "cell_type": "code",
   "execution_count": null,
   "metadata": {},
   "outputs": [],
   "source": [
    "\n",
    "\n"
   ]
  },
  {
   "cell_type": "markdown",
   "metadata": {},
   "source": [
    "$\\textbf{4.2}$  \n",
    "Next, simulate T = 500 time steps from the model $y_t = \\alpha + \\beta x_t + \\epsilon_t$  \n",
    "where $\\alpha = 0.22$, $\\beta = 2.50$, and $\\epsilon \\sim N(0,1)$ is a white noise process."
   ]
  },
  {
   "cell_type": "code",
   "execution_count": 132,
   "metadata": {},
   "outputs": [
    {
     "data": {
      "text/plain": [
       "[<matplotlib.lines.Line2D at 0x1c3609a48d0>]"
      ]
     },
     "execution_count": 132,
     "metadata": {},
     "output_type": "execute_result"
    },
    {
     "data": {
      "image/png": "[encoded data removed]",
      "text/plain": [
       "<Figure size 432x288 with 1 Axes>"
      ]
     },
     "metadata": {
      "needs_background": "light"
     },
     "output_type": "display_data"
    }
   ],
   "source": [
    "# Parameters for the I(1) process simulated below.\n",
    "alpha = 0.22\n",
    "beta = 2.5\n",
    "\n",
    "# Cointegration data-generating process (white noise~N(0,1) in the equation below)\n",
    "eps_t = np.random.normal()\n",
    "\n",
    "# Simulate the T = 500 time steps from the model: y_t = alpha + beta*x_t + eps_t\n",
    "y = alpha + beta*x + eps_t\n",
    "\n",
    "# Let's plot them together.\n",
    "plt.plot(x)\n",
    "plt.plot(y)"
   ]
  },
  {
   "cell_type": "code",
   "execution_count": null,
   "metadata": {},
   "outputs": [],
   "source": [
    "\n",
    "\n"
   ]
  },
  {
   "cell_type": "markdown",
   "metadata": {},
   "source": [
    "$\\textbf{4.3}$  \n",
    "Use the augmented Dickey-Fuller test to check for the presence of a unit root in both $y_t$ and $x_t$.  \n",
    "What do you find?  \n",
    "What should you find?"
   ]
  },
  {
   "cell_type": "code",
   "execution_count": 133,
   "metadata": {},
   "outputs": [
    {
     "data": {
      "text/plain": [
       "(-2.9088413531512094,\n",
       " 0.1593735428001341,\n",
       " 3,\n",
       " 496,\n",
       " {'1%': -3.9771388706173187,\n",
       "  '5%': -3.419378714066722,\n",
       "  '10%': -3.132279040879324},\n",
       " 2256.3178945404297)"
      ]
     },
     "execution_count": 133,
     "metadata": {},
     "output_type": "execute_result"
    }
   ],
   "source": [
    "adf_y = adfuller(y, regression = \"ct\", maxlag = 10)\n",
    "adf_y"
   ]
  },
  {
   "cell_type": "markdown",
   "metadata": {},
   "source": [
    "Based on the p-value >> 0.05 (or any other common significance level), we fail to reject $H_0$: there is a unit root ($\\phi \\ge 1$), with $H_A$: there is no unit root.  \n",
    "This seems a bit odd, since we know the actual root of this equation is 2.5 (the $\\beta$ set above). But this makes sense: the ADF test is phrased \"If the pvalue is above a critical size, then we cannot reject that there is a unit root.\" In other words, we can't definitvely say that there is not a unit root for this series (double negative, but it's the best way I can articulate it).  \n",
    "Had $\\beta$ been equal to something like 0.3, we would have found a small p-value and rejected $H_0$ (rejected the presence of a unit root for the series $y_t$)."
   ]
  },
  {
   "cell_type": "code",
   "execution_count": 134,
   "metadata": {},
   "outputs": [
    {
     "data": {
      "text/plain": [
       "(-2.908841353151222,\n",
       " 0.15937354280013027,\n",
       " 3,\n",
       " 496,\n",
       " {'1%': -3.9771388706173187,\n",
       "  '5%': -3.419378714066722,\n",
       "  '10%': -3.132279040879324},\n",
       " 1360.1855587675063)"
      ]
     },
     "execution_count": 134,
     "metadata": {},
     "output_type": "execute_result"
    }
   ],
   "source": [
    "adf_x = adfuller(x, regression = \"ct\", maxlag = 10)\n",
    "adf_x"
   ]
  },
  {
   "cell_type": "markdown",
   "metadata": {},
   "source": [
    "Again, based on the p-value >> 0.05 (or any other common significance level) we fail to reject $H_0$ (the same $H_0$ above: presence of a unit root).  \n",
    "This is indeed what we should find. We know this, because the generating process for the $x_t$ series has a value of $\\phi = 1.0$. We didn't explicitly write it in the prompt, but it's implicitly known that the $x_{t-1}$ term in $x_t = x_{t-1} + u_{2,t}$ is multiplied by 1, where this 1 = $\\phi_x$."
   ]
  },
  {
   "cell_type": "code",
   "execution_count": null,
   "metadata": {},
   "outputs": [],
   "source": [
    "\n",
    "\n"
   ]
  },
  {
   "cell_type": "markdown",
   "metadata": {},
   "source": [
    "$\\textbf{4.4}$  \n",
    "Implement the Engle-Granger two-step method by:  \n",
    "$\\textbf{A.}$ First, test for cointegration by submitting $\\hat{\\epsilon_t}$ to the ADF test. What do you find?  \n",
    "$\\textbf{B.}$ Obtain $\\hat{\\beta}$ via OLS.  \n",
    "$\\textbf{C.}$ Estimate the error-correction model with p=1 and include contemporaneous $x_t$."
   ]
  },
  {
   "cell_type": "code",
   "execution_count": null,
   "metadata": {},
   "outputs": [],
   "source": [
    "\n"
   ]
  },
  {
   "cell_type": "markdown",
   "metadata": {},
   "source": [
    "$\\textbf{4.4 -- (A)}$  \n",
    "Test for cointegration by submitting $\\hat{\\epsilon_t}$ to the ADF test. What do you find?"
   ]
  },
  {
   "cell_type": "code",
   "execution_count": 135,
   "metadata": {},
   "outputs": [
    {
     "data": {
      "text/plain": [
       "(-2.0240177220102478,\n",
       " 0.27614245578103713,\n",
       " 8,\n",
       " 491,\n",
       " {'1%': -3.4437386290417082,\n",
       "  '5%': -2.867444458865948,\n",
       "  '10%': -2.5699148492415413},\n",
       " -30445.20859998257)"
      ]
     },
     "execution_count": 135,
     "metadata": {},
     "output_type": "execute_result"
    }
   ],
   "source": [
    "# Calculate the residuals eps_hat_t\n",
    "reg = stats.linregress(x,y)   # regress y on x\n",
    "eps = y - reg.intercept - reg.slope*x\n",
    "\n",
    "# Submit eps_hat_t to the ADF test\n",
    "adf_eps = adfuller(eps, maxlag = 10)\n",
    "adf_eps"
   ]
  },
  {
   "cell_type": "markdown",
   "metadata": {},
   "source": [
    "The small p-value (with the current seed, p-val = 0.335) $\\implies$ no presence of unit-root in epsilon series, which is what we'd expect from a random, white noise process."
   ]
  },
  {
   "cell_type": "code",
   "execution_count": null,
   "metadata": {},
   "outputs": [],
   "source": [
    "\n",
    "\n"
   ]
  },
  {
   "cell_type": "markdown",
   "metadata": {},
   "source": [
    "$\\textbf{4.4 -- (B)}$  \n",
    "Obtain $\\hat{\\beta}$ via OLS."
   ]
  },
  {
   "cell_type": "code",
   "execution_count": 136,
   "metadata": {},
   "outputs": [
    {
     "data": {
      "text/plain": [
       "2.4999999999999996"
      ]
     },
     "execution_count": 136,
     "metadata": {},
     "output_type": "execute_result"
    }
   ],
   "source": [
    "beta_hat = reg.slope\n",
    "beta_hat"
   ]
  },
  {
   "cell_type": "markdown",
   "metadata": {},
   "source": [
    "This comes out to be $\\hat{\\beta} = 2.5$, which is what we specified at the beginning of the problem."
   ]
  },
  {
   "cell_type": "code",
   "execution_count": null,
   "metadata": {},
   "outputs": [],
   "source": [
    "\n",
    "\n"
   ]
  },
  {
   "cell_type": "markdown",
   "metadata": {},
   "source": [
    "$\\textbf{4.5 -- (C)}$  \n",
    "Estimate the error-correction model with p=1 and contemporaneous $x_t$."
   ]
  },
  {
   "cell_type": "markdown",
   "metadata": {},
   "source": [
    "To fix the problem of spurrious regression, we have to do differencing to make the series stationary.  \n",
    "Change: $ \\bigg[y_t = y_{t-1} + \\epsilon_t \\bigg]\n",
    "\\rightarrow \\bigg[ y_t - y_{t-1} = \\epsilon_t \\bigg]\n",
    "= \\bigg[ \\Delta Y = \\epsilon_t \\bigg] $  \n",
    "\n",
    "Then regress $\\Delta Y$ on $\\Delta X$: $ \\bigg[ {\\Delta Y}_t = \\alpha + \\beta {\\Delta X}_t + \\epsilon_t \\bigg]$  \n",
    "Here $\\beta = \\bigg[ \\dfrac{Cov(\\Delta Y, \\Delta X)}{Var(\\Delta X)} \\bigg]\n",
    "= \\bigg[ \\rho \\dfrac{\\sigma_{\\Delta Y}}{\\sigma_{\\Delta X}} \\bigg] $\n",
    "\n"
   ]
  },
  {
   "cell_type": "markdown",
   "metadata": {},
   "source": [
    "For:  \n",
    "- $ y_t \\sim I(1) $  \n",
    "- $ x_t \\sim I(1) $  \n",
    "- $ \\hat{\\epsilon_t} \\sim I(0) $  \n",
    "- $ y_t = \\alpha + \\beta x_t + \\epsilon_t $  \n",
    "- $ \\big(E[\\nu_{i,t}] = 0 \\big)$ for $i \\in \\{1,2\\}$ white noise error process\n",
    "    \n",
    "- We'll get the cointegrating vector [1, -$\\beta$] $\\rightarrow \\beta$ gives an indication of how strong the relationship is between the series ${x_t}$ and ${y_t}$. Larger $ | \\beta | $ means stronger cointegration.\n",
    "- With strong cointegration the asymptotic properties of the beta estimator are even better than for beta in a standard, cross-sectional OLS regression.\n",
    "    \n",
    "Every CoInt relationship implies an ERROR CORRECTION FORM:  \n",
    "${\\Delta y}_t, {\\Delta x}_t$  \n",
    "$y_t, x_t \\rightarrow  \\hat{\\epsilon_t} = \\bigg[ y_{t-1} - \\hat{\\alpha} - \\hat{\\beta}  x_{t-1} \\bigg] $\n",
    "    \n",
    "ECM(1) -- equation1:  \n",
    "-----------------------------\n",
    "$ \\bigg[ {\\Delta y}_t = (\\mu_1) + (\\lambda_1)(\\hat{\\epsilon_t})\n",
    "                   + (\\gamma_1)({\\Delta y}_{t-1}) + (\\delta_1)({\\Delta x}_{t-1}) + (\\nu_{1,t}) \\bigg] == $   \n",
    "$ \\bigg[ (y_t - y_{t-1}) = (\\mu_1) + (\\lambda_1) \\big( y_{t-1} - \\hat{\\alpha} - \\hat{\\beta} x_{t-1} \\big)\n",
    "      + (\\gamma_1) \\big( y_{t-1} - y_{t-2} \\big) + (\\delta_1) \\big( x_{t-1} - x_{t-2} \\big) + (\\nu_{1,t}) \\bigg] $\n",
    "        \n",
    "ECM(1) -- equation2: \n",
    "-----------------------------\n",
    "$ \\bigg[ {\\Delta x}_t = (\\mu_2) + (\\lambda_2)(\\hat{\\epsilon_t})\n",
    "                   + (\\gamma_2)({\\Delta y}_{t-1}) + (\\delta_2)({\\Delta x}_{t-1}) + (\\nu_{2,t}) \\bigg] == $   \n",
    "$ \\bigg[ (x_t - x_{t-1}) = (\\mu_2) + (\\lambda_2) \\big( y_{t-1} - \\hat{\\alpha} - \\hat{\\beta} x_{t-1} \\big)\n",
    "      + (\\gamma_2) \\big( y_{t-1} - y_{t-2} \\big) + (\\delta_2) \\big( x_{t-1} - x_{t-2} \\big) + (\\nu_{2,t}) \\bigg] $\n",
    "        \n",
    " \n",
    "- where $\\lambda_i$ is the speed of return to equilibrium: want large $ | \\lambda_i | $, and we want high variation also for pairs trading.\n",
    "- ideal pairs trading has high volatility (large variance in $\\hat{\\epsilon_t}$), large $ | \\lambda_i | $ and large $ | \\hat{\\beta} | $"
   ]
  },
  {
   "cell_type": "code",
   "execution_count": 137,
   "metadata": {},
   "outputs": [
    {
     "data": {
      "text/plain": [
       "3.885780586188048e-16"
      ]
     },
     "execution_count": 137,
     "metadata": {},
     "output_type": "execute_result"
    }
   ],
   "source": [
    "# This creates the deltaY and deltaX series\n",
    "deltaY = y[1:] - y[:-1]\n",
    "deltaX = x[1:] - x[:-1]\n",
    "\n",
    "# These arrays need to have the same length(s) and cut off the first value\n",
    "# in order to do the ECM model above.\n",
    "deltaY.shape\n",
    "deltaX.shape\n",
    "eps.shape\n",
    "\n",
    "deltaY = deltaY[1:]\n",
    "deltaX = deltaX[1:]\n",
    "eps = eps[2:]\n",
    "\n",
    "\n",
    "# Design matrix for our regression: we need N-2 rows, and 4 columns (4 terms in the regr)\n",
    "X = np.ones((T-2,4))\n",
    "X[:,1] = eps\n",
    "X[:,2] = deltaY\n",
    "X[:,3] = deltaX\n",
    "Y = deltaY\n",
    "\n",
    "\n",
    "# Now run regression of Y on X\n",
    "# Use statsmodels or sk-learn to do the regression (statsmodels)\n",
    "clf = linear_model.LinearRegression()\n",
    "fitted_VECM_1 = clf.fit(X, Y)"
   ]
  },
  {
   "cell_type": "markdown",
   "metadata": {},
   "source": [
    "The parameter estimates for the regression of $y_t$ on $x_t$ in the VECM model equation  \n",
    "$ \\bigg[ {\\Delta y}_t = (\\mu_1) + (\\lambda_1)(\\hat{\\epsilon_t})\n",
    "                   + (\\gamma_1)({\\Delta y}_{t-1}) + (\\delta_1)({\\Delta x}_{t-1}) + (\\nu_{1,t}) \\bigg] $   \n",
    "are (in order  $\\mu_1, \\lambda_1, \\gamma_1, \\delta_1$):"
   ]
  },
  {
   "cell_type": "code",
   "execution_count": 138,
   "metadata": {},
   "outputs": [
    {
     "data": {
      "text/plain": [
       "array([ 0.        , -0.12493474,  0.97984728,  0.05038181])"
      ]
     },
     "execution_count": 138,
     "metadata": {},
     "output_type": "execute_result"
    }
   ],
   "source": [
    "# This gives parameter estimates when regression Y on X, in the order:\n",
    "#  mu_1, lambda_1, gamma_1, delta_1\n",
    "fitted_VECM_1.coef_"
   ]
  },
  {
   "cell_type": "code",
   "execution_count": null,
   "metadata": {},
   "outputs": [],
   "source": [
    "#=== We have to do this again, but for estimating the deltaX series by regressing\n",
    "#=== X on Y (since they're related to each other).\n",
    "\n",
    "# Now run regression of X on Y\n",
    "# Use statsmodels or sk-learn to do the regression (statsmodels)\n",
    "fitted_VECM_2 = clf.fit(X, deltaX)"
   ]
  },
  {
   "cell_type": "markdown",
   "metadata": {},
   "source": [
    "The parameter estimates for the regression of $x_t$ on $y_t$ in the VECM model equation   \n",
    "$ \\bigg[ {\\Delta x}_t = (\\mu_2) + (\\lambda_2)(\\hat{\\epsilon_t})\n",
    "                   + (\\gamma_2)({\\Delta y}_{t-1}) + (\\delta_2)({\\Delta x}_{t-1}) + (\\nu_{2,t}) \\bigg] $   \n",
    "are (in order  $\\mu_2, \\lambda_2, \\gamma_2, \\delta_2$):"
   ]
  },
  {
   "cell_type": "code",
   "execution_count": 139,
   "metadata": {},
   "outputs": [
    {
     "data": {
      "text/plain": [
       "array([0.        , 0.04985637, 0.34507434, 0.13731414])"
      ]
     },
     "execution_count": 139,
     "metadata": {},
     "output_type": "execute_result"
    }
   ],
   "source": [
    "# This gives parameter estimates when regression Y on X, in the order:\n",
    "#  mu_2, lambda_2, gamma_2, delta_2\n",
    "fitted_VECM_2.coef_"
   ]
  }
 ],
 "metadata": {
  "kernelspec": {
   "display_name": "Python 3",
   "language": "python",
   "name": "python3"
  },
  "language_info": {
   "codemirror_mode": {
    "name": "ipython",
    "version": 3
   },
   "file_extension": ".py",
   "mimetype": "text/x-python",
   "name": "python",
   "nbconvert_exporter": "python",
   "pygments_lexer": "ipython3",
   "version": "3.6.4"
  }
 },
 "nbformat": 4,
 "nbformat_minor": 2
}
